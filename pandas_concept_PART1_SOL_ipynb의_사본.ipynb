{
  "nbformat": 4,
  "nbformat_minor": 0,
  "metadata": {
    "colab": {
      "name": "pandas_concept_PART1_SOL.ipynb의 사본",
      "provenance": [],
      "collapsed_sections": [
        "UjTLFNPG2RBa"
      ],
      "include_colab_link": true
    },
    "kernelspec": {
      "display_name": "Python 3",
      "language": "python",
      "name": "python3"
    },
    "language_info": {
      "codemirror_mode": {
        "name": "ipython",
        "version": 3
      },
      "file_extension": ".py",
      "mimetype": "text/x-python",
      "name": "python",
      "nbconvert_exporter": "python",
      "pygments_lexer": "ipython3",
      "version": "3.7.6"
    }
  },
  "cells": [
    {
      "cell_type": "markdown",
      "metadata": {
        "id": "view-in-github",
        "colab_type": "text"
      },
      "source": [
        "<a href=\"https://colab.research.google.com/github/manisykh/1stpjt/blob/master/pandas_concept_PART1_SOL_ipynb%EC%9D%98_%EC%82%AC%EB%B3%B8.ipynb\" target=\"_parent\"><img src=\"https://colab.research.google.com/assets/colab-badge.svg\" alt=\"Open In Colab\"/></a>"
      ]
    },
    {
      "cell_type": "markdown",
      "metadata": {
        "id": "mw3KErVSKR-p"
      },
      "source": [
        "### 0.Prolog"
      ]
    },
    {
      "cell_type": "code",
      "metadata": {
        "id": "rpdCM89xzkBq",
        "colab": {
          "base_uri": "https://localhost:8080/"
        },
        "outputId": "68eb6b50-023e-4306-b60b-75c1100e3f1d"
      },
      "source": [
        "from google.colab import drive\n",
        "drive.mount('/content/drive')"
      ],
      "execution_count": null,
      "outputs": [
        {
          "output_type": "stream",
          "text": [
            "Mounted at /content/drive\n"
          ],
          "name": "stdout"
        }
      ]
    },
    {
      "cell_type": "code",
      "metadata": {
        "id": "ZhI9aQ7mZDxm",
        "colab": {
          "base_uri": "https://localhost:8080/"
        },
        "outputId": "d68469ec-3a8a-4bf3-8900-de056519a50d"
      },
      "source": [
        "import os\n",
        "os.chdir('/content/drive/My Drive/band/data')\n",
        "print(os.getcwd())"
      ],
      "execution_count": null,
      "outputs": [
        {
          "output_type": "stream",
          "text": [
            "/content/drive/My Drive/band/data\n"
          ],
          "name": "stdout"
        }
      ]
    },
    {
      "cell_type": "code",
      "metadata": {
        "id": "EzNBlPMOV2DU"
      },
      "source": [
        "import pandas as pd\n",
        "import numpy as np"
      ],
      "execution_count": null,
      "outputs": []
    },
    {
      "cell_type": "markdown",
      "metadata": {
        "id": "LqhpagaE1ep7"
      },
      "source": [
        "### 1.파일에서 읽어오기"
      ]
    },
    {
      "cell_type": "markdown",
      "metadata": {
        "id": "FdfoQ1kKkAFM"
      },
      "source": [
        "#### 1) DataFrame\n",
        "- 2차원구조\n",
        "- index, columns, values"
      ]
    },
    {
      "cell_type": "code",
      "metadata": {
        "id": "Bm-R4rnT0DyW",
        "colab": {
          "base_uri": "https://localhost:8080/",
          "height": 129
        },
        "outputId": "5b89e2ea-112b-4bb2-9e1f-50822b614638"
      },
      "source": [
        "data = pd.read_csv('easySample.csv')\n",
        "print(type(data))\n",
        "data.head(2)"
      ],
      "execution_count": null,
      "outputs": [
        {
          "output_type": "stream",
          "text": [
            "<class 'pandas.core.frame.DataFrame'>\n"
          ],
          "name": "stdout"
        },
        {
          "output_type": "execute_result",
          "data": {
            "text/html": [
              "<div>\n",
              "<style scoped>\n",
              "    .dataframe tbody tr th:only-of-type {\n",
              "        vertical-align: middle;\n",
              "    }\n",
              "\n",
              "    .dataframe tbody tr th {\n",
              "        vertical-align: top;\n",
              "    }\n",
              "\n",
              "    .dataframe thead th {\n",
              "        text-align: right;\n",
              "    }\n",
              "</style>\n",
              "<table border=\"1\" class=\"dataframe\">\n",
              "  <thead>\n",
              "    <tr style=\"text-align: right;\">\n",
              "      <th></th>\n",
              "      <th>ID</th>\n",
              "      <th>pname</th>\n",
              "      <th>birth</th>\n",
              "      <th>dept</th>\n",
              "      <th>english</th>\n",
              "      <th>japanese</th>\n",
              "      <th>chinese</th>\n",
              "    </tr>\n",
              "  </thead>\n",
              "  <tbody>\n",
              "    <tr>\n",
              "      <th>0</th>\n",
              "      <td>18030201</td>\n",
              "      <td>James Kim</td>\n",
              "      <td>1990-01-23</td>\n",
              "      <td>Education</td>\n",
              "      <td>1.0</td>\n",
              "      <td>1.0</td>\n",
              "      <td>NaN</td>\n",
              "    </tr>\n",
              "    <tr>\n",
              "      <th>1</th>\n",
              "      <td>18030202</td>\n",
              "      <td>Rose Hwang</td>\n",
              "      <td>1992-10-11</td>\n",
              "      <td>Marketing</td>\n",
              "      <td>NaN</td>\n",
              "      <td>2.0</td>\n",
              "      <td>NaN</td>\n",
              "    </tr>\n",
              "  </tbody>\n",
              "</table>\n",
              "</div>"
            ],
            "text/plain": [
              "         ID       pname       birth       dept  english  japanese  chinese\n",
              "0  18030201   James Kim  1990-01-23  Education      1.0       1.0      NaN\n",
              "1  18030202  Rose Hwang  1992-10-11  Marketing      NaN       2.0      NaN"
            ]
          },
          "metadata": {
            "tags": []
          },
          "execution_count": 5
        }
      ]
    },
    {
      "cell_type": "code",
      "metadata": {
        "id": "gaHfaBVBkXMZ",
        "colab": {
          "base_uri": "https://localhost:8080/",
          "height": 36
        },
        "outputId": "4c1f822d-7be1-4410-d90f-cb9b76bb9c35"
      },
      "source": [
        "os.chdir('/content/drive/My Drive/band/pandasLesson')\n",
        "print(os.getcwd())"
      ],
      "execution_count": null,
      "outputs": [
        {
          "output_type": "stream",
          "text": [
            "/content/drive/My Drive/band/pandasLesson\n"
          ],
          "name": "stdout"
        }
      ]
    },
    {
      "cell_type": "code",
      "metadata": {
        "id": "jhv2AFI7YRbX",
        "colab": {
          "base_uri": "https://localhost:8080/",
          "height": 141
        },
        "outputId": "5a66242f-b962-4ea5-994b-3535e64d7a53"
      },
      "source": [
        "# ../  : 상위 디렉터리\n",
        "# ./ : 현재 디렉터리\n",
        "# name/ : 하위 디렉터리\n",
        "data = pd.read_csv('../data/easySample.csv', index_col='ID')\n",
        "data.head(2)"
      ],
      "execution_count": null,
      "outputs": [
        {
          "output_type": "execute_result",
          "data": {
            "text/html": [
              "<div>\n",
              "<style scoped>\n",
              "    .dataframe tbody tr th:only-of-type {\n",
              "        vertical-align: middle;\n",
              "    }\n",
              "\n",
              "    .dataframe tbody tr th {\n",
              "        vertical-align: top;\n",
              "    }\n",
              "\n",
              "    .dataframe thead th {\n",
              "        text-align: right;\n",
              "    }\n",
              "</style>\n",
              "<table border=\"1\" class=\"dataframe\">\n",
              "  <thead>\n",
              "    <tr style=\"text-align: right;\">\n",
              "      <th></th>\n",
              "      <th>pname</th>\n",
              "      <th>birth</th>\n",
              "      <th>dept</th>\n",
              "      <th>english</th>\n",
              "      <th>japanese</th>\n",
              "      <th>chinese</th>\n",
              "    </tr>\n",
              "    <tr>\n",
              "      <th>ID</th>\n",
              "      <th></th>\n",
              "      <th></th>\n",
              "      <th></th>\n",
              "      <th></th>\n",
              "      <th></th>\n",
              "      <th></th>\n",
              "    </tr>\n",
              "  </thead>\n",
              "  <tbody>\n",
              "    <tr>\n",
              "      <th>18030201</th>\n",
              "      <td>James Kim</td>\n",
              "      <td>1990-01-23</td>\n",
              "      <td>Education</td>\n",
              "      <td>1.0</td>\n",
              "      <td>1.0</td>\n",
              "      <td>NaN</td>\n",
              "    </tr>\n",
              "    <tr>\n",
              "      <th>18030202</th>\n",
              "      <td>Rose Hwang</td>\n",
              "      <td>1992-10-11</td>\n",
              "      <td>Marketing</td>\n",
              "      <td>NaN</td>\n",
              "      <td>2.0</td>\n",
              "      <td>NaN</td>\n",
              "    </tr>\n",
              "  </tbody>\n",
              "</table>\n",
              "</div>"
            ],
            "text/plain": [
              "               pname       birth       dept  english  japanese  chinese\n",
              "ID                                                                     \n",
              "18030201   James Kim  1990-01-23  Education      1.0       1.0      NaN\n",
              "18030202  Rose Hwang  1992-10-11  Marketing      NaN       2.0      NaN"
            ]
          },
          "metadata": {
            "tags": []
          },
          "execution_count": 11
        }
      ]
    },
    {
      "cell_type": "code",
      "metadata": {
        "id": "c0PlejWg4SN9"
      },
      "source": [
        "# DataFrame\n",
        "# - index, columns, values\n",
        "# - index(row), columns(column) => Index type, DataFrame은 2개의 Index 사용\n",
        "# - values => ndarray type"
      ],
      "execution_count": null,
      "outputs": []
    },
    {
      "cell_type": "code",
      "metadata": {
        "id": "D-wKbQ7Anwd9",
        "colab": {
          "base_uri": "https://localhost:8080/",
          "height": 36
        },
        "outputId": "0d21ea53-1ba8-4f5c-d1e8-eafcdd3ec9a3"
      },
      "source": [
        "data.index"
      ],
      "execution_count": null,
      "outputs": [
        {
          "output_type": "execute_result",
          "data": {
            "text/plain": [
              "Int64Index([18030201, 18030202, 19030401, 19070101, 19070102, 19070103], dtype='int64', name='ID')"
            ]
          },
          "metadata": {
            "tags": []
          },
          "execution_count": 13
        }
      ]
    },
    {
      "cell_type": "code",
      "metadata": {
        "id": "8FDSaXSa4_YS",
        "colab": {
          "base_uri": "https://localhost:8080/",
          "height": 36
        },
        "outputId": "a7ae0ae8-704b-4c6d-a886-d97dcc150c82"
      },
      "source": [
        "data.columns"
      ],
      "execution_count": null,
      "outputs": [
        {
          "output_type": "execute_result",
          "data": {
            "text/plain": [
              "Index(['pname', 'birth', 'dept', 'english', 'japanese', 'chinese'], dtype='object')"
            ]
          },
          "metadata": {
            "tags": []
          },
          "execution_count": 14
        }
      ]
    },
    {
      "cell_type": "code",
      "metadata": {
        "id": "cC8O8Wl45TLj",
        "colab": {
          "base_uri": "https://localhost:8080/",
          "height": 167
        },
        "outputId": "3aa09393-70f7-45cd-9608-f3401750859f"
      },
      "source": [
        "print(type(data.values))\n",
        "data.values"
      ],
      "execution_count": null,
      "outputs": [
        {
          "output_type": "stream",
          "text": [
            "<class 'numpy.ndarray'>\n"
          ],
          "name": "stdout"
        },
        {
          "output_type": "execute_result",
          "data": {
            "text/plain": [
              "array([['James Kim', '1990-01-23', 'Education', 1.0, 1.0, nan],\n",
              "       ['Rose Hwang', '1992-10-11', 'Marketing', nan, 2.0, nan],\n",
              "       ['Sam Park', '1995-07-02', 'Education', 1.0, nan, nan],\n",
              "       ['Chris Jang', '1990-11-23', 'Education', nan, nan, 3.0],\n",
              "       ['Grace Lee', '1993-02-01', 'Marketing', nan, nan, nan],\n",
              "       ['Juile Yoon', '1992-07-16', 'Education', nan, nan, 1.0]],\n",
              "      dtype=object)"
            ]
          },
          "metadata": {
            "tags": []
          },
          "execution_count": 15
        }
      ]
    },
    {
      "cell_type": "code",
      "metadata": {
        "id": "H2rFhjPE3lpO",
        "colab": {
          "base_uri": "https://localhost:8080/",
          "height": 36
        },
        "outputId": "0210d7a0-f018-46c9-a6be-77b5c4921646"
      },
      "source": [
        "os.chdir('/content/drive/My Drive/band/data')\n",
        "print(os.getcwd())"
      ],
      "execution_count": null,
      "outputs": [
        {
          "output_type": "stream",
          "text": [
            "/content/drive/My Drive/band/data\n"
          ],
          "name": "stdout"
        }
      ]
    },
    {
      "cell_type": "code",
      "metadata": {
        "id": "tIhF_v0c0GKY"
      },
      "source": [
        "data = pd.read_csv('easySample_woHeader.csv',\n",
        "                   header = None,\n",
        "                   names = ['ID','name','birth','dept',\n",
        "                           'english','japanese','chinese'],\n",
        "                   index_col = 'ID')\n",
        "data"
      ],
      "execution_count": null,
      "outputs": []
    },
    {
      "cell_type": "code",
      "metadata": {
        "id": "mEqdvLvB0-3W"
      },
      "source": [
        "# 엑셀 파일을 읽어 DataFrame 객체 반환\n",
        "# index_col 지정시 column 번호를 사용하거나 lable을 사용할 수 있음\n",
        "data = pd.read_excel('easySample.xlsx', index_col=0)\n",
        "data"
      ],
      "execution_count": null,
      "outputs": []
    },
    {
      "cell_type": "code",
      "metadata": {
        "id": "BaqdRMRd1NKW"
      },
      "source": [
        "# 텍스트 파일(sep='\\t'이 기본)을 읽어 DataFrame 객체 반환\n",
        "data = pd.read_table('easySample.txt',\n",
        "                      sep=',',\n",
        "                      names = ['ID','name','birth','dept',\n",
        "                              'english','japanese','chinese'],\n",
        "                      index_col = 'ID')\n",
        "print(data)"
      ],
      "execution_count": null,
      "outputs": []
    },
    {
      "cell_type": "markdown",
      "metadata": {
        "id": "CfXr95db1px3"
      },
      "source": [
        "### 2.DataFrame 속성 확인하기"
      ]
    },
    {
      "cell_type": "code",
      "metadata": {
        "id": "x9IYV_SL1u2Z"
      },
      "source": [
        "def printAttr(w):\n",
        "    print(type(w), w, sep='\\n')\n",
        "    print(\"-\" * 75)"
      ],
      "execution_count": null,
      "outputs": []
    },
    {
      "cell_type": "code",
      "metadata": {
        "id": "wbdiHqtWyh0f"
      },
      "source": [
        "import pandas as pd\n",
        "import numpy as np"
      ],
      "execution_count": null,
      "outputs": []
    },
    {
      "cell_type": "code",
      "metadata": {
        "id": "Q4JBfYrL1wmt"
      },
      "source": [
        "data = pd.read_csv('easySample.csv', index_col=0)"
      ],
      "execution_count": null,
      "outputs": []
    },
    {
      "cell_type": "code",
      "metadata": {
        "id": "y_JBSqDb7Zt7",
        "colab": {
          "base_uri": "https://localhost:8080/",
          "height": 172
        },
        "outputId": "b285ebb5-eb86-44c4-d54f-4178e790556b"
      },
      "source": [
        "data.head(3)"
      ],
      "execution_count": null,
      "outputs": [
        {
          "output_type": "execute_result",
          "data": {
            "text/html": [
              "<div>\n",
              "<style scoped>\n",
              "    .dataframe tbody tr th:only-of-type {\n",
              "        vertical-align: middle;\n",
              "    }\n",
              "\n",
              "    .dataframe tbody tr th {\n",
              "        vertical-align: top;\n",
              "    }\n",
              "\n",
              "    .dataframe thead th {\n",
              "        text-align: right;\n",
              "    }\n",
              "</style>\n",
              "<table border=\"1\" class=\"dataframe\">\n",
              "  <thead>\n",
              "    <tr style=\"text-align: right;\">\n",
              "      <th></th>\n",
              "      <th>pname</th>\n",
              "      <th>birth</th>\n",
              "      <th>dept</th>\n",
              "      <th>english</th>\n",
              "      <th>japanese</th>\n",
              "      <th>chinese</th>\n",
              "    </tr>\n",
              "    <tr>\n",
              "      <th>ID</th>\n",
              "      <th></th>\n",
              "      <th></th>\n",
              "      <th></th>\n",
              "      <th></th>\n",
              "      <th></th>\n",
              "      <th></th>\n",
              "    </tr>\n",
              "  </thead>\n",
              "  <tbody>\n",
              "    <tr>\n",
              "      <th>18030201</th>\n",
              "      <td>James Kim</td>\n",
              "      <td>1990-01-23</td>\n",
              "      <td>Education</td>\n",
              "      <td>1.0</td>\n",
              "      <td>1.0</td>\n",
              "      <td>NaN</td>\n",
              "    </tr>\n",
              "    <tr>\n",
              "      <th>18030202</th>\n",
              "      <td>Rose Hwang</td>\n",
              "      <td>1992-10-11</td>\n",
              "      <td>Marketing</td>\n",
              "      <td>NaN</td>\n",
              "      <td>2.0</td>\n",
              "      <td>NaN</td>\n",
              "    </tr>\n",
              "    <tr>\n",
              "      <th>19030401</th>\n",
              "      <td>Sam Park</td>\n",
              "      <td>1995-07-02</td>\n",
              "      <td>Education</td>\n",
              "      <td>1.0</td>\n",
              "      <td>NaN</td>\n",
              "      <td>NaN</td>\n",
              "    </tr>\n",
              "  </tbody>\n",
              "</table>\n",
              "</div>"
            ],
            "text/plain": [
              "               pname       birth       dept  english  japanese  chinese\n",
              "ID                                                                     \n",
              "18030201   James Kim  1990-01-23  Education      1.0       1.0      NaN\n",
              "18030202  Rose Hwang  1992-10-11  Marketing      NaN       2.0      NaN\n",
              "19030401    Sam Park  1995-07-02  Education      1.0       NaN      NaN"
            ]
          },
          "metadata": {
            "tags": []
          },
          "execution_count": 4
        }
      ]
    },
    {
      "cell_type": "code",
      "metadata": {
        "id": "e5ZoaVpuYRbu",
        "colab": {
          "base_uri": "https://localhost:8080/",
          "height": 234
        },
        "outputId": "bba9f708-add6-4fbc-ab49-ece066674ca5"
      },
      "source": [
        "data.tail()"
      ],
      "execution_count": null,
      "outputs": [
        {
          "output_type": "execute_result",
          "data": {
            "text/html": [
              "<div>\n",
              "<style scoped>\n",
              "    .dataframe tbody tr th:only-of-type {\n",
              "        vertical-align: middle;\n",
              "    }\n",
              "\n",
              "    .dataframe tbody tr th {\n",
              "        vertical-align: top;\n",
              "    }\n",
              "\n",
              "    .dataframe thead th {\n",
              "        text-align: right;\n",
              "    }\n",
              "</style>\n",
              "<table border=\"1\" class=\"dataframe\">\n",
              "  <thead>\n",
              "    <tr style=\"text-align: right;\">\n",
              "      <th></th>\n",
              "      <th>pname</th>\n",
              "      <th>birth</th>\n",
              "      <th>dept</th>\n",
              "      <th>english</th>\n",
              "      <th>japanese</th>\n",
              "      <th>chinese</th>\n",
              "    </tr>\n",
              "    <tr>\n",
              "      <th>ID</th>\n",
              "      <th></th>\n",
              "      <th></th>\n",
              "      <th></th>\n",
              "      <th></th>\n",
              "      <th></th>\n",
              "      <th></th>\n",
              "    </tr>\n",
              "  </thead>\n",
              "  <tbody>\n",
              "    <tr>\n",
              "      <th>18030202</th>\n",
              "      <td>Rose Hwang</td>\n",
              "      <td>1992-10-11</td>\n",
              "      <td>Marketing</td>\n",
              "      <td>NaN</td>\n",
              "      <td>2.0</td>\n",
              "      <td>NaN</td>\n",
              "    </tr>\n",
              "    <tr>\n",
              "      <th>19030401</th>\n",
              "      <td>Sam Park</td>\n",
              "      <td>1995-07-02</td>\n",
              "      <td>Education</td>\n",
              "      <td>1.0</td>\n",
              "      <td>NaN</td>\n",
              "      <td>NaN</td>\n",
              "    </tr>\n",
              "    <tr>\n",
              "      <th>19070101</th>\n",
              "      <td>Chris Jang</td>\n",
              "      <td>1990-11-23</td>\n",
              "      <td>Education</td>\n",
              "      <td>NaN</td>\n",
              "      <td>NaN</td>\n",
              "      <td>3.0</td>\n",
              "    </tr>\n",
              "    <tr>\n",
              "      <th>19070102</th>\n",
              "      <td>Grace Lee</td>\n",
              "      <td>1993-02-01</td>\n",
              "      <td>Marketing</td>\n",
              "      <td>NaN</td>\n",
              "      <td>NaN</td>\n",
              "      <td>NaN</td>\n",
              "    </tr>\n",
              "    <tr>\n",
              "      <th>19070103</th>\n",
              "      <td>Juile Yoon</td>\n",
              "      <td>1992-07-16</td>\n",
              "      <td>Education</td>\n",
              "      <td>NaN</td>\n",
              "      <td>NaN</td>\n",
              "      <td>1.0</td>\n",
              "    </tr>\n",
              "  </tbody>\n",
              "</table>\n",
              "</div>"
            ],
            "text/plain": [
              "               pname       birth       dept  english  japanese  chinese\n",
              "ID                                                                     \n",
              "18030202  Rose Hwang  1992-10-11  Marketing      NaN       2.0      NaN\n",
              "19030401    Sam Park  1995-07-02  Education      1.0       NaN      NaN\n",
              "19070101  Chris Jang  1990-11-23  Education      NaN       NaN      3.0\n",
              "19070102   Grace Lee  1993-02-01  Marketing      NaN       NaN      NaN\n",
              "19070103  Juile Yoon  1992-07-16  Education      NaN       NaN      1.0"
            ]
          },
          "metadata": {
            "tags": []
          },
          "execution_count": 7
        }
      ]
    },
    {
      "cell_type": "code",
      "metadata": {
        "id": "4-ZLrOFY17-d",
        "colab": {
          "base_uri": "https://localhost:8080/",
          "height": 129
        },
        "outputId": "790f72d0-da99-4e93-fe1b-5db0c2d97932"
      },
      "source": [
        "printAttr(data.index)\n",
        "printAttr(data.columns)\n",
        "# index, Index (type)"
      ],
      "execution_count": null,
      "outputs": [
        {
          "output_type": "stream",
          "text": [
            "<class 'pandas.core.indexes.numeric.Int64Index'>\n",
            "Int64Index([18030201, 18030202, 19030401, 19070101, 19070102, 19070103], dtype='int64', name='ID')\n",
            "---------------------------------------------------------------------------\n",
            "<class 'pandas.core.indexes.base.Index'>\n",
            "Index(['pname', 'birth', 'dept', 'english', 'japanese', 'chinese'], dtype='object')\n",
            "---------------------------------------------------------------------------\n"
          ],
          "name": "stdout"
        }
      ]
    },
    {
      "cell_type": "code",
      "metadata": {
        "id": "ySelnqsq1_Bt",
        "colab": {
          "base_uri": "https://localhost:8080/",
          "height": 325
        },
        "outputId": "006253ba-2259-4d32-a709-326e3ed1cb43"
      },
      "source": [
        "printAttr(data.values)\n",
        "printAttr(data.index.values)\n",
        "printAttr(data.columns.values)\n",
        "printAttr(data.index.name)"
      ],
      "execution_count": null,
      "outputs": [
        {
          "output_type": "stream",
          "text": [
            "<class 'numpy.ndarray'>\n",
            "[['James Kim' '1990-01-23' 'Education' 1.0 1.0 nan]\n",
            " ['Rose Hwang' '1992-10-11' 'Marketing' nan 2.0 nan]\n",
            " ['Sam Park' '1995-07-02' 'Education' 1.0 nan nan]\n",
            " ['Chris Jang' '1990-11-23' 'Education' nan nan 3.0]\n",
            " ['Grace Lee' '1993-02-01' 'Marketing' nan nan nan]\n",
            " ['Juile Yoon' '1992-07-16' 'Education' nan nan 1.0]]\n",
            "---------------------------------------------------------------------------\n",
            "<class 'numpy.ndarray'>\n",
            "[18030201 18030202 19030401 19070101 19070102 19070103]\n",
            "---------------------------------------------------------------------------\n",
            "<class 'numpy.ndarray'>\n",
            "['pname' 'birth' 'dept' 'english' 'japanese' 'chinese']\n",
            "---------------------------------------------------------------------------\n",
            "<class 'str'>\n",
            "ID\n",
            "---------------------------------------------------------------------------\n"
          ],
          "name": "stdout"
        }
      ]
    },
    {
      "cell_type": "code",
      "metadata": {
        "id": "7QxdarTr8L3S",
        "colab": {
          "base_uri": "https://localhost:8080/",
          "height": 265
        },
        "outputId": "9882b95a-9d12-465c-e8b2-a3fcdaf6ed24"
      },
      "source": [
        "data.index = list(\"abcdef\")\n",
        "data.columns = list(\"ABCDEF\")\n",
        "data.index.name = \"myIndex\"\n",
        "data"
      ],
      "execution_count": null,
      "outputs": [
        {
          "output_type": "execute_result",
          "data": {
            "text/html": [
              "<div>\n",
              "<style scoped>\n",
              "    .dataframe tbody tr th:only-of-type {\n",
              "        vertical-align: middle;\n",
              "    }\n",
              "\n",
              "    .dataframe tbody tr th {\n",
              "        vertical-align: top;\n",
              "    }\n",
              "\n",
              "    .dataframe thead th {\n",
              "        text-align: right;\n",
              "    }\n",
              "</style>\n",
              "<table border=\"1\" class=\"dataframe\">\n",
              "  <thead>\n",
              "    <tr style=\"text-align: right;\">\n",
              "      <th></th>\n",
              "      <th>A</th>\n",
              "      <th>B</th>\n",
              "      <th>C</th>\n",
              "      <th>D</th>\n",
              "      <th>E</th>\n",
              "      <th>F</th>\n",
              "    </tr>\n",
              "    <tr>\n",
              "      <th>myIndex</th>\n",
              "      <th></th>\n",
              "      <th></th>\n",
              "      <th></th>\n",
              "      <th></th>\n",
              "      <th></th>\n",
              "      <th></th>\n",
              "    </tr>\n",
              "  </thead>\n",
              "  <tbody>\n",
              "    <tr>\n",
              "      <th>a</th>\n",
              "      <td>James Kim</td>\n",
              "      <td>1990-01-23</td>\n",
              "      <td>Education</td>\n",
              "      <td>1.0</td>\n",
              "      <td>1.0</td>\n",
              "      <td>NaN</td>\n",
              "    </tr>\n",
              "    <tr>\n",
              "      <th>b</th>\n",
              "      <td>Rose Hwang</td>\n",
              "      <td>1992-10-11</td>\n",
              "      <td>Marketing</td>\n",
              "      <td>NaN</td>\n",
              "      <td>2.0</td>\n",
              "      <td>NaN</td>\n",
              "    </tr>\n",
              "    <tr>\n",
              "      <th>c</th>\n",
              "      <td>Sam Park</td>\n",
              "      <td>1995-07-02</td>\n",
              "      <td>Education</td>\n",
              "      <td>1.0</td>\n",
              "      <td>NaN</td>\n",
              "      <td>NaN</td>\n",
              "    </tr>\n",
              "    <tr>\n",
              "      <th>d</th>\n",
              "      <td>Chris Jang</td>\n",
              "      <td>1990-11-23</td>\n",
              "      <td>Education</td>\n",
              "      <td>NaN</td>\n",
              "      <td>NaN</td>\n",
              "      <td>3.0</td>\n",
              "    </tr>\n",
              "    <tr>\n",
              "      <th>e</th>\n",
              "      <td>Grace Lee</td>\n",
              "      <td>1993-02-01</td>\n",
              "      <td>Marketing</td>\n",
              "      <td>NaN</td>\n",
              "      <td>NaN</td>\n",
              "      <td>NaN</td>\n",
              "    </tr>\n",
              "    <tr>\n",
              "      <th>f</th>\n",
              "      <td>Juile Yoon</td>\n",
              "      <td>1992-07-16</td>\n",
              "      <td>Education</td>\n",
              "      <td>NaN</td>\n",
              "      <td>NaN</td>\n",
              "      <td>1.0</td>\n",
              "    </tr>\n",
              "  </tbody>\n",
              "</table>\n",
              "</div>"
            ],
            "text/plain": [
              "                  A           B          C    D    E    F\n",
              "myIndex                                                  \n",
              "a         James Kim  1990-01-23  Education  1.0  1.0  NaN\n",
              "b        Rose Hwang  1992-10-11  Marketing  NaN  2.0  NaN\n",
              "c          Sam Park  1995-07-02  Education  1.0  NaN  NaN\n",
              "d        Chris Jang  1990-11-23  Education  NaN  NaN  3.0\n",
              "e         Grace Lee  1993-02-01  Marketing  NaN  NaN  NaN\n",
              "f        Juile Yoon  1992-07-16  Education  NaN  NaN  1.0"
            ]
          },
          "metadata": {
            "tags": []
          },
          "execution_count": 9
        }
      ]
    },
    {
      "cell_type": "code",
      "metadata": {
        "id": "Vm2I6dC78fGQ"
      },
      "source": [
        "#data.index.values = np.array(list(\"abcdef\"))"
      ],
      "execution_count": null,
      "outputs": []
    },
    {
      "cell_type": "markdown",
      "metadata": {
        "id": "AcKXIY-V1p1Q"
      },
      "source": [
        "### 3.Series 속성 확인하기"
      ]
    },
    {
      "cell_type": "code",
      "metadata": {
        "id": "D-yq6IQJYRb8",
        "colab": {
          "base_uri": "https://localhost:8080/",
          "height": 35
        },
        "outputId": "9bf968e0-6f96-4d84-9ebe-af2ea8daab27"
      },
      "source": [
        "data = pd.read_csv('easySample.csv', index_col=0)\n",
        "data.columns"
      ],
      "execution_count": null,
      "outputs": [
        {
          "output_type": "execute_result",
          "data": {
            "text/plain": [
              "Index(['pname', 'birth', 'dept', 'english', 'japanese', 'chinese'], dtype='object')"
            ]
          },
          "metadata": {
            "tags": []
          },
          "execution_count": 11
        }
      ]
    },
    {
      "cell_type": "code",
      "metadata": {
        "id": "wLULn8AG2H49",
        "colab": {
          "base_uri": "https://localhost:8080/",
          "height": 198
        },
        "outputId": "603f2023-0d6b-4cc1-8079-397c965c0450"
      },
      "source": [
        "eng = data['english']  # indexing\n",
        "printAttr(eng)"
      ],
      "execution_count": null,
      "outputs": [
        {
          "output_type": "stream",
          "text": [
            "<class 'pandas.core.series.Series'>\n",
            "ID\n",
            "18030201    1.0\n",
            "18030202    NaN\n",
            "19030401    1.0\n",
            "19070101    NaN\n",
            "19070102    NaN\n",
            "19070103    NaN\n",
            "Name: english, dtype: float64\n",
            "---------------------------------------------------------------------------\n"
          ],
          "name": "stdout"
        }
      ]
    },
    {
      "cell_type": "code",
      "metadata": {
        "id": "mOEh-0sh2L7Q",
        "colab": {
          "base_uri": "https://localhost:8080/",
          "height": 180
        },
        "outputId": "a6d2a9b3-e667-4ce5-8310-27b5e1d50ef8"
      },
      "source": [
        "printAttr(eng.index) # read/write\n",
        "printAttr(eng.values)# read only\n",
        "printAttr(eng.index.values) # read only"
      ],
      "execution_count": null,
      "outputs": [
        {
          "output_type": "stream",
          "text": [
            "<class 'pandas.core.indexes.numeric.Int64Index'>\n",
            "Int64Index([18030201, 18030202, 19030401, 19070101, 19070102, 19070103], dtype='int64', name='ID')\n",
            "---------------------------------------------------------------------------\n",
            "<class 'numpy.ndarray'>\n",
            "[ 1. nan  1. nan nan nan]\n",
            "---------------------------------------------------------------------------\n",
            "<class 'numpy.ndarray'>\n",
            "[18030201 18030202 19030401 19070101 19070102 19070103]\n",
            "---------------------------------------------------------------------------\n"
          ],
          "name": "stdout"
        }
      ]
    },
    {
      "cell_type": "markdown",
      "metadata": {
        "id": "UjTLFNPG2RBa"
      },
      "source": [
        "### 4.Index객체 확인"
      ]
    },
    {
      "cell_type": "code",
      "metadata": {
        "id": "FbWLM8Db2Vh2"
      },
      "source": [
        "def printObj(df):\n",
        "    print(df.index)\n",
        "    print(type(df.index))\n",
        "    print('-' * 50)"
      ],
      "execution_count": null,
      "outputs": []
    },
    {
      "cell_type": "code",
      "metadata": {
        "id": "zP-KXFpnYRcR",
        "colab": {
          "base_uri": "https://localhost:8080/",
          "height": 35
        },
        "outputId": "e7a27afc-e2a3-4b43-a8f4-7c9590d6912c"
      },
      "source": [
        "a = pd.RangeIndex(10)  # range(start, stop, step)\n",
        "b = pd.RangeIndex(10000)\n",
        "import sys\n",
        "sys.getsizeof(a), sys.getsizeof(b)"
      ],
      "execution_count": null,
      "outputs": [
        {
          "output_type": "execute_result",
          "data": {
            "text/plain": [
              "(152, 152)"
            ]
          },
          "metadata": {
            "tags": []
          },
          "execution_count": 15
        }
      ]
    },
    {
      "cell_type": "code",
      "metadata": {
        "id": "EupGYrOq-0Zg",
        "colab": {
          "base_uri": "https://localhost:8080/",
          "height": 53
        },
        "outputId": "ccb2774e-2af3-41ea-d01f-df6f7bd1f1c4"
      },
      "source": [
        "print(a, b, sep='\\n')"
      ],
      "execution_count": null,
      "outputs": [
        {
          "output_type": "stream",
          "text": [
            "RangeIndex(start=0, stop=10, step=1)\n",
            "RangeIndex(start=0, stop=10000, step=1)\n"
          ],
          "name": "stdout"
        }
      ]
    },
    {
      "cell_type": "code",
      "metadata": {
        "id": "ift1W83Q2X8-",
        "colab": {
          "base_uri": "https://localhost:8080/",
          "height": 71
        },
        "outputId": "d7758b8e-e19f-406a-c501-d36ccd11759d"
      },
      "source": [
        "df1 = pd.read_csv('easySample.csv')\n",
        "printObj(df1)"
      ],
      "execution_count": null,
      "outputs": [
        {
          "output_type": "stream",
          "text": [
            "RangeIndex(start=0, stop=6, step=1)\n",
            "<class 'pandas.core.indexes.range.RangeIndex'>\n",
            "--------------------------------------------------\n"
          ],
          "name": "stdout"
        }
      ]
    },
    {
      "cell_type": "code",
      "metadata": {
        "id": "Nbn3NMvq2hZt",
        "colab": {
          "base_uri": "https://localhost:8080/",
          "height": 71
        },
        "outputId": "c01d4b46-b6ab-4f82-b23c-374f1fb7b166"
      },
      "source": [
        "df2 = pd.read_csv('easySample.csv', index_col='ID')\n",
        "printObj(df2)"
      ],
      "execution_count": null,
      "outputs": [
        {
          "output_type": "stream",
          "text": [
            "Int64Index([18030201, 18030202, 19030401, 19070101, 19070102, 19070103], dtype='int64', name='ID')\n",
            "<class 'pandas.core.indexes.numeric.Int64Index'>\n",
            "--------------------------------------------------\n"
          ],
          "name": "stdout"
        }
      ]
    },
    {
      "cell_type": "code",
      "metadata": {
        "id": "oXhYfl0T2hP2",
        "colab": {
          "base_uri": "https://localhost:8080/",
          "height": 108
        },
        "outputId": "06624b3f-a0e2-4154-9438-65ddc5d738ca"
      },
      "source": [
        "df3 = pd.read_csv('easySample.csv', index_col='pname')\n",
        "printObj(df3)\n",
        "# dtype = 'object' (문자열 취급)"
      ],
      "execution_count": null,
      "outputs": [
        {
          "output_type": "stream",
          "text": [
            "Index(['James Kim', 'Rose Hwang', 'Sam Park', 'Chris Jang', 'Grace Lee',\n",
            "       'Juile Yoon'],\n",
            "      dtype='object', name='pname')\n",
            "<class 'pandas.core.indexes.base.Index'>\n",
            "--------------------------------------------------\n"
          ],
          "name": "stdout"
        }
      ]
    },
    {
      "cell_type": "code",
      "metadata": {
        "id": "a_rjCWMf2dQu",
        "colab": {
          "base_uri": "https://localhost:8080/",
          "height": 108
        },
        "outputId": "b5085625-6850-4630-a0e2-e9013dbaab8a"
      },
      "source": [
        "df4 = pd.read_csv('easySample.csv', index_col='birth')\n",
        "df4.index = pd.to_datetime(df4.index)\n",
        "printObj(df4)"
      ],
      "execution_count": null,
      "outputs": [
        {
          "output_type": "stream",
          "text": [
            "DatetimeIndex(['1990-01-23', '1992-10-11', '1995-07-02', '1990-11-23',\n",
            "               '1993-02-01', '1992-07-16'],\n",
            "              dtype='datetime64[ns]', name='birth', freq=None)\n",
            "<class 'pandas.core.indexes.datetimes.DatetimeIndex'>\n",
            "--------------------------------------------------\n"
          ],
          "name": "stdout"
        }
      ]
    },
    {
      "cell_type": "code",
      "metadata": {
        "id": "Ghrm3fCs26K1",
        "colab": {
          "base_uri": "https://localhost:8080/",
          "height": 71
        },
        "outputId": "a1f65ed5-8eeb-461f-c899-33dd06a6a480"
      },
      "source": [
        "print(issubclass(pd.Int64Index, pd.Index))\n",
        "print(issubclass(pd.RangeIndex, pd.Index))\n",
        "print(issubclass(pd.DatetimeIndex, pd.Index))"
      ],
      "execution_count": null,
      "outputs": [
        {
          "output_type": "stream",
          "text": [
            "True\n",
            "True\n",
            "True\n"
          ],
          "name": "stdout"
        }
      ]
    },
    {
      "cell_type": "markdown",
      "metadata": {
        "id": "LXzUoMPa2REf"
      },
      "source": [
        "### 5.dtype에 따른 메모리사용"
      ]
    },
    {
      "cell_type": "code",
      "metadata": {
        "id": "YFUU0osNGUfh"
      },
      "source": [
        "# 올바른 dtype의 중요성\n",
        "# 1) 적합한 연산, 메서드 사용을 할 수 있음\n",
        "# 2) 메모리의 사용을 절약할 수 있음 (int8, int16, int32, int64)"
      ],
      "execution_count": null,
      "outputs": []
    },
    {
      "cell_type": "code",
      "metadata": {
        "id": "mAN5VlOu658Q",
        "colab": {
          "base_uri": "https://localhost:8080/",
          "height": 175
        },
        "outputId": "d632985e-65e7-4f3e-987c-1a62b299bb63"
      },
      "source": [
        "data = pd.read_csv('easySample.csv', index_col='ID')\n",
        "print(data.columns)\n",
        "#data = data[['pname', 'birth', 'dept']]    \n",
        "print(data.dtypes, end='\\n\\n')"
      ],
      "execution_count": null,
      "outputs": [
        {
          "output_type": "stream",
          "text": [
            "Index(['pname', 'birth', 'dept', 'english', 'japanese', 'chinese'], dtype='object')\n",
            "pname        object\n",
            "birth        object\n",
            "dept         object\n",
            "english     float64\n",
            "japanese    float64\n",
            "chinese     float64\n",
            "dtype: object\n",
            "\n"
          ],
          "name": "stdout"
        }
      ]
    },
    {
      "cell_type": "code",
      "metadata": {
        "id": "L1gzABzlLdge",
        "colab": {
          "base_uri": "https://localhost:8080/",
          "height": 193
        },
        "outputId": "42cacfc5-57a8-47ab-bdec-6133ce06cac2"
      },
      "source": [
        "print(data.index.dtype)\n",
        "print(data.memory_usage(index=True, deep=True), end='\\n\\n')"
      ],
      "execution_count": null,
      "outputs": [
        {
          "output_type": "stream",
          "text": [
            "int64\n",
            "Index        48\n",
            "pname       398\n",
            "birth       402\n",
            "dept        396\n",
            "english      48\n",
            "japanese     48\n",
            "chinese      48\n",
            "dtype: int64\n",
            "\n"
          ],
          "name": "stdout"
        }
      ]
    },
    {
      "cell_type": "code",
      "metadata": {
        "id": "Hc8E6gr57Bwm",
        "colab": {
          "base_uri": "https://localhost:8080/",
          "height": 281
        },
        "outputId": "1b0fb183-4c07-4c1d-9a78-bc66d6204632"
      },
      "source": [
        "# DataFrame 과 Series의 dtype 변경\n",
        "\n",
        "# https://pandas.pydata.org/docs/reference/api/pandas.Series.astype.html \n",
        "# https://pandas.pydata.org/docs/reference/api/pandas.DataFrame.astype.html\n",
        "# https://pandas.pydata.org/docs/reference/api/pandas.to_datetime.html\n",
        "\n",
        "data['dept']  = data['dept'].astype('category')  # 'int32', 'float64'\n",
        "data['birth'] = pd.to_datetime(data['birth'])\n",
        "'''data['english'] = data['english'].astype('float32')\n",
        "data['japanese'] = data['japanese'].astype('float32')\n",
        "data['chinese'] = data['chinese'].astype('float32')\n",
        "'''\n",
        "data.loc[:,'english':'chinese'] = data.loc[:,'english':'chinese'].astype('float32')\n",
        "print(data.dtypes, end='\\n\\n')\n",
        "print(data.memory_usage(index=False, deep=True))"
      ],
      "execution_count": null,
      "outputs": [
        {
          "output_type": "stream",
          "text": [
            "pname               object\n",
            "birth       datetime64[ns]\n",
            "dept              category\n",
            "english            float32\n",
            "japanese           float32\n",
            "chinese            float32\n",
            "dtype: object\n",
            "\n",
            "pname       398\n",
            "birth        48\n",
            "dept        218\n",
            "english      24\n",
            "japanese     24\n",
            "chinese      24\n",
            "dtype: int64\n"
          ],
          "name": "stdout"
        }
      ]
    },
    {
      "cell_type": "code",
      "metadata": {
        "id": "GJYqIBGDYRdD",
        "colab": {
          "base_uri": "https://localhost:8080/",
          "height": 254
        },
        "outputId": "646ebe6f-13b7-4d11-ed72-74fdbc0f4d5c"
      },
      "source": [
        "# csv로 저장하면 dtype이 유지되지 않을 수 있다\n",
        "# datetime, categoty 등이 object로 저장되었다\n",
        "# https://pandas.pydata.org/docs/reference/api/pandas.DataFrame.to_csv.html\n",
        "data.to_csv('mydata.csv')\n",
        "dfx = pd.read_csv('mydata.csv', index_col = 'ID')\n",
        "dfx"
      ],
      "execution_count": null,
      "outputs": [
        {
          "output_type": "execute_result",
          "data": {
            "text/html": [
              "<div>\n",
              "<style scoped>\n",
              "    .dataframe tbody tr th:only-of-type {\n",
              "        vertical-align: middle;\n",
              "    }\n",
              "\n",
              "    .dataframe tbody tr th {\n",
              "        vertical-align: top;\n",
              "    }\n",
              "\n",
              "    .dataframe thead th {\n",
              "        text-align: right;\n",
              "    }\n",
              "</style>\n",
              "<table border=\"1\" class=\"dataframe\">\n",
              "  <thead>\n",
              "    <tr style=\"text-align: right;\">\n",
              "      <th></th>\n",
              "      <th>pname</th>\n",
              "      <th>birth</th>\n",
              "      <th>dept</th>\n",
              "      <th>english</th>\n",
              "      <th>japanese</th>\n",
              "      <th>chinese</th>\n",
              "    </tr>\n",
              "    <tr>\n",
              "      <th>ID</th>\n",
              "      <th></th>\n",
              "      <th></th>\n",
              "      <th></th>\n",
              "      <th></th>\n",
              "      <th></th>\n",
              "      <th></th>\n",
              "    </tr>\n",
              "  </thead>\n",
              "  <tbody>\n",
              "    <tr>\n",
              "      <th>18030201</th>\n",
              "      <td>James Kim</td>\n",
              "      <td>1990-01-23</td>\n",
              "      <td>Education</td>\n",
              "      <td>1.0</td>\n",
              "      <td>1.0</td>\n",
              "      <td>NaN</td>\n",
              "    </tr>\n",
              "    <tr>\n",
              "      <th>18030202</th>\n",
              "      <td>Rose Hwang</td>\n",
              "      <td>1992-10-11</td>\n",
              "      <td>Marketing</td>\n",
              "      <td>NaN</td>\n",
              "      <td>2.0</td>\n",
              "      <td>NaN</td>\n",
              "    </tr>\n",
              "    <tr>\n",
              "      <th>19030401</th>\n",
              "      <td>Sam Park</td>\n",
              "      <td>1995-07-02</td>\n",
              "      <td>Education</td>\n",
              "      <td>1.0</td>\n",
              "      <td>NaN</td>\n",
              "      <td>NaN</td>\n",
              "    </tr>\n",
              "    <tr>\n",
              "      <th>19070101</th>\n",
              "      <td>Chris Jang</td>\n",
              "      <td>1990-11-23</td>\n",
              "      <td>Education</td>\n",
              "      <td>NaN</td>\n",
              "      <td>NaN</td>\n",
              "      <td>3.0</td>\n",
              "    </tr>\n",
              "    <tr>\n",
              "      <th>19070102</th>\n",
              "      <td>Grace Lee</td>\n",
              "      <td>1993-02-01</td>\n",
              "      <td>Marketing</td>\n",
              "      <td>NaN</td>\n",
              "      <td>NaN</td>\n",
              "      <td>NaN</td>\n",
              "    </tr>\n",
              "    <tr>\n",
              "      <th>19070103</th>\n",
              "      <td>Juile Yoon</td>\n",
              "      <td>1992-07-16</td>\n",
              "      <td>Education</td>\n",
              "      <td>NaN</td>\n",
              "      <td>NaN</td>\n",
              "      <td>1.0</td>\n",
              "    </tr>\n",
              "  </tbody>\n",
              "</table>\n",
              "</div>"
            ],
            "text/plain": [
              "               pname       birth       dept  english  japanese  chinese\n",
              "ID                                                                     \n",
              "18030201   James Kim  1990-01-23  Education      1.0       1.0      NaN\n",
              "18030202  Rose Hwang  1992-10-11  Marketing      NaN       2.0      NaN\n",
              "19030401    Sam Park  1995-07-02  Education      1.0       NaN      NaN\n",
              "19070101  Chris Jang  1990-11-23  Education      NaN       NaN      3.0\n",
              "19070102   Grace Lee  1993-02-01  Marketing      NaN       NaN      NaN\n",
              "19070103  Juile Yoon  1992-07-16  Education      NaN       NaN      1.0"
            ]
          },
          "metadata": {
            "tags": []
          },
          "execution_count": 11
        }
      ]
    },
    {
      "cell_type": "code",
      "metadata": {
        "id": "dirxoQ08SajI",
        "colab": {
          "base_uri": "https://localhost:8080/",
          "height": 140
        },
        "outputId": "11a92a55-c741-4fff-aadb-a914e928f88c"
      },
      "source": [
        "dfx.dtypes"
      ],
      "execution_count": null,
      "outputs": [
        {
          "output_type": "execute_result",
          "data": {
            "text/plain": [
              "pname        object\n",
              "birth        object\n",
              "dept         object\n",
              "english     float64\n",
              "japanese    float64\n",
              "chinese     float64\n",
              "dtype: object"
            ]
          },
          "metadata": {
            "tags": []
          },
          "execution_count": 12
        }
      ]
    },
    {
      "cell_type": "code",
      "metadata": {
        "id": "dJvasebSYRdR",
        "colab": {
          "base_uri": "https://localhost:8080/",
          "height": 34
        },
        "outputId": "c0cf3f11-0be6-430b-81e1-c60266d5f3fa"
      },
      "source": [
        "# dtype을 유지하면서 파일로 저장하기!\n",
        "# shelve 바이너리로 파일 저장\n",
        "import shelve\n",
        "with shelve.open('mySample') as ms :\n",
        "  # mySample 파일에 'sample'을 key로 하여 data를 저장\n",
        "  ms['sample'] = data \n",
        "print(\"Done save DataFrame\")"
      ],
      "execution_count": null,
      "outputs": [
        {
          "output_type": "stream",
          "text": [
            "Done save DataFrame\n"
          ],
          "name": "stdout"
        }
      ]
    },
    {
      "cell_type": "code",
      "metadata": {
        "id": "KbVu_nyh6XNB",
        "colab": {
          "base_uri": "https://localhost:8080/",
          "height": 140
        },
        "outputId": "2228a5a8-a08c-4750-a794-1bac93cf3186"
      },
      "source": [
        "import shelve\n",
        "with shelve.open('mySample') as ms :\n",
        "  # mySample에 'sample'을 key로 하여 저장된 객체 가져오기\n",
        "  dfx = ms['sample'] \n",
        "\n",
        "print(dfx.dtypes)"
      ],
      "execution_count": null,
      "outputs": [
        {
          "output_type": "stream",
          "text": [
            "pname               object\n",
            "birth       datetime64[ns]\n",
            "dept              category\n",
            "english            float32\n",
            "japanese           float32\n",
            "chinese            float32\n",
            "dtype: object\n"
          ],
          "name": "stdout"
        }
      ]
    },
    {
      "cell_type": "code",
      "metadata": {
        "id": "qwkW97On7IyG",
        "colab": {
          "base_uri": "https://localhost:8080/",
          "height": 210
        },
        "outputId": "d57efabf-ed17-4322-f595-929500928611"
      },
      "source": [
        "data = pd.read_csv('easySampleLong.csv', index_col='ID')\n",
        "#data = data[['pname', 'birth', 'dept']] \n",
        "print(data.shape)\n",
        "print(data.dtypes, end='\\n\\n')\n",
        "print(data.memory_usage(index=False, deep=True), end='\\n\\n')"
      ],
      "execution_count": null,
      "outputs": [
        {
          "output_type": "stream",
          "text": [
            "(1000, 3)\n",
            "pname    object\n",
            "birth    object\n",
            "dept     object\n",
            "dtype: object\n",
            "\n",
            "pname    66364\n",
            "birth    67000\n",
            "dept     66000\n",
            "dtype: int64\n",
            "\n"
          ],
          "name": "stdout"
        }
      ]
    },
    {
      "cell_type": "code",
      "metadata": {
        "id": "82ibIGt27Ihu",
        "colab": {
          "base_uri": "https://localhost:8080/",
          "height": 177
        },
        "outputId": "345abcee-55f3-43d5-a953-7734bd4afb4d"
      },
      "source": [
        "data['dept']  = data['dept'].astype('category')\n",
        "data['birth'] = pd.to_datetime(data['birth'])\n",
        "print(data.dtypes, end='\\n\\n')\n",
        "print(data.memory_usage(index=False, deep=True))"
      ],
      "execution_count": null,
      "outputs": [
        {
          "output_type": "stream",
          "text": [
            "pname            object\n",
            "birth    datetime64[ns]\n",
            "dept           category\n",
            "dtype: object\n",
            "\n",
            "pname    66364\n",
            "birth     8000\n",
            "dept      1212\n",
            "dtype: int64\n"
          ],
          "name": "stdout"
        }
      ]
    },
    {
      "cell_type": "markdown",
      "metadata": {
        "id": "mYDXlIv6YRdd"
      },
      "source": [
        "\n",
        "### Exercise_01.easySample2 => shelve 바이너리 파일\n",
        "- 다음의 링크로 가서 직접 작성하여 보도록 합니다.\n",
        "- ```https://colab.research.google.com/drive/1utKz-K_uOVPRLCXDguTJKA2QeiKoXL0s```\n",
        "- easySample2.csv 파일을 열어, dtype을 올바르게 정리한다\n",
        "- shelve 바이너리 파일로 저장 (파일이름 'mySample')\n",
        "- 'sample3' key로 정리된 DataFrame 저장\n",
        "\n",
        "해답은 있습니다!  (그러나 풀이도전부터 해주세요!)\n",
        "```https://colab.research.google.com/drive/1ecNKbIaIFXRUQM41qTLGeUWa37DsUO2S```\n"
      ]
    },
    {
      "cell_type": "markdown",
      "metadata": {
        "id": "JEHi0xyGYRdj"
      },
      "source": [
        "#### x.describe()\n",
        "- x.describe(percentiles=None, ...)\n",
        "- DataFrame/Series의 숫자 형 변수에 대한 여러 가지 통계량 출력\n",
        "- 개수, 평균값, 표준편차, 최솟값, 1, 2 (중앙값), 3사분위 수, 최대값\n",
        "- percentiles : 새로운 index 생성에 사용할 column/column 목록(columns labels로 작성)"
      ]
    },
    {
      "cell_type": "markdown",
      "metadata": {
        "id": "NRqTGTlUYRdj"
      },
      "source": [
        "### 6.Series 생성, 메서드, 연산"
      ]
    },
    {
      "cell_type": "markdown",
      "metadata": {
        "id": "0qs1Gx-QYRdk"
      },
      "source": [
        "#### 6-1. Series 생성\n",
        "- pd.Series(data=None, index=None, dtype=None, name=None, copy=False, ... )\n",
        "- 1) data : array-like, iterable, dict or scalar value 등을 사용할 수 있음\n",
        "- 2) index : array-like or Index (1D)\n",
        "   - index.values 는 hashable 객체이어야 하며, data와 같은 길이어야 함 \n",
        "   - 생략 시 RangeIndex가 사용됨 (0 부터 1씩 증가하는 숫자 values)\n",
        "   - data가 dict 객체일때 index가 생략되면, dict 객체의 key를 index로 사용\n",
        "   - dict 객체의 key와 index가 중복되면 index를 따름 (dict의 key가 갱신 됨) \n",
        "- 3) dtype : Series.values 의 데이터 타입\n",
        "   - str, numpy.dtype, ExtensionDtype 등을 사용할 수 있음\n",
        "- 4) name : Series.name으로 사용할 것으로 문자열로 지정함\n",
        "- 5) copy : 입력 데이터를 복사하는지에 대한 여부 (ndarray 에만 적용)\n",
        "   - True 인 경우 복사(다른 메모리 사용), False라도 dtype이 다르면 복사함"
      ]
    },
    {
      "cell_type": "code",
      "metadata": {
        "id": "N7x1r7eKYRdl"
      },
      "source": [
        "import pandas as pd\n",
        "import numpy as np\n",
        "\n",
        "def printobj(*a):\n",
        "    for x in a:\n",
        "        print(x)\n",
        "        print('-'*20)"
      ],
      "execution_count": null,
      "outputs": []
    },
    {
      "cell_type": "code",
      "metadata": {
        "id": "DWbQi8XBYRdp",
        "colab": {
          "base_uri": "https://localhost:8080/"
        },
        "outputId": "f384bd4a-955e-4f99-de9b-26a973bbef54"
      },
      "source": [
        "score  = (80, 90, 100, 95)\n",
        "name   = [\"Kim\", \"Yoon\", \"Choi\", \"Park\"]\n",
        "s1 = pd.Series(score, dtype='<i4')  # np.int32, int, '<i4'  # index = RangeIndex\n",
        "#s1 = s1.astype(np.int64)\n",
        "s2 = pd.Series(name)  # dtype=object, index = RangeIndex\n",
        "s3 = pd.Series(np.arange(50,54)) # dtype=int64, index = RangeIndex\n",
        "printobj(s1, s2, s3)"
      ],
      "execution_count": null,
      "outputs": [
        {
          "output_type": "stream",
          "text": [
            "0     80\n",
            "1     90\n",
            "2    100\n",
            "3     95\n",
            "dtype: int32\n",
            "--------------------\n",
            "0     Kim\n",
            "1    Yoon\n",
            "2    Choi\n",
            "3    Park\n",
            "dtype: object\n",
            "--------------------\n",
            "0    50\n",
            "1    51\n",
            "2    52\n",
            "3    53\n",
            "dtype: int64\n",
            "--------------------\n"
          ],
          "name": "stdout"
        }
      ]
    },
    {
      "cell_type": "code",
      "metadata": {
        "id": "dT6vNt-sYRdt",
        "colab": {
          "base_uri": "https://localhost:8080/"
        },
        "outputId": "af6180c1-7cbd-4b83-8f0f-ef86c7e7f1d2"
      },
      "source": [
        "score  = (80, 90, 100, 95)\n",
        "name   = [\"Kim\", \"Yoon\", \"Choi\", \"Park\"]\n",
        "s1 = pd.Series(score, index=name, name=\"score\")\n",
        "s2 = pd.Series(np.random.randint(70, 90, 4), index=s1.index)\n",
        "s2.name = 'score'\n",
        "s2.index = pd.RangeIndex(len(s2))\n",
        "printobj(s1, s2)"
      ],
      "execution_count": null,
      "outputs": [
        {
          "output_type": "stream",
          "text": [
            "Kim      80\n",
            "Yoon     90\n",
            "Choi    100\n",
            "Park     95\n",
            "Name: score, dtype: int64\n",
            "--------------------\n",
            "0    80\n",
            "1    72\n",
            "2    71\n",
            "3    73\n",
            "Name: score, dtype: int64\n",
            "--------------------\n"
          ],
          "name": "stdout"
        }
      ]
    },
    {
      "cell_type": "code",
      "metadata": {
        "id": "8WjURUi-YRdw",
        "colab": {
          "base_uri": "https://localhost:8080/"
        },
        "outputId": "9c8b0813-0742-41aa-9334-8ec615b99c57"
      },
      "source": [
        "# dict를 사용\n",
        "score  = (80, 90, 100, 95)\n",
        "name   = [\"Kim\", \"Yoon\", \"Choi\", \"Park\"]\n",
        "mydata = dict(zip(name, score))\n",
        "mydata"
      ],
      "execution_count": null,
      "outputs": [
        {
          "output_type": "execute_result",
          "data": {
            "text/plain": [
              "{'Choi': 100, 'Kim': 80, 'Park': 95, 'Yoon': 90}"
            ]
          },
          "metadata": {
            "tags": []
          },
          "execution_count": 4
        }
      ]
    },
    {
      "cell_type": "code",
      "metadata": {
        "id": "dOw4y0IuJZAA",
        "colab": {
          "base_uri": "https://localhost:8080/"
        },
        "outputId": "4277c64e-85ff-4733-cb47-1118ee06eb4b"
      },
      "source": [
        "name_p = ['Song', 'Kim', 'Lee', 'Choi', 'Park']\n",
        "s3 = pd.Series(mydata, dtype=np.int32)\n",
        "s4 = pd.Series(mydata, index=name_p)\n",
        "printobj(s3, s4)"
      ],
      "execution_count": null,
      "outputs": [
        {
          "output_type": "stream",
          "text": [
            "Kim      80\n",
            "Yoon     90\n",
            "Choi    100\n",
            "Park     95\n",
            "dtype: int32\n",
            "--------------------\n",
            "Song      NaN\n",
            "Kim      80.0\n",
            "Lee       NaN\n",
            "Choi    100.0\n",
            "Park     95.0\n",
            "dtype: float64\n",
            "--------------------\n"
          ],
          "name": "stdout"
        }
      ]
    },
    {
      "cell_type": "markdown",
      "metadata": {
        "id": "dED9k3JgYRd0"
      },
      "source": [
        "#### 6-2. Series의 메서드\n",
        "- pandas 의 함수/메서드 들은 일반적으로 NaN에 대해 제외하고 처리한다 (numpy 와 다름)\n",
        "- s.sum() : NaN을 제외한 데이터 합계 구하기, float 반환\n",
        "- s.count() : NaN을 제외한 데이터 개수 구하기, int 반환\n",
        "- s.mean() : NaN을 제외한 데이터 평균 구하기, float 반환\n",
        "- s.unique() : 중복 데이터를 제외한 데이터의 ndarray로 반환 (NaN 포함)\n",
        "- s.value_counts() : NaN을 제외한 각 데이터의 개수(정수)의 Series 반환\n",
        "- s.head(숫자), s.tail(숫자) : 데이터를 상위/하위 숫자 개 만큼의 Series 반환\n",
        "- s.to_list() : s.values를 list 객체로 반환\n",
        "- s.to_numpy([dtype, copy]) : s.values를 ndarray 객체로 반환"
      ]
    },
    {
      "cell_type": "code",
      "metadata": {
        "id": "8sFL83DlYRd1",
        "colab": {
          "base_uri": "https://localhost:8080/"
        },
        "outputId": "e2bcce2f-e9ec-4d68-d80e-e4b8f9e3e31a"
      },
      "source": [
        "import numpy as np\n",
        "import pandas as pd\n",
        "\n",
        "def printobj(*a):\n",
        "    for x in a:\n",
        "        print(type(x))\n",
        "        print(x)\n",
        "        print('-' * 25)\n",
        "\n",
        "arr = np.array([4, 2, 2, np.nan, np.nan, 6, 7, 6, 7], dtype=np.float64)\n",
        "s = pd.Series(arr)\n",
        "s\n"
      ],
      "execution_count": null,
      "outputs": [
        {
          "output_type": "execute_result",
          "data": {
            "text/plain": [
              "0    4.0\n",
              "1    2.0\n",
              "2    2.0\n",
              "3    NaN\n",
              "4    NaN\n",
              "5    6.0\n",
              "6    7.0\n",
              "7    6.0\n",
              "8    7.0\n",
              "dtype: float64"
            ]
          },
          "metadata": {
            "tags": []
          },
          "execution_count": 6
        }
      ]
    },
    {
      "cell_type": "code",
      "metadata": {
        "id": "FlKHxqkXYReC",
        "colab": {
          "base_uri": "https://localhost:8080/"
        },
        "outputId": "3bcbbaf3-df27-4bf6-ee9f-15288fb60cd3"
      },
      "source": [
        "# Series 연산 메서드\n",
        "a = s.sum()\n",
        "b = s.count()\n",
        "c = s.mean()\n",
        "printobj(a, b, c, a/b)"
      ],
      "execution_count": null,
      "outputs": [
        {
          "output_type": "stream",
          "text": [
            "<class 'numpy.float64'>\n",
            "34.0\n",
            "-------------------------\n",
            "<class 'numpy.int64'>\n",
            "7\n",
            "-------------------------\n",
            "<class 'float'>\n",
            "4.857142857142857\n",
            "-------------------------\n",
            "<class 'numpy.float64'>\n",
            "4.857142857142857\n",
            "-------------------------\n"
          ],
          "name": "stdout"
        }
      ]
    },
    {
      "cell_type": "code",
      "metadata": {
        "id": "aTsPV68eYReH",
        "colab": {
          "base_uri": "https://localhost:8080/"
        },
        "outputId": "e0ce5937-b302-4d12-b77e-911ed37df21b"
      },
      "source": [
        "d = s.unique()    \n",
        "e = s.value_counts()  # Series가 반환 됨\n",
        "printobj(d, e)"
      ],
      "execution_count": null,
      "outputs": [
        {
          "output_type": "stream",
          "text": [
            "<class 'numpy.ndarray'>\n",
            "[ 4.  2. nan  6.  7.]\n",
            "-------------------------\n",
            "<class 'pandas.core.series.Series'>\n",
            "7.0    2\n",
            "6.0    2\n",
            "2.0    2\n",
            "4.0    1\n",
            "dtype: int64\n",
            "-------------------------\n"
          ],
          "name": "stdout"
        }
      ]
    },
    {
      "cell_type": "code",
      "metadata": {
        "id": "RmTJd9UrYRd_",
        "colab": {
          "base_uri": "https://localhost:8080/"
        },
        "outputId": "d371b357-b72d-4d0f-aee7-0bb3b5bd32c2"
      },
      "source": [
        "# list와 ndarray로 변환하여 출력\n",
        "printobj(s.to_list(), s.to_numpy())"
      ],
      "execution_count": null,
      "outputs": [
        {
          "output_type": "stream",
          "text": [
            "<class 'list'>\n",
            "[4.0, 2.0, 2.0, nan, nan, 6.0, 7.0, 6.0, 7.0]\n",
            "-------------------------\n",
            "<class 'numpy.ndarray'>\n",
            "[ 4.  2.  2. nan nan  6.  7.  6.  7.]\n",
            "-------------------------\n"
          ],
          "name": "stdout"
        }
      ]
    },
    {
      "cell_type": "markdown",
      "metadata": {
        "id": "9D8Zkha5YReK"
      },
      "source": [
        "#### 6-3. Series의 연산\n",
        "- index를 기준으로 연산된다\n",
        "- Series 와 Series 의 연산은 같은 index의 value 끼리 연산 된다\n",
        "    - 같은 index가 없는 경우, 추가되며 결과는 NaN이다\n",
        "    \n",
        "- Series 와 스칼라 의 연산은 각 원소별로 스칼라와 연산 된다\n",
        "    - 스칼라가 broadcasting 되어 사용된다"
      ]
    },
    {
      "cell_type": "code",
      "metadata": {
        "id": "OTbvuMKdYReL"
      },
      "source": [
        "import numpy as np\n",
        "import pandas as pd\n",
        "\n",
        "def printobj(*a):\n",
        "    for x in a:\n",
        "        print(x)\n",
        "        print('-' * 25)"
      ],
      "execution_count": null,
      "outputs": []
    },
    {
      "cell_type": "code",
      "metadata": {
        "id": "LEZqwrM7YReO",
        "colab": {
          "base_uri": "https://localhost:8080/"
        },
        "outputId": "e312cc83-844b-429d-8d6d-9898474aa275"
      },
      "source": [
        "# 같은 인덱스 구성인 경우\n",
        "a = np.arange(1, 6)\n",
        "b = np.arange(6, 11)    \n",
        "s1 = pd.Series(a)\n",
        "s2 = pd.Series(b)\n",
        "printobj(s1, s2, s1 + s2)"
      ],
      "execution_count": null,
      "outputs": [
        {
          "output_type": "stream",
          "text": [
            "0    1\n",
            "1    2\n",
            "2    3\n",
            "3    4\n",
            "4    5\n",
            "dtype: int64\n",
            "-------------------------\n",
            "0     6\n",
            "1     7\n",
            "2     8\n",
            "3     9\n",
            "4    10\n",
            "dtype: int64\n",
            "-------------------------\n",
            "0     7\n",
            "1     9\n",
            "2    11\n",
            "3    13\n",
            "4    15\n",
            "dtype: int64\n",
            "-------------------------\n"
          ],
          "name": "stdout"
        }
      ]
    },
    {
      "cell_type": "code",
      "metadata": {
        "scrolled": true,
        "id": "IpCumyfmYReR",
        "colab": {
          "base_uri": "https://localhost:8080/"
        },
        "outputId": "f04f69cd-68de-463a-812a-c2ca2ae51d3c"
      },
      "source": [
        "# 서로 다른 index 구성인 경우\n",
        "a = np.arange(1, 6)\n",
        "b = np.arange(6, 10)\n",
        "n1 = ['A', 'B', 'C', 'D', 'E']\n",
        "n2 = ['A', 'X', 'Y', 'D']     \n",
        "s1 = pd.Series(a, n1)\n",
        "s2 = pd.Series(b, n2)\n",
        "s3 = s1.add(s2, fill_value=0).astype(np.int32)\n",
        "printobj(s1, s2, s1 + s2, s3)"
      ],
      "execution_count": null,
      "outputs": [
        {
          "output_type": "stream",
          "text": [
            "A    1\n",
            "B    2\n",
            "C    3\n",
            "D    4\n",
            "E    5\n",
            "dtype: int64\n",
            "-------------------------\n",
            "A    6\n",
            "X    7\n",
            "Y    8\n",
            "D    9\n",
            "dtype: int64\n",
            "-------------------------\n",
            "A     7.0\n",
            "B     NaN\n",
            "C     NaN\n",
            "D    13.0\n",
            "E     NaN\n",
            "X     NaN\n",
            "Y     NaN\n",
            "dtype: float64\n",
            "-------------------------\n",
            "A     7\n",
            "B     2\n",
            "C     3\n",
            "D    13\n",
            "E     5\n",
            "X     7\n",
            "Y     8\n",
            "dtype: int32\n",
            "-------------------------\n"
          ],
          "name": "stdout"
        }
      ]
    },
    {
      "cell_type": "code",
      "metadata": {
        "id": "PlaJfeGzYReT",
        "colab": {
          "base_uri": "https://localhost:8080/"
        },
        "outputId": "494f23f5-0016-4b8f-ce1e-e2e0c7f67441"
      },
      "source": [
        "# Series 와 스칼라의 연산\n",
        "a = np.arange(1, 6)\n",
        "n1 = ['A', 'B', 'C', 'D', 'E']\n",
        "s1 = pd.Series(a, n1)\n",
        "printobj(s1, s1 + 2)"
      ],
      "execution_count": null,
      "outputs": [
        {
          "output_type": "stream",
          "text": [
            "A    1\n",
            "B    2\n",
            "C    3\n",
            "D    4\n",
            "E    5\n",
            "dtype: int64\n",
            "-------------------------\n",
            "A    3\n",
            "B    4\n",
            "C    5\n",
            "D    6\n",
            "E    7\n",
            "dtype: int64\n",
            "-------------------------\n"
          ],
          "name": "stdout"
        }
      ]
    },
    {
      "cell_type": "markdown",
      "metadata": {
        "id": "cUec5SZcYReU"
      },
      "source": [
        "### 7.DataFrame 생성, 메서드, 연산"
      ]
    },
    {
      "cell_type": "markdown",
      "metadata": {
        "id": "R0aHdd8lYReV"
      },
      "source": [
        "#### 7-1. DataFrame 생성\n",
        "- pd.DataFrame(data=None, index=None, columns=None, dtype=None, copy=False)\n",
        "- data : ndarray(structured or homogeneous), Iterable, dict, DataFrame\n",
        "   - dict 사용시 columns가 지정되지 않으면 dict의 key가 columns로 사용됨\n",
        "   - DataFrame 사용시 data, index, columns 가 복사 됨\n",
        "- index, columns : array-like or Index (1D)\n",
        "   - 생략 시 RangeIndex가 사용됨 (0 부터 1씩 증가하는 숫자 values)\n",
        "   - index.values 는 hashable 객체이어야 함\n",
        "   - data로 dict 사용시, dict 의 key 와 columns가 중복될 경우 columns를 따름\n",
        "   - data로 ndarray 사용시 index.values 개수 == data 행 개수\n",
        "   - data로 ndarray 사용시 columns.values 개수 == data 열 개수\n",
        "- dtype : 직접 데이터 타입을 지정하며, 1개의 타입 지정만 가능함\n",
        "- copy : ndarray(2D), DataFrame을 data로 사용시 copy=False는 연결을 의미함\n",
        "   - ndarray의 dtype이나, DataFrame의 index, columns 등이 변경이 되면 copy=True로 동작함  \n"
      ]
    },
    {
      "cell_type": "code",
      "metadata": {
        "id": "JRRIVcGiYReW"
      },
      "source": [
        "def printobj(*a):\n",
        "    for x in a:\n",
        "        print(type(x))\n",
        "        print(x)\n",
        "        print(\"-\" * 25)\n",
        "\n",
        "import pandas as pd\n",
        "import numpy as np\n",
        "        \n",
        "ID = [1900101, 1900102, 1900103, 1900104]\n",
        "name = [\"Kim\", \"Yoon\", \"Choi\", \"Park\"]\n",
        "data = {'name'    : name,\n",
        "        'english' : [80, 90, 100, 95],\n",
        "        'chinese' : [100, 80, 70, 85],\n",
        "        'korean'  : [95, 100, 80, 60]}"
      ],
      "execution_count": null,
      "outputs": []
    },
    {
      "cell_type": "code",
      "metadata": {
        "id": "OYSthi5tYReY",
        "colab": {
          "base_uri": "https://localhost:8080/",
          "height": 166
        },
        "outputId": "cb78650c-308e-4866-b149-2ebc4eb07670"
      },
      "source": [
        "# dict data     \n",
        "df = pd.DataFrame(data)\n",
        "#printobj(df)\n",
        "df"
      ],
      "execution_count": null,
      "outputs": [
        {
          "output_type": "execute_result",
          "data": {
            "text/html": [
              "<div>\n",
              "<style scoped>\n",
              "    .dataframe tbody tr th:only-of-type {\n",
              "        vertical-align: middle;\n",
              "    }\n",
              "\n",
              "    .dataframe tbody tr th {\n",
              "        vertical-align: top;\n",
              "    }\n",
              "\n",
              "    .dataframe thead th {\n",
              "        text-align: right;\n",
              "    }\n",
              "</style>\n",
              "<table border=\"1\" class=\"dataframe\">\n",
              "  <thead>\n",
              "    <tr style=\"text-align: right;\">\n",
              "      <th></th>\n",
              "      <th>name</th>\n",
              "      <th>english</th>\n",
              "      <th>chinese</th>\n",
              "      <th>korean</th>\n",
              "    </tr>\n",
              "  </thead>\n",
              "  <tbody>\n",
              "    <tr>\n",
              "      <th>0</th>\n",
              "      <td>Kim</td>\n",
              "      <td>80</td>\n",
              "      <td>100</td>\n",
              "      <td>95</td>\n",
              "    </tr>\n",
              "    <tr>\n",
              "      <th>1</th>\n",
              "      <td>Yoon</td>\n",
              "      <td>90</td>\n",
              "      <td>80</td>\n",
              "      <td>100</td>\n",
              "    </tr>\n",
              "    <tr>\n",
              "      <th>2</th>\n",
              "      <td>Choi</td>\n",
              "      <td>100</td>\n",
              "      <td>70</td>\n",
              "      <td>80</td>\n",
              "    </tr>\n",
              "    <tr>\n",
              "      <th>3</th>\n",
              "      <td>Park</td>\n",
              "      <td>95</td>\n",
              "      <td>85</td>\n",
              "      <td>60</td>\n",
              "    </tr>\n",
              "  </tbody>\n",
              "</table>\n",
              "</div>"
            ],
            "text/plain": [
              "   name  english  chinese  korean\n",
              "0   Kim       80      100      95\n",
              "1  Yoon       90       80     100\n",
              "2  Choi      100       70      80\n",
              "3  Park       95       85      60"
            ]
          },
          "metadata": {
            "tags": []
          },
          "execution_count": 33
        }
      ]
    },
    {
      "cell_type": "code",
      "metadata": {
        "id": "GC2ydVl8YRea",
        "colab": {
          "base_uri": "https://localhost:8080/",
          "height": 195
        },
        "outputId": "42511ca8-2f80-4607-ea91-52ef378bb710"
      },
      "source": [
        "# dict data \n",
        "df = pd.DataFrame(data, index = ID) \n",
        "df.index.name = 'ID'\n",
        "display(df)"
      ],
      "execution_count": null,
      "outputs": [
        {
          "output_type": "display_data",
          "data": {
            "text/html": [
              "<div>\n",
              "<style scoped>\n",
              "    .dataframe tbody tr th:only-of-type {\n",
              "        vertical-align: middle;\n",
              "    }\n",
              "\n",
              "    .dataframe tbody tr th {\n",
              "        vertical-align: top;\n",
              "    }\n",
              "\n",
              "    .dataframe thead th {\n",
              "        text-align: right;\n",
              "    }\n",
              "</style>\n",
              "<table border=\"1\" class=\"dataframe\">\n",
              "  <thead>\n",
              "    <tr style=\"text-align: right;\">\n",
              "      <th></th>\n",
              "      <th>name</th>\n",
              "      <th>english</th>\n",
              "      <th>chinese</th>\n",
              "      <th>korean</th>\n",
              "    </tr>\n",
              "    <tr>\n",
              "      <th>ID</th>\n",
              "      <th></th>\n",
              "      <th></th>\n",
              "      <th></th>\n",
              "      <th></th>\n",
              "    </tr>\n",
              "  </thead>\n",
              "  <tbody>\n",
              "    <tr>\n",
              "      <th>1900101</th>\n",
              "      <td>Kim</td>\n",
              "      <td>80</td>\n",
              "      <td>100</td>\n",
              "      <td>95</td>\n",
              "    </tr>\n",
              "    <tr>\n",
              "      <th>1900102</th>\n",
              "      <td>Yoon</td>\n",
              "      <td>90</td>\n",
              "      <td>80</td>\n",
              "      <td>100</td>\n",
              "    </tr>\n",
              "    <tr>\n",
              "      <th>1900103</th>\n",
              "      <td>Choi</td>\n",
              "      <td>100</td>\n",
              "      <td>70</td>\n",
              "      <td>80</td>\n",
              "    </tr>\n",
              "    <tr>\n",
              "      <th>1900104</th>\n",
              "      <td>Park</td>\n",
              "      <td>95</td>\n",
              "      <td>85</td>\n",
              "      <td>60</td>\n",
              "    </tr>\n",
              "  </tbody>\n",
              "</table>\n",
              "</div>"
            ],
            "text/plain": [
              "         name  english  chinese  korean\n",
              "ID                                     \n",
              "1900101   Kim       80      100      95\n",
              "1900102  Yoon       90       80     100\n",
              "1900103  Choi      100       70      80\n",
              "1900104  Park       95       85      60"
            ]
          },
          "metadata": {
            "tags": []
          }
        }
      ]
    },
    {
      "cell_type": "code",
      "metadata": {
        "id": "980RyD6OV6LC",
        "colab": {
          "base_uri": "https://localhost:8080/",
          "height": 195
        },
        "outputId": "0391ea69-d0cb-4411-af73-2fcbea0199fd"
      },
      "source": [
        "# dict data \n",
        "df = pd.DataFrame(data, index = ID,\n",
        "                  columns = ['name', 'english'])  # columns 선택\n",
        "df.index.name = 'ID'\n",
        "df['korean']  = [100] * 4           # 추가\n",
        "df['english'] = [90, 80, 100, 100]  # 갱신\n",
        "display(df)"
      ],
      "execution_count": null,
      "outputs": [
        {
          "output_type": "display_data",
          "data": {
            "text/html": [
              "<div>\n",
              "<style scoped>\n",
              "    .dataframe tbody tr th:only-of-type {\n",
              "        vertical-align: middle;\n",
              "    }\n",
              "\n",
              "    .dataframe tbody tr th {\n",
              "        vertical-align: top;\n",
              "    }\n",
              "\n",
              "    .dataframe thead th {\n",
              "        text-align: right;\n",
              "    }\n",
              "</style>\n",
              "<table border=\"1\" class=\"dataframe\">\n",
              "  <thead>\n",
              "    <tr style=\"text-align: right;\">\n",
              "      <th></th>\n",
              "      <th>name</th>\n",
              "      <th>english</th>\n",
              "      <th>korean</th>\n",
              "    </tr>\n",
              "    <tr>\n",
              "      <th>ID</th>\n",
              "      <th></th>\n",
              "      <th></th>\n",
              "      <th></th>\n",
              "    </tr>\n",
              "  </thead>\n",
              "  <tbody>\n",
              "    <tr>\n",
              "      <th>1900101</th>\n",
              "      <td>Kim</td>\n",
              "      <td>90</td>\n",
              "      <td>100</td>\n",
              "    </tr>\n",
              "    <tr>\n",
              "      <th>1900102</th>\n",
              "      <td>Yoon</td>\n",
              "      <td>80</td>\n",
              "      <td>100</td>\n",
              "    </tr>\n",
              "    <tr>\n",
              "      <th>1900103</th>\n",
              "      <td>Choi</td>\n",
              "      <td>100</td>\n",
              "      <td>100</td>\n",
              "    </tr>\n",
              "    <tr>\n",
              "      <th>1900104</th>\n",
              "      <td>Park</td>\n",
              "      <td>100</td>\n",
              "      <td>100</td>\n",
              "    </tr>\n",
              "  </tbody>\n",
              "</table>\n",
              "</div>"
            ],
            "text/plain": [
              "         name  english  korean\n",
              "ID                            \n",
              "1900101   Kim       90     100\n",
              "1900102  Yoon       80     100\n",
              "1900103  Choi      100     100\n",
              "1900104  Park      100     100"
            ]
          },
          "metadata": {
            "tags": []
          }
        }
      ]
    },
    {
      "cell_type": "code",
      "metadata": {
        "id": "dW2ysqZeYRef",
        "colab": {
          "base_uri": "https://localhost:8080/",
          "height": 263
        },
        "outputId": "d4ca8018-e755-4262-ca35-c7b4b48f9764"
      },
      "source": [
        "# ndarray(2D) data \n",
        "a = np.random.randint(80, 100, size=(4, 3)).astype(np.float16)\n",
        "df = pd.DataFrame(a,\n",
        "                  index=ID,\n",
        "                  columns = ['english', 'japanese', 'chinese'],\n",
        "                  copy = True)\n",
        "df.index.name = 'ID'    \n",
        "a[0] = [100] * 3\n",
        "printobj(a, df)"
      ],
      "execution_count": null,
      "outputs": [
        {
          "output_type": "stream",
          "text": [
            "<class 'numpy.ndarray'>\n",
            "[[100. 100. 100.]\n",
            " [ 87.  91.  99.]\n",
            " [ 87.  83.  85.]\n",
            " [ 83.  94.  80.]]\n",
            "-------------------------\n",
            "<class 'pandas.core.frame.DataFrame'>\n",
            "         english  japanese  chinese\n",
            "ID                                 \n",
            "1900101     97.0      99.0     86.0\n",
            "1900102     87.0      91.0     99.0\n",
            "1900103     87.0      83.0     85.0\n",
            "1900104     83.0      94.0     80.0\n",
            "-------------------------\n"
          ],
          "name": "stdout"
        }
      ]
    },
    {
      "cell_type": "markdown",
      "metadata": {
        "id": "Hyv9UfRtYRei"
      },
      "source": [
        "#### 7-2. DataFrame의 연산\n",
        "- DataFrame 끼리의 연산은 index와 columns를 모두 대상으로 한다\n",
        "- df + df 의 경우 match 되는 index 나 column 이 없는 경우 NaN 으로 결과가 표시된다"
      ]
    },
    {
      "cell_type": "code",
      "metadata": {
        "id": "ywFb-JkaYRej"
      },
      "source": [
        "import pandas as pd\n",
        "import numpy as np\n",
        "\n",
        "def printobj(*a):\n",
        "    for x in a:\n",
        "        print(type(x))\n",
        "        print(x)\n",
        "        print('-'*30)"
      ],
      "execution_count": null,
      "outputs": []
    },
    {
      "cell_type": "code",
      "metadata": {
        "id": "LOyQzlWsYRen",
        "colab": {
          "base_uri": "https://localhost:8080/",
          "height": 281
        },
        "outputId": "ed3cba10-a6ae-45af-d519-91b9b49e01b2"
      },
      "source": [
        "#index, columns 모두 동일\n",
        "df1 = pd.DataFrame( np.full((2,3), 1),\n",
        "                    index=list(\"AB\"),\n",
        "                    columns=list(\"abc\") )\n",
        "df2 = pd.DataFrame( np.full((2,3), 2),\n",
        "                    index=list(\"AB\"),\n",
        "                    columns=list(\"abc\") )\n",
        "printobj(df1, df2, df1 + df2)"
      ],
      "execution_count": null,
      "outputs": [
        {
          "output_type": "stream",
          "text": [
            "<class 'pandas.core.frame.DataFrame'>\n",
            "   a  b  c\n",
            "A  1  1  1\n",
            "B  1  1  1\n",
            "------------------------------\n",
            "<class 'pandas.core.frame.DataFrame'>\n",
            "   a  b  c\n",
            "A  2  2  2\n",
            "B  2  2  2\n",
            "------------------------------\n",
            "<class 'pandas.core.frame.DataFrame'>\n",
            "   a  b  c\n",
            "A  3  3  3\n",
            "B  3  3  3\n",
            "------------------------------\n"
          ],
          "name": "stdout"
        }
      ]
    },
    {
      "cell_type": "code",
      "metadata": {
        "id": "kuVs4B0QYReq",
        "colab": {
          "base_uri": "https://localhost:8080/",
          "height": 404
        },
        "outputId": "8b84c643-8d24-41c8-e4ea-2a5eaed63113"
      },
      "source": [
        "#index, columns 동일하지 않는 경우\n",
        "df1 = pd.DataFrame( np.full((2,4), 1),\n",
        "                    index=list(\"CB\"),\n",
        "                    columns=list(\"abcd\") )\n",
        "df2 = pd.DataFrame( np.full((2,3), 2),\n",
        "                    index=list(\"AB\"),\n",
        "                    columns=list(\"acd\") )    \n",
        "df3 = df1 + df2\n",
        "df4 = df1.add(df2, fill_value=0)\n",
        "printobj(df1, df2, df3, df4)"
      ],
      "execution_count": null,
      "outputs": [
        {
          "output_type": "stream",
          "text": [
            "<class 'pandas.core.frame.DataFrame'>\n",
            "   a  b  c  d\n",
            "C  1  1  1  1\n",
            "B  1  1  1  1\n",
            "------------------------------\n",
            "<class 'pandas.core.frame.DataFrame'>\n",
            "   a  c  d\n",
            "A  2  2  2\n",
            "B  2  2  2\n",
            "------------------------------\n",
            "<class 'pandas.core.frame.DataFrame'>\n",
            "     a   b    c    d\n",
            "A  NaN NaN  NaN  NaN\n",
            "B  3.0 NaN  3.0  3.0\n",
            "C  NaN NaN  NaN  NaN\n",
            "------------------------------\n",
            "<class 'pandas.core.frame.DataFrame'>\n",
            "     a    b    c    d\n",
            "A  2.0  NaN  2.0  2.0\n",
            "B  3.0  1.0  3.0  3.0\n",
            "C  1.0  1.0  1.0  1.0\n",
            "------------------------------\n"
          ],
          "name": "stdout"
        }
      ]
    },
    {
      "cell_type": "markdown",
      "metadata": {
        "id": "zbTNb6MjhhSL"
      },
      "source": [
        "![image.png](data:image/png;base64,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)"
      ]
    },
    {
      "cell_type": "code",
      "metadata": {
        "id": "aKXD1KIpYRev"
      },
      "source": [
        "df = pd.DataFrame( np.full((2,3), 2),\n",
        "                   index=list(\"AB\"),\n",
        "                   columns=list(\"abc\") )    \n",
        "s1 = pd.Series( np.full(3, 1),\n",
        "                index=list(\"abc\") )\n",
        "s2 = pd.Series( np.full(3, 3),\n",
        "                index=list(\"abx\") )"
      ],
      "execution_count": null,
      "outputs": []
    },
    {
      "cell_type": "markdown",
      "metadata": {
        "id": "lCL3sIMQYRex"
      },
      "source": [
        "- DataFrame + Series은 DataFrame의 column, Series의 index에 맞춰 연산 된다\n",
        "- Series가 DataFrame의 row 개수에 맞춰 broadcasting 되어 사용된다\n",
        "- match 되는 index 가 없는 경우 결과는 NaN 이다\n"
      ]
    },
    {
      "cell_type": "code",
      "metadata": {
        "id": "NL1g3z_8iWI4",
        "colab": {
          "base_uri": "https://localhost:8080/",
          "height": 316
        },
        "outputId": "75d79729-4f04-47c6-84d9-3faec3055f28"
      },
      "source": [
        "printobj(df, s1, s2)"
      ],
      "execution_count": null,
      "outputs": [
        {
          "output_type": "stream",
          "text": [
            "<class 'pandas.core.frame.DataFrame'>\n",
            "   a  b  c\n",
            "A  2  2  2\n",
            "B  2  2  2\n",
            "------------------------------\n",
            "<class 'pandas.core.series.Series'>\n",
            "a    1\n",
            "b    1\n",
            "c    1\n",
            "dtype: int64\n",
            "------------------------------\n",
            "<class 'pandas.core.series.Series'>\n",
            "a    3\n",
            "b    3\n",
            "x    3\n",
            "dtype: int64\n",
            "------------------------------\n"
          ],
          "name": "stdout"
        }
      ]
    },
    {
      "cell_type": "code",
      "metadata": {
        "id": "Oe0zpTZQYRey",
        "colab": {
          "base_uri": "https://localhost:8080/",
          "height": 298
        },
        "outputId": "1d185ff8-9887-4bb5-f0f8-c2365d674662"
      },
      "source": [
        "df2 = df + s1\n",
        "printobj(df, s1, df2)"
      ],
      "execution_count": null,
      "outputs": [
        {
          "output_type": "stream",
          "text": [
            "<class 'pandas.core.frame.DataFrame'>\n",
            "   a  b  c\n",
            "A  2  2  2\n",
            "B  2  2  2\n",
            "------------------------------\n",
            "<class 'pandas.core.series.Series'>\n",
            "a    1\n",
            "b    1\n",
            "c    1\n",
            "dtype: int64\n",
            "------------------------------\n",
            "<class 'pandas.core.frame.DataFrame'>\n",
            "   a  b  c\n",
            "A  3  3  3\n",
            "B  3  3  3\n",
            "------------------------------\n"
          ],
          "name": "stdout"
        }
      ]
    },
    {
      "cell_type": "code",
      "metadata": {
        "id": "_FkRBqajYRez",
        "colab": {
          "base_uri": "https://localhost:8080/",
          "height": 298
        },
        "outputId": "c5698649-e030-49e4-cff2-4250313d4d64"
      },
      "source": [
        "df3 = s1 + df\n",
        "printobj(s1, df, df3)"
      ],
      "execution_count": null,
      "outputs": [
        {
          "output_type": "stream",
          "text": [
            "<class 'pandas.core.series.Series'>\n",
            "a    1\n",
            "b    1\n",
            "c    1\n",
            "dtype: int64\n",
            "------------------------------\n",
            "<class 'pandas.core.frame.DataFrame'>\n",
            "   a  b  c\n",
            "A  2  2  2\n",
            "B  2  2  2\n",
            "------------------------------\n",
            "<class 'pandas.core.frame.DataFrame'>\n",
            "   a  b  c\n",
            "A  3  3  3\n",
            "B  3  3  3\n",
            "------------------------------\n"
          ],
          "name": "stdout"
        }
      ]
    },
    {
      "cell_type": "code",
      "metadata": {
        "id": "V0rvjByaYRe3",
        "colab": {
          "base_uri": "https://localhost:8080/",
          "height": 298
        },
        "outputId": "0b662597-ee5b-4d80-c333-58654f854a37"
      },
      "source": [
        "df4 = df + s2\n",
        "printobj(df, s2, df4)"
      ],
      "execution_count": null,
      "outputs": [
        {
          "output_type": "stream",
          "text": [
            "<class 'pandas.core.frame.DataFrame'>\n",
            "   a  b  c\n",
            "A  2  2  2\n",
            "B  2  2  2\n",
            "------------------------------\n",
            "<class 'pandas.core.series.Series'>\n",
            "a    3\n",
            "b    3\n",
            "x    3\n",
            "dtype: int64\n",
            "------------------------------\n",
            "<class 'pandas.core.frame.DataFrame'>\n",
            "     a    b   c   x\n",
            "A  5.0  5.0 NaN NaN\n",
            "B  5.0  5.0 NaN NaN\n",
            "------------------------------\n"
          ],
          "name": "stdout"
        }
      ]
    },
    {
      "cell_type": "code",
      "metadata": {
        "id": "z-7TF5SiYRe5"
      },
      "source": [
        "df5 = s2 + df\n",
        "printobj(s2, df, df5)"
      ],
      "execution_count": null,
      "outputs": []
    },
    {
      "cell_type": "markdown",
      "metadata": {
        "id": "AQVG7WteYRe8"
      },
      "source": [
        "- DataFrame  + Scalar는 각 원소별로 스칼라와 연산 된다\n",
        "- 스칼라가 broadcasting 되어 사용된다"
      ]
    },
    {
      "cell_type": "code",
      "metadata": {
        "id": "VqEUao3aYRe8",
        "colab": {
          "base_uri": "https://localhost:8080/",
          "height": 193
        },
        "outputId": "2d3bd5ce-7dce-44d0-e2a5-4ff32ef69169"
      },
      "source": [
        "df1 = df + 2\n",
        "printobj(df, df1)"
      ],
      "execution_count": null,
      "outputs": [
        {
          "output_type": "stream",
          "text": [
            "<class 'pandas.core.frame.DataFrame'>\n",
            "   a  b  c\n",
            "A  2  2  2\n",
            "B  2  2  2\n",
            "------------------------------\n",
            "<class 'pandas.core.frame.DataFrame'>\n",
            "   a  b  c\n",
            "A  4  4  4\n",
            "B  4  4  4\n",
            "------------------------------\n"
          ],
          "name": "stdout"
        }
      ]
    },
    {
      "cell_type": "markdown",
      "metadata": {
        "id": "2_djqldIYRe_"
      },
      "source": [
        "### 8.DataFrame, Series의 삽입, 삭제, 갱신"
      ]
    },
    {
      "cell_type": "markdown",
      "metadata": {
        "id": "Ahi0c_ptYRe_"
      },
      "source": [
        "#### 8-1. Series 추가, 갱신, 삭제\n"
      ]
    },
    {
      "cell_type": "code",
      "metadata": {
        "id": "68uReU0tRPqd"
      },
      "source": [
        "import pandas as pd\n",
        "\n",
        "def printobj(*a):\n",
        "    for x in a:\n",
        "        print(type(x))\n",
        "        print(x)\n",
        "        print(\"-\" * 25)"
      ],
      "execution_count": null,
      "outputs": []
    },
    {
      "cell_type": "code",
      "metadata": {
        "id": "47dzRu9yYRfA",
        "colab": {
          "base_uri": "https://localhost:8080/",
          "height": 105
        },
        "outputId": "44f6359a-b810-4505-b083-1ed44e160f64"
      },
      "source": [
        "ID = [1900101, 1900102, 1900103, 1900104]\n",
        "name = [\"Kim\", \"Yoon\", \"Choi\", \"Park\"]\n",
        "s = pd.Series(ID, index=name)\n",
        "s"
      ],
      "execution_count": null,
      "outputs": [
        {
          "output_type": "execute_result",
          "data": {
            "text/plain": [
              "Kim     1900101\n",
              "Yoon    1900102\n",
              "Choi    1900103\n",
              "Park    1900104\n",
              "dtype: int64"
            ]
          },
          "metadata": {
            "tags": []
          },
          "execution_count": 41
        }
      ]
    },
    {
      "cell_type": "code",
      "metadata": {
        "id": "OsPHs4aiYod5",
        "colab": {
          "base_uri": "https://localhost:8080/",
          "height": 246
        },
        "outputId": "365c49a0-0759-4bd5-a8a0-d0cbd6651a4d"
      },
      "source": [
        "s['Yoon'] = 1900100   # 갱신\n",
        "s['Lee']  = 1900200   # 추가 \n",
        "del s['Kim']          # 삭제\n",
        "printobj(s, s['Park'], s.Choi)   # 읽기"
      ],
      "execution_count": null,
      "outputs": [
        {
          "output_type": "stream",
          "text": [
            "<class 'pandas.core.series.Series'>\n",
            "Yoon    1900100\n",
            "Choi    1900103\n",
            "Park    1900104\n",
            "Lee     1900200\n",
            "dtype: int64\n",
            "-------------------------\n",
            "<class 'numpy.int64'>\n",
            "1900104\n",
            "-------------------------\n",
            "<class 'numpy.int64'>\n",
            "1900103\n",
            "-------------------------\n"
          ],
          "name": "stdout"
        }
      ]
    },
    {
      "cell_type": "markdown",
      "metadata": {
        "id": "UdKo0Ia9PRpT"
      },
      "source": [
        "####8-2. DataFrame 추가, 갱신, 삭제\n",
        "- 추가, 갱신 : 항의 개수가 같아야 함\n",
        "    - column 단위로 추가, 갱신 작업\n",
        "- df['column_label']=1D array\n",
        "   - 'column_label'에 해당하는 column 갱신 또는  추가\n",
        "   - read /write용으로 모두 사용\n",
        "- df.column_label\n",
        "   - read 용으로 사용"
      ]
    },
    {
      "cell_type": "code",
      "metadata": {
        "id": "WJjyzxhJYr3Q"
      },
      "source": [
        "ID = [1900101, 1900102, 1900103, 1900104]\n",
        "name = [\"Kim\", \"Yoon\", \"Choi\", \"Park\"]\n",
        "data = {'name'    : name,\n",
        "        'english' : [80, 90, 100, 95],\n",
        "        'korean'  : [95, 100, 80, 60]}"
      ],
      "execution_count": null,
      "outputs": []
    },
    {
      "cell_type": "code",
      "metadata": {
        "id": "mVj5BAX_YRfF",
        "colab": {
          "base_uri": "https://localhost:8080/",
          "height": 166
        },
        "outputId": "944656ea-e8ef-45ef-878b-148bac933ba7"
      },
      "source": [
        "df = pd.DataFrame(data, index=ID)\n",
        "df"
      ],
      "execution_count": null,
      "outputs": [
        {
          "output_type": "execute_result",
          "data": {
            "text/html": [
              "<div>\n",
              "<style scoped>\n",
              "    .dataframe tbody tr th:only-of-type {\n",
              "        vertical-align: middle;\n",
              "    }\n",
              "\n",
              "    .dataframe tbody tr th {\n",
              "        vertical-align: top;\n",
              "    }\n",
              "\n",
              "    .dataframe thead th {\n",
              "        text-align: right;\n",
              "    }\n",
              "</style>\n",
              "<table border=\"1\" class=\"dataframe\">\n",
              "  <thead>\n",
              "    <tr style=\"text-align: right;\">\n",
              "      <th></th>\n",
              "      <th>name</th>\n",
              "      <th>english</th>\n",
              "      <th>korean</th>\n",
              "    </tr>\n",
              "  </thead>\n",
              "  <tbody>\n",
              "    <tr>\n",
              "      <th>1900101</th>\n",
              "      <td>Kim</td>\n",
              "      <td>80</td>\n",
              "      <td>95</td>\n",
              "    </tr>\n",
              "    <tr>\n",
              "      <th>1900102</th>\n",
              "      <td>Yoon</td>\n",
              "      <td>90</td>\n",
              "      <td>100</td>\n",
              "    </tr>\n",
              "    <tr>\n",
              "      <th>1900103</th>\n",
              "      <td>Choi</td>\n",
              "      <td>100</td>\n",
              "      <td>80</td>\n",
              "    </tr>\n",
              "    <tr>\n",
              "      <th>1900104</th>\n",
              "      <td>Park</td>\n",
              "      <td>95</td>\n",
              "      <td>60</td>\n",
              "    </tr>\n",
              "  </tbody>\n",
              "</table>\n",
              "</div>"
            ],
            "text/plain": [
              "         name  english  korean\n",
              "1900101   Kim       80      95\n",
              "1900102  Yoon       90     100\n",
              "1900103  Choi      100      80\n",
              "1900104  Park       95      60"
            ]
          },
          "metadata": {
            "tags": []
          },
          "execution_count": 44
        }
      ]
    },
    {
      "cell_type": "code",
      "metadata": {
        "id": "p0wf2C-aWQoF",
        "colab": {
          "base_uri": "https://localhost:8080/",
          "height": 193
        },
        "outputId": "2afdb0af-8c23-4a0e-c501-de3d7778ace2"
      },
      "source": [
        "eng1 = df['english']\n",
        "eng2 = df.english\n",
        "df['korean'] = [100] * 4             # 갱신 \n",
        "#df.chinese   = [200] * 4            # 추가 - UserWarning\n",
        "df['chinese'] = [100, 80, 70, 85]    # 추가\n",
        "printobj(eng1 is eng2, df)"
      ],
      "execution_count": null,
      "outputs": [
        {
          "output_type": "stream",
          "text": [
            "<class 'bool'>\n",
            "True\n",
            "-------------------------\n",
            "<class 'pandas.core.frame.DataFrame'>\n",
            "         name  english  korean  chinese\n",
            "1900101   Kim       80     100      100\n",
            "1900102  Yoon       90     100       80\n",
            "1900103  Choi      100     100       70\n",
            "1900104  Park       95     100       85\n",
            "-------------------------\n"
          ],
          "name": "stdout"
        }
      ]
    },
    {
      "cell_type": "code",
      "metadata": {
        "id": "urW9XzxAS-ST",
        "colab": {
          "base_uri": "https://localhost:8080/",
          "height": 140
        },
        "outputId": "06313c52-6acd-4497-e8bf-c2f4e4144116"
      },
      "source": [
        "del df['chinese']\n",
        "printobj(df)"
      ],
      "execution_count": null,
      "outputs": [
        {
          "output_type": "stream",
          "text": [
            "<class 'pandas.core.frame.DataFrame'>\n",
            "         name  english  korean\n",
            "1900101   Kim       80     100\n",
            "1900102  Yoon       90     100\n",
            "1900103  Choi      100     100\n",
            "1900104  Park       95     100\n",
            "-------------------------\n"
          ],
          "name": "stdout"
        }
      ]
    },
    {
      "cell_type": "code",
      "metadata": {
        "id": "rIWlpmC5YRfM",
        "colab": {
          "base_uri": "https://localhost:8080/",
          "height": 105
        },
        "outputId": "83955b24-0bb7-4955-b699-1f345d705f04"
      },
      "source": [
        "# 주의사항\n",
        "s = pd.Series([1, 2, 3],\n",
        "              index = ['A', 'B', 'sum'])\n",
        "#s.sum = 10    # 사용하지 말 것\n",
        "s['sum'] = 10\n",
        "print(s.sum())\n",
        "s"
      ],
      "execution_count": null,
      "outputs": [
        {
          "output_type": "stream",
          "text": [
            "13\n"
          ],
          "name": "stdout"
        },
        {
          "output_type": "execute_result",
          "data": {
            "text/plain": [
              "A       1\n",
              "B       2\n",
              "sum    10\n",
              "dtype: int64"
            ]
          },
          "metadata": {
            "tags": []
          },
          "execution_count": 50
        }
      ]
    },
    {
      "cell_type": "markdown",
      "metadata": {
        "id": "ge5WpM1ZYRfO"
      },
      "source": [
        "### 9.Index 조작"
      ]
    },
    {
      "cell_type": "markdown",
      "metadata": {
        "id": "_xm2APpaYRfP"
      },
      "source": [
        "#### 9-1 set_index\n",
        "- df.set_index(keys, drop=True,  append=False, inplace=False)\n",
        "- 선택된 columns의 일부로 새로 구성한 index 를 갖는 DataFrame 반환\n",
        "- keys : 새로운 index 생성에 사용할 column/column 목록(columns labels로 작성)\n",
        "- drop : keys를 columns 로 부터 제거 여부 (default True => 제거함)\n",
        "- append : 기존 index를 유지하면서 keys를 추가 여부 (default False => 유지하지 않음)"
      ]
    },
    {
      "cell_type": "code",
      "metadata": {
        "id": "SWCDNC89YRfP",
        "colab": {
          "base_uri": "https://localhost:8080/",
          "height": 136
        },
        "outputId": "7f5e1ca4-563a-4926-8b31-4f6a32edf354"
      },
      "source": [
        "df = pd.read_csv('easySampleIndex.csv', index_col='pname')\n",
        "df = df.head(2)\n",
        "df"
      ],
      "execution_count": null,
      "outputs": [
        {
          "output_type": "execute_result",
          "data": {
            "text/html": [
              "<div>\n",
              "<style scoped>\n",
              "    .dataframe tbody tr th:only-of-type {\n",
              "        vertical-align: middle;\n",
              "    }\n",
              "\n",
              "    .dataframe tbody tr th {\n",
              "        vertical-align: top;\n",
              "    }\n",
              "\n",
              "    .dataframe thead th {\n",
              "        text-align: right;\n",
              "    }\n",
              "</style>\n",
              "<table border=\"1\" class=\"dataframe\">\n",
              "  <thead>\n",
              "    <tr style=\"text-align: right;\">\n",
              "      <th></th>\n",
              "      <th>dept</th>\n",
              "      <th>gender</th>\n",
              "      <th>age</th>\n",
              "      <th>salary</th>\n",
              "    </tr>\n",
              "    <tr>\n",
              "      <th>pname</th>\n",
              "      <th></th>\n",
              "      <th></th>\n",
              "      <th></th>\n",
              "      <th></th>\n",
              "    </tr>\n",
              "  </thead>\n",
              "  <tbody>\n",
              "    <tr>\n",
              "      <th>James Kim</th>\n",
              "      <td>Education</td>\n",
              "      <td>Female</td>\n",
              "      <td>36</td>\n",
              "      <td>4700</td>\n",
              "    </tr>\n",
              "    <tr>\n",
              "      <th>Rose Hwang</th>\n",
              "      <td>Marketing</td>\n",
              "      <td>Male</td>\n",
              "      <td>35</td>\n",
              "      <td>4320</td>\n",
              "    </tr>\n",
              "  </tbody>\n",
              "</table>\n",
              "</div>"
            ],
            "text/plain": [
              "                 dept  gender  age  salary\n",
              "pname                                     \n",
              "James Kim   Education  Female   36    4700\n",
              "Rose Hwang  Marketing    Male   35    4320"
            ]
          },
          "metadata": {
            "tags": []
          },
          "execution_count": 4
        }
      ]
    },
    {
      "cell_type": "code",
      "metadata": {
        "id": "EulUvl9aYRfU",
        "colab": {
          "base_uri": "https://localhost:8080/",
          "height": 136
        },
        "outputId": "abe359e9-e6c4-41aa-96f2-260d2302fa01"
      },
      "source": [
        "df1 = df.set_index('age')\n",
        "df1"
      ],
      "execution_count": null,
      "outputs": [
        {
          "output_type": "execute_result",
          "data": {
            "text/html": [
              "<div>\n",
              "<style scoped>\n",
              "    .dataframe tbody tr th:only-of-type {\n",
              "        vertical-align: middle;\n",
              "    }\n",
              "\n",
              "    .dataframe tbody tr th {\n",
              "        vertical-align: top;\n",
              "    }\n",
              "\n",
              "    .dataframe thead th {\n",
              "        text-align: right;\n",
              "    }\n",
              "</style>\n",
              "<table border=\"1\" class=\"dataframe\">\n",
              "  <thead>\n",
              "    <tr style=\"text-align: right;\">\n",
              "      <th></th>\n",
              "      <th>dept</th>\n",
              "      <th>gender</th>\n",
              "      <th>salary</th>\n",
              "    </tr>\n",
              "    <tr>\n",
              "      <th>age</th>\n",
              "      <th></th>\n",
              "      <th></th>\n",
              "      <th></th>\n",
              "    </tr>\n",
              "  </thead>\n",
              "  <tbody>\n",
              "    <tr>\n",
              "      <th>36</th>\n",
              "      <td>Education</td>\n",
              "      <td>Female</td>\n",
              "      <td>4700</td>\n",
              "    </tr>\n",
              "    <tr>\n",
              "      <th>35</th>\n",
              "      <td>Marketing</td>\n",
              "      <td>Male</td>\n",
              "      <td>4320</td>\n",
              "    </tr>\n",
              "  </tbody>\n",
              "</table>\n",
              "</div>"
            ],
            "text/plain": [
              "          dept  gender  salary\n",
              "age                           \n",
              "36   Education  Female    4700\n",
              "35   Marketing    Male    4320"
            ]
          },
          "metadata": {
            "tags": []
          },
          "execution_count": 5
        }
      ]
    },
    {
      "cell_type": "code",
      "metadata": {
        "id": "4jyXzPzKQ8fs",
        "colab": {
          "base_uri": "https://localhost:8080/",
          "height": 136
        },
        "outputId": "f11993a4-4eba-4436-912b-dac454b3f2a6"
      },
      "source": [
        "df2 = df.set_index('age', drop=False)\n",
        "df2"
      ],
      "execution_count": null,
      "outputs": [
        {
          "output_type": "execute_result",
          "data": {
            "text/html": [
              "<div>\n",
              "<style scoped>\n",
              "    .dataframe tbody tr th:only-of-type {\n",
              "        vertical-align: middle;\n",
              "    }\n",
              "\n",
              "    .dataframe tbody tr th {\n",
              "        vertical-align: top;\n",
              "    }\n",
              "\n",
              "    .dataframe thead th {\n",
              "        text-align: right;\n",
              "    }\n",
              "</style>\n",
              "<table border=\"1\" class=\"dataframe\">\n",
              "  <thead>\n",
              "    <tr style=\"text-align: right;\">\n",
              "      <th></th>\n",
              "      <th>dept</th>\n",
              "      <th>gender</th>\n",
              "      <th>age</th>\n",
              "      <th>salary</th>\n",
              "    </tr>\n",
              "    <tr>\n",
              "      <th>age</th>\n",
              "      <th></th>\n",
              "      <th></th>\n",
              "      <th></th>\n",
              "      <th></th>\n",
              "    </tr>\n",
              "  </thead>\n",
              "  <tbody>\n",
              "    <tr>\n",
              "      <th>36</th>\n",
              "      <td>Education</td>\n",
              "      <td>Female</td>\n",
              "      <td>36</td>\n",
              "      <td>4700</td>\n",
              "    </tr>\n",
              "    <tr>\n",
              "      <th>35</th>\n",
              "      <td>Marketing</td>\n",
              "      <td>Male</td>\n",
              "      <td>35</td>\n",
              "      <td>4320</td>\n",
              "    </tr>\n",
              "  </tbody>\n",
              "</table>\n",
              "</div>"
            ],
            "text/plain": [
              "          dept  gender  age  salary\n",
              "age                                \n",
              "36   Education  Female   36    4700\n",
              "35   Marketing    Male   35    4320"
            ]
          },
          "metadata": {
            "tags": []
          },
          "execution_count": 6
        }
      ]
    },
    {
      "cell_type": "code",
      "metadata": {
        "id": "7lMFyoEDVlo3",
        "colab": {
          "base_uri": "https://localhost:8080/",
          "height": 136
        },
        "outputId": "e3d8bafe-cad0-4b5c-bbca-37f1f3ffa6ac"
      },
      "source": [
        "df3 = df.set_index('age', append=True)    \n",
        "df3  # Multilevel Index"
      ],
      "execution_count": null,
      "outputs": [
        {
          "output_type": "execute_result",
          "data": {
            "text/html": [
              "<div>\n",
              "<style scoped>\n",
              "    .dataframe tbody tr th:only-of-type {\n",
              "        vertical-align: middle;\n",
              "    }\n",
              "\n",
              "    .dataframe tbody tr th {\n",
              "        vertical-align: top;\n",
              "    }\n",
              "\n",
              "    .dataframe thead th {\n",
              "        text-align: right;\n",
              "    }\n",
              "</style>\n",
              "<table border=\"1\" class=\"dataframe\">\n",
              "  <thead>\n",
              "    <tr style=\"text-align: right;\">\n",
              "      <th></th>\n",
              "      <th></th>\n",
              "      <th>dept</th>\n",
              "      <th>gender</th>\n",
              "      <th>salary</th>\n",
              "    </tr>\n",
              "    <tr>\n",
              "      <th>pname</th>\n",
              "      <th>age</th>\n",
              "      <th></th>\n",
              "      <th></th>\n",
              "      <th></th>\n",
              "    </tr>\n",
              "  </thead>\n",
              "  <tbody>\n",
              "    <tr>\n",
              "      <th>James Kim</th>\n",
              "      <th>36</th>\n",
              "      <td>Education</td>\n",
              "      <td>Female</td>\n",
              "      <td>4700</td>\n",
              "    </tr>\n",
              "    <tr>\n",
              "      <th>Rose Hwang</th>\n",
              "      <th>35</th>\n",
              "      <td>Marketing</td>\n",
              "      <td>Male</td>\n",
              "      <td>4320</td>\n",
              "    </tr>\n",
              "  </tbody>\n",
              "</table>\n",
              "</div>"
            ],
            "text/plain": [
              "                     dept  gender  salary\n",
              "pname      age                           \n",
              "James Kim  36   Education  Female    4700\n",
              "Rose Hwang 35   Marketing    Male    4320"
            ]
          },
          "metadata": {
            "tags": []
          },
          "execution_count": 7
        }
      ]
    },
    {
      "cell_type": "code",
      "metadata": {
        "id": "slyJDdKCYRfX",
        "colab": {
          "base_uri": "https://localhost:8080/",
          "height": 136
        },
        "outputId": "0515d429-d57c-437d-fab8-c1922aebccdd"
      },
      "source": [
        "df4 = df.set_index(['dept', 'gender'])\n",
        "df4"
      ],
      "execution_count": null,
      "outputs": [
        {
          "output_type": "execute_result",
          "data": {
            "text/html": [
              "<div>\n",
              "<style scoped>\n",
              "    .dataframe tbody tr th:only-of-type {\n",
              "        vertical-align: middle;\n",
              "    }\n",
              "\n",
              "    .dataframe tbody tr th {\n",
              "        vertical-align: top;\n",
              "    }\n",
              "\n",
              "    .dataframe thead th {\n",
              "        text-align: right;\n",
              "    }\n",
              "</style>\n",
              "<table border=\"1\" class=\"dataframe\">\n",
              "  <thead>\n",
              "    <tr style=\"text-align: right;\">\n",
              "      <th></th>\n",
              "      <th></th>\n",
              "      <th>age</th>\n",
              "      <th>salary</th>\n",
              "    </tr>\n",
              "    <tr>\n",
              "      <th>dept</th>\n",
              "      <th>gender</th>\n",
              "      <th></th>\n",
              "      <th></th>\n",
              "    </tr>\n",
              "  </thead>\n",
              "  <tbody>\n",
              "    <tr>\n",
              "      <th>Education</th>\n",
              "      <th>Female</th>\n",
              "      <td>36</td>\n",
              "      <td>4700</td>\n",
              "    </tr>\n",
              "    <tr>\n",
              "      <th>Marketing</th>\n",
              "      <th>Male</th>\n",
              "      <td>35</td>\n",
              "      <td>4320</td>\n",
              "    </tr>\n",
              "  </tbody>\n",
              "</table>\n",
              "</div>"
            ],
            "text/plain": [
              "                  age  salary\n",
              "dept      gender             \n",
              "Education Female   36    4700\n",
              "Marketing Male     35    4320"
            ]
          },
          "metadata": {
            "tags": []
          },
          "execution_count": 8
        }
      ]
    },
    {
      "cell_type": "code",
      "metadata": {
        "id": "20xvIZVbYRfZ",
        "colab": {
          "base_uri": "https://localhost:8080/",
          "height": 136
        },
        "outputId": "6bd35de2-68b4-454d-8514-1d72b4f2fcec"
      },
      "source": [
        "df5 = df.set_index(['dept', 'gender'], append=True)\n",
        "df5"
      ],
      "execution_count": null,
      "outputs": [
        {
          "output_type": "execute_result",
          "data": {
            "text/html": [
              "<div>\n",
              "<style scoped>\n",
              "    .dataframe tbody tr th:only-of-type {\n",
              "        vertical-align: middle;\n",
              "    }\n",
              "\n",
              "    .dataframe tbody tr th {\n",
              "        vertical-align: top;\n",
              "    }\n",
              "\n",
              "    .dataframe thead th {\n",
              "        text-align: right;\n",
              "    }\n",
              "</style>\n",
              "<table border=\"1\" class=\"dataframe\">\n",
              "  <thead>\n",
              "    <tr style=\"text-align: right;\">\n",
              "      <th></th>\n",
              "      <th></th>\n",
              "      <th></th>\n",
              "      <th>age</th>\n",
              "      <th>salary</th>\n",
              "    </tr>\n",
              "    <tr>\n",
              "      <th>pname</th>\n",
              "      <th>dept</th>\n",
              "      <th>gender</th>\n",
              "      <th></th>\n",
              "      <th></th>\n",
              "    </tr>\n",
              "  </thead>\n",
              "  <tbody>\n",
              "    <tr>\n",
              "      <th>James Kim</th>\n",
              "      <th>Education</th>\n",
              "      <th>Female</th>\n",
              "      <td>36</td>\n",
              "      <td>4700</td>\n",
              "    </tr>\n",
              "    <tr>\n",
              "      <th>Rose Hwang</th>\n",
              "      <th>Marketing</th>\n",
              "      <th>Male</th>\n",
              "      <td>35</td>\n",
              "      <td>4320</td>\n",
              "    </tr>\n",
              "  </tbody>\n",
              "</table>\n",
              "</div>"
            ],
            "text/plain": [
              "                             age  salary\n",
              "pname      dept      gender             \n",
              "James Kim  Education Female   36    4700\n",
              "Rose Hwang Marketing Male     35    4320"
            ]
          },
          "metadata": {
            "tags": []
          },
          "execution_count": 9
        }
      ]
    },
    {
      "cell_type": "markdown",
      "metadata": {
        "id": "pbLn8Nw1YRfc"
      },
      "source": [
        "#### 9-2 reset_index\n",
        "- df.reset_index( level=None,  drop=False, ...) : \n",
        "- 현 index를 columns에 포함하여 새로 구성한 index를 갖는 DataFrame 반환 \n",
        "- level :int, str, tuple or list 로 작성 (None 이면 모든 index를 대상으로 함)\n",
        "   - 현 index 중 columns 로 포함 할 대상을 번호 또는 name으로 지정함\n",
        "   - 모든 index가 columns로 포함되면 RangeIndex가 새로운 Index로 생성됨\n",
        "- drop : 현 index를 columns 로 포함하지 않을 지의 여부 (drop=True : 포함 안함)"
      ]
    },
    {
      "cell_type": "code",
      "metadata": {
        "id": "I9ymJmAWZX6q",
        "colab": {
          "base_uri": "https://localhost:8080/",
          "height": 136
        },
        "outputId": "d2aed3c8-6c88-4428-a00c-73a643c5f418"
      },
      "source": [
        "df = pd.read_csv('easySampleIndex.csv', index_col='pname')\n",
        "df = df.head(2)\n",
        "df"
      ],
      "execution_count": null,
      "outputs": [
        {
          "output_type": "execute_result",
          "data": {
            "text/html": [
              "<div>\n",
              "<style scoped>\n",
              "    .dataframe tbody tr th:only-of-type {\n",
              "        vertical-align: middle;\n",
              "    }\n",
              "\n",
              "    .dataframe tbody tr th {\n",
              "        vertical-align: top;\n",
              "    }\n",
              "\n",
              "    .dataframe thead th {\n",
              "        text-align: right;\n",
              "    }\n",
              "</style>\n",
              "<table border=\"1\" class=\"dataframe\">\n",
              "  <thead>\n",
              "    <tr style=\"text-align: right;\">\n",
              "      <th></th>\n",
              "      <th>dept</th>\n",
              "      <th>gender</th>\n",
              "      <th>age</th>\n",
              "      <th>salary</th>\n",
              "    </tr>\n",
              "    <tr>\n",
              "      <th>pname</th>\n",
              "      <th></th>\n",
              "      <th></th>\n",
              "      <th></th>\n",
              "      <th></th>\n",
              "    </tr>\n",
              "  </thead>\n",
              "  <tbody>\n",
              "    <tr>\n",
              "      <th>James Kim</th>\n",
              "      <td>Education</td>\n",
              "      <td>Female</td>\n",
              "      <td>36</td>\n",
              "      <td>4700</td>\n",
              "    </tr>\n",
              "    <tr>\n",
              "      <th>Rose Hwang</th>\n",
              "      <td>Marketing</td>\n",
              "      <td>Male</td>\n",
              "      <td>35</td>\n",
              "      <td>4320</td>\n",
              "    </tr>\n",
              "  </tbody>\n",
              "</table>\n",
              "</div>"
            ],
            "text/plain": [
              "                 dept  gender  age  salary\n",
              "pname                                     \n",
              "James Kim   Education  Female   36    4700\n",
              "Rose Hwang  Marketing    Male   35    4320"
            ]
          },
          "metadata": {
            "tags": []
          },
          "execution_count": 10
        }
      ]
    },
    {
      "cell_type": "code",
      "metadata": {
        "id": "f5_kompfYRfc",
        "colab": {
          "base_uri": "https://localhost:8080/",
          "height": 106
        },
        "outputId": "1987bed8-fc94-4076-8432-e94340a03878"
      },
      "source": [
        "df1 = df.reset_index(0)\n",
        "df1"
      ],
      "execution_count": null,
      "outputs": [
        {
          "output_type": "execute_result",
          "data": {
            "text/html": [
              "<div>\n",
              "<style scoped>\n",
              "    .dataframe tbody tr th:only-of-type {\n",
              "        vertical-align: middle;\n",
              "    }\n",
              "\n",
              "    .dataframe tbody tr th {\n",
              "        vertical-align: top;\n",
              "    }\n",
              "\n",
              "    .dataframe thead th {\n",
              "        text-align: right;\n",
              "    }\n",
              "</style>\n",
              "<table border=\"1\" class=\"dataframe\">\n",
              "  <thead>\n",
              "    <tr style=\"text-align: right;\">\n",
              "      <th></th>\n",
              "      <th>pname</th>\n",
              "      <th>dept</th>\n",
              "      <th>gender</th>\n",
              "      <th>age</th>\n",
              "      <th>salary</th>\n",
              "    </tr>\n",
              "  </thead>\n",
              "  <tbody>\n",
              "    <tr>\n",
              "      <th>0</th>\n",
              "      <td>James Kim</td>\n",
              "      <td>Education</td>\n",
              "      <td>Female</td>\n",
              "      <td>36</td>\n",
              "      <td>4700</td>\n",
              "    </tr>\n",
              "    <tr>\n",
              "      <th>1</th>\n",
              "      <td>Rose Hwang</td>\n",
              "      <td>Marketing</td>\n",
              "      <td>Male</td>\n",
              "      <td>35</td>\n",
              "      <td>4320</td>\n",
              "    </tr>\n",
              "  </tbody>\n",
              "</table>\n",
              "</div>"
            ],
            "text/plain": [
              "        pname       dept  gender  age  salary\n",
              "0   James Kim  Education  Female   36    4700\n",
              "1  Rose Hwang  Marketing    Male   35    4320"
            ]
          },
          "metadata": {
            "tags": []
          },
          "execution_count": 11
        }
      ]
    },
    {
      "cell_type": "code",
      "metadata": {
        "id": "CwAUdz3L251x",
        "colab": {
          "base_uri": "https://localhost:8080/",
          "height": 34
        },
        "outputId": "cb88fd49-d0a4-4526-e53c-76e08db891f5"
      },
      "source": [
        "df1.index"
      ],
      "execution_count": null,
      "outputs": [
        {
          "output_type": "execute_result",
          "data": {
            "text/plain": [
              "RangeIndex(start=0, stop=2, step=1)"
            ]
          },
          "metadata": {
            "tags": []
          },
          "execution_count": 12
        }
      ]
    },
    {
      "cell_type": "code",
      "metadata": {
        "id": "M66aJFRLZRvP",
        "colab": {
          "base_uri": "https://localhost:8080/",
          "height": 106
        },
        "outputId": "3ae3ab6b-9460-4f55-f6d4-e1a6a7c3efe7"
      },
      "source": [
        "df2 = df.reset_index('pname')\n",
        "df2"
      ],
      "execution_count": null,
      "outputs": [
        {
          "output_type": "execute_result",
          "data": {
            "text/html": [
              "<div>\n",
              "<style scoped>\n",
              "    .dataframe tbody tr th:only-of-type {\n",
              "        vertical-align: middle;\n",
              "    }\n",
              "\n",
              "    .dataframe tbody tr th {\n",
              "        vertical-align: top;\n",
              "    }\n",
              "\n",
              "    .dataframe thead th {\n",
              "        text-align: right;\n",
              "    }\n",
              "</style>\n",
              "<table border=\"1\" class=\"dataframe\">\n",
              "  <thead>\n",
              "    <tr style=\"text-align: right;\">\n",
              "      <th></th>\n",
              "      <th>pname</th>\n",
              "      <th>dept</th>\n",
              "      <th>gender</th>\n",
              "      <th>age</th>\n",
              "      <th>salary</th>\n",
              "    </tr>\n",
              "  </thead>\n",
              "  <tbody>\n",
              "    <tr>\n",
              "      <th>0</th>\n",
              "      <td>James Kim</td>\n",
              "      <td>Education</td>\n",
              "      <td>Female</td>\n",
              "      <td>36</td>\n",
              "      <td>4700</td>\n",
              "    </tr>\n",
              "    <tr>\n",
              "      <th>1</th>\n",
              "      <td>Rose Hwang</td>\n",
              "      <td>Marketing</td>\n",
              "      <td>Male</td>\n",
              "      <td>35</td>\n",
              "      <td>4320</td>\n",
              "    </tr>\n",
              "  </tbody>\n",
              "</table>\n",
              "</div>"
            ],
            "text/plain": [
              "        pname       dept  gender  age  salary\n",
              "0   James Kim  Education  Female   36    4700\n",
              "1  Rose Hwang  Marketing    Male   35    4320"
            ]
          },
          "metadata": {
            "tags": []
          },
          "execution_count": 13
        }
      ]
    },
    {
      "cell_type": "code",
      "metadata": {
        "id": "_zSkgLtMYRfe",
        "colab": {
          "base_uri": "https://localhost:8080/",
          "height": 106
        },
        "outputId": "3da193cb-d0b6-412c-fc42-c2c9d7d209ba"
      },
      "source": [
        "df3 = df.reset_index()\n",
        "df3"
      ],
      "execution_count": null,
      "outputs": [
        {
          "output_type": "execute_result",
          "data": {
            "text/html": [
              "<div>\n",
              "<style scoped>\n",
              "    .dataframe tbody tr th:only-of-type {\n",
              "        vertical-align: middle;\n",
              "    }\n",
              "\n",
              "    .dataframe tbody tr th {\n",
              "        vertical-align: top;\n",
              "    }\n",
              "\n",
              "    .dataframe thead th {\n",
              "        text-align: right;\n",
              "    }\n",
              "</style>\n",
              "<table border=\"1\" class=\"dataframe\">\n",
              "  <thead>\n",
              "    <tr style=\"text-align: right;\">\n",
              "      <th></th>\n",
              "      <th>pname</th>\n",
              "      <th>dept</th>\n",
              "      <th>gender</th>\n",
              "      <th>age</th>\n",
              "      <th>salary</th>\n",
              "    </tr>\n",
              "  </thead>\n",
              "  <tbody>\n",
              "    <tr>\n",
              "      <th>0</th>\n",
              "      <td>James Kim</td>\n",
              "      <td>Education</td>\n",
              "      <td>Female</td>\n",
              "      <td>36</td>\n",
              "      <td>4700</td>\n",
              "    </tr>\n",
              "    <tr>\n",
              "      <th>1</th>\n",
              "      <td>Rose Hwang</td>\n",
              "      <td>Marketing</td>\n",
              "      <td>Male</td>\n",
              "      <td>35</td>\n",
              "      <td>4320</td>\n",
              "    </tr>\n",
              "  </tbody>\n",
              "</table>\n",
              "</div>"
            ],
            "text/plain": [
              "        pname       dept  gender  age  salary\n",
              "0   James Kim  Education  Female   36    4700\n",
              "1  Rose Hwang  Marketing    Male   35    4320"
            ]
          },
          "metadata": {
            "tags": []
          },
          "execution_count": 14
        }
      ]
    },
    {
      "cell_type": "code",
      "metadata": {
        "id": "EtcFy2Gzagvt",
        "colab": {
          "base_uri": "https://localhost:8080/",
          "height": 136
        },
        "outputId": "9a551649-e5f3-406a-ebff-ca3996133c69"
      },
      "source": [
        "df = df.set_index(['dept', 'gender'], append=True)\n",
        "df"
      ],
      "execution_count": null,
      "outputs": [
        {
          "output_type": "execute_result",
          "data": {
            "text/html": [
              "<div>\n",
              "<style scoped>\n",
              "    .dataframe tbody tr th:only-of-type {\n",
              "        vertical-align: middle;\n",
              "    }\n",
              "\n",
              "    .dataframe tbody tr th {\n",
              "        vertical-align: top;\n",
              "    }\n",
              "\n",
              "    .dataframe thead th {\n",
              "        text-align: right;\n",
              "    }\n",
              "</style>\n",
              "<table border=\"1\" class=\"dataframe\">\n",
              "  <thead>\n",
              "    <tr style=\"text-align: right;\">\n",
              "      <th></th>\n",
              "      <th></th>\n",
              "      <th></th>\n",
              "      <th>age</th>\n",
              "      <th>salary</th>\n",
              "    </tr>\n",
              "    <tr>\n",
              "      <th>pname</th>\n",
              "      <th>dept</th>\n",
              "      <th>gender</th>\n",
              "      <th></th>\n",
              "      <th></th>\n",
              "    </tr>\n",
              "  </thead>\n",
              "  <tbody>\n",
              "    <tr>\n",
              "      <th>James Kim</th>\n",
              "      <th>Education</th>\n",
              "      <th>Female</th>\n",
              "      <td>36</td>\n",
              "      <td>4700</td>\n",
              "    </tr>\n",
              "    <tr>\n",
              "      <th>Rose Hwang</th>\n",
              "      <th>Marketing</th>\n",
              "      <th>Male</th>\n",
              "      <td>35</td>\n",
              "      <td>4320</td>\n",
              "    </tr>\n",
              "  </tbody>\n",
              "</table>\n",
              "</div>"
            ],
            "text/plain": [
              "                             age  salary\n",
              "pname      dept      gender             \n",
              "James Kim  Education Female   36    4700\n",
              "Rose Hwang Marketing Male     35    4320"
            ]
          },
          "metadata": {
            "tags": []
          },
          "execution_count": 15
        }
      ]
    },
    {
      "cell_type": "code",
      "metadata": {
        "id": "A5WgvyCFZfJF",
        "colab": {
          "base_uri": "https://localhost:8080/",
          "height": 136
        },
        "outputId": "a60a93b5-4a72-4575-d05f-f1b4a8c250ae"
      },
      "source": [
        "#df4 = df.reset_index(['pname', 'dept'])\n",
        "df4 = df.reset_index([0, 1])\n",
        "df4"
      ],
      "execution_count": null,
      "outputs": [
        {
          "output_type": "execute_result",
          "data": {
            "text/html": [
              "<div>\n",
              "<style scoped>\n",
              "    .dataframe tbody tr th:only-of-type {\n",
              "        vertical-align: middle;\n",
              "    }\n",
              "\n",
              "    .dataframe tbody tr th {\n",
              "        vertical-align: top;\n",
              "    }\n",
              "\n",
              "    .dataframe thead th {\n",
              "        text-align: right;\n",
              "    }\n",
              "</style>\n",
              "<table border=\"1\" class=\"dataframe\">\n",
              "  <thead>\n",
              "    <tr style=\"text-align: right;\">\n",
              "      <th></th>\n",
              "      <th>pname</th>\n",
              "      <th>dept</th>\n",
              "      <th>age</th>\n",
              "      <th>salary</th>\n",
              "    </tr>\n",
              "    <tr>\n",
              "      <th>gender</th>\n",
              "      <th></th>\n",
              "      <th></th>\n",
              "      <th></th>\n",
              "      <th></th>\n",
              "    </tr>\n",
              "  </thead>\n",
              "  <tbody>\n",
              "    <tr>\n",
              "      <th>Female</th>\n",
              "      <td>James Kim</td>\n",
              "      <td>Education</td>\n",
              "      <td>36</td>\n",
              "      <td>4700</td>\n",
              "    </tr>\n",
              "    <tr>\n",
              "      <th>Male</th>\n",
              "      <td>Rose Hwang</td>\n",
              "      <td>Marketing</td>\n",
              "      <td>35</td>\n",
              "      <td>4320</td>\n",
              "    </tr>\n",
              "  </tbody>\n",
              "</table>\n",
              "</div>"
            ],
            "text/plain": [
              "             pname       dept  age  salary\n",
              "gender                                    \n",
              "Female   James Kim  Education   36    4700\n",
              "Male    Rose Hwang  Marketing   35    4320"
            ]
          },
          "metadata": {
            "tags": []
          },
          "execution_count": 17
        }
      ]
    },
    {
      "cell_type": "code",
      "metadata": {
        "id": "cOr13KknZfRj",
        "colab": {
          "base_uri": "https://localhost:8080/",
          "height": 136
        },
        "outputId": "4049d42f-5321-4948-c149-02f69bc092f8"
      },
      "source": [
        "df5 = df.reset_index([1,2], drop=True)\n",
        "df5"
      ],
      "execution_count": null,
      "outputs": [
        {
          "output_type": "execute_result",
          "data": {
            "text/html": [
              "<div>\n",
              "<style scoped>\n",
              "    .dataframe tbody tr th:only-of-type {\n",
              "        vertical-align: middle;\n",
              "    }\n",
              "\n",
              "    .dataframe tbody tr th {\n",
              "        vertical-align: top;\n",
              "    }\n",
              "\n",
              "    .dataframe thead th {\n",
              "        text-align: right;\n",
              "    }\n",
              "</style>\n",
              "<table border=\"1\" class=\"dataframe\">\n",
              "  <thead>\n",
              "    <tr style=\"text-align: right;\">\n",
              "      <th></th>\n",
              "      <th>age</th>\n",
              "      <th>salary</th>\n",
              "    </tr>\n",
              "    <tr>\n",
              "      <th>pname</th>\n",
              "      <th></th>\n",
              "      <th></th>\n",
              "    </tr>\n",
              "  </thead>\n",
              "  <tbody>\n",
              "    <tr>\n",
              "      <th>James Kim</th>\n",
              "      <td>36</td>\n",
              "      <td>4700</td>\n",
              "    </tr>\n",
              "    <tr>\n",
              "      <th>Rose Hwang</th>\n",
              "      <td>35</td>\n",
              "      <td>4320</td>\n",
              "    </tr>\n",
              "  </tbody>\n",
              "</table>\n",
              "</div>"
            ],
            "text/plain": [
              "            age  salary\n",
              "pname                  \n",
              "James Kim    36    4700\n",
              "Rose Hwang   35    4320"
            ]
          },
          "metadata": {
            "tags": []
          },
          "execution_count": 18
        }
      ]
    },
    {
      "cell_type": "markdown",
      "metadata": {
        "id": "cJXzudINYRfh"
      },
      "source": [
        "#### 9-3 sort_index\n",
        "- df.sort_index(axis=0, level=None, ascending=True, inplace=False,kind='quicksort', na_position=‘last’, ...)\n",
        "- 축에 따른 index labels를 기준으로 대상을 정렬하는 메서드이다\n",
        "- axis : 정렬 축 지정, DataFrame은 0, 1 Series은 0을 사용할 수 있음\n",
        "- level : int, level-name, list of int or level-names\n",
        "    - MultiIndex 에서 정렬 기준으로 사용할 level을 지정 함\n",
        "- ascending : True: 오름차순 정렬, False: 내림차순 정렬, list of boolean\n",
        "- inplace : True인 경우 객체를 직접 수정하고 None 반환\n",
        "- kind : 정렬 알고리즘 지정 {'quicksort', 'mergesort', 'heapsort'}\n",
        "- na_position : NA value의 위치, {'first', 'last'}"
      ]
    },
    {
      "cell_type": "code",
      "metadata": {
        "id": "B3lCfR7SYRfl",
        "colab": {
          "base_uri": "https://localhost:8080/",
          "height": 166
        },
        "outputId": "ed31432b-922a-473b-8785-fc170ee422fe"
      },
      "source": [
        "import pandas as pd\n",
        "import shelve\n",
        "\n",
        "df = shelve.open(\"easySample\")['sample3']\n",
        "df.head(3)"
      ],
      "execution_count": null,
      "outputs": [
        {
          "output_type": "execute_result",
          "data": {
            "text/html": [
              "<div>\n",
              "<style scoped>\n",
              "    .dataframe tbody tr th:only-of-type {\n",
              "        vertical-align: middle;\n",
              "    }\n",
              "\n",
              "    .dataframe tbody tr th {\n",
              "        vertical-align: top;\n",
              "    }\n",
              "\n",
              "    .dataframe thead th {\n",
              "        text-align: right;\n",
              "    }\n",
              "</style>\n",
              "<table border=\"1\" class=\"dataframe\">\n",
              "  <thead>\n",
              "    <tr style=\"text-align: right;\">\n",
              "      <th></th>\n",
              "      <th>pname</th>\n",
              "      <th>birth</th>\n",
              "      <th>dept</th>\n",
              "      <th>english</th>\n",
              "      <th>japanese</th>\n",
              "      <th>chinese</th>\n",
              "      <th>salary</th>\n",
              "      <th>overtime</th>\n",
              "    </tr>\n",
              "    <tr>\n",
              "      <th>ID</th>\n",
              "      <th></th>\n",
              "      <th></th>\n",
              "      <th></th>\n",
              "      <th></th>\n",
              "      <th></th>\n",
              "      <th></th>\n",
              "      <th></th>\n",
              "      <th></th>\n",
              "    </tr>\n",
              "  </thead>\n",
              "  <tbody>\n",
              "    <tr>\n",
              "      <th>18030201</th>\n",
              "      <td>James Kim</td>\n",
              "      <td>1990-01-23</td>\n",
              "      <td>Education</td>\n",
              "      <td>1</td>\n",
              "      <td>1</td>\n",
              "      <td>0</td>\n",
              "      <td>3456</td>\n",
              "      <td>23:10:10</td>\n",
              "    </tr>\n",
              "    <tr>\n",
              "      <th>18030202</th>\n",
              "      <td>Rose Hwang</td>\n",
              "      <td>1992-10-11</td>\n",
              "      <td>Marketing</td>\n",
              "      <td>0</td>\n",
              "      <td>2</td>\n",
              "      <td>0</td>\n",
              "      <td>4320</td>\n",
              "      <td>10:15:17</td>\n",
              "    </tr>\n",
              "    <tr>\n",
              "      <th>19030401</th>\n",
              "      <td>Sam Park</td>\n",
              "      <td>1995-07-02</td>\n",
              "      <td>Education</td>\n",
              "      <td>1</td>\n",
              "      <td>0</td>\n",
              "      <td>0</td>\n",
              "      <td>5600</td>\n",
              "      <td>16:21:10</td>\n",
              "    </tr>\n",
              "  </tbody>\n",
              "</table>\n",
              "</div>"
            ],
            "text/plain": [
              "               pname      birth       dept  ...  chinese  salary  overtime\n",
              "ID                                          ...                           \n",
              "18030201   James Kim 1990-01-23  Education  ...        0    3456  23:10:10\n",
              "18030202  Rose Hwang 1992-10-11  Marketing  ...        0    4320  10:15:17\n",
              "19030401    Sam Park 1995-07-02  Education  ...        0    5600  16:21:10\n",
              "\n",
              "[3 rows x 8 columns]"
            ]
          },
          "metadata": {
            "tags": []
          },
          "execution_count": 19
        }
      ]
    },
    {
      "cell_type": "code",
      "metadata": {
        "id": "8_QU1ORE5npJ",
        "colab": {
          "base_uri": "https://localhost:8080/",
          "height": 70
        },
        "outputId": "e4814525-3a2c-4071-d748-178cddeade60"
      },
      "source": [
        "df.index"
      ],
      "execution_count": null,
      "outputs": [
        {
          "output_type": "execute_result",
          "data": {
            "text/plain": [
              "Int64Index([18030201, 18030202, 19030401, 19070101, 19070102, 19070103,\n",
              "            19080101, 19080102, 19090201, 19090202],\n",
              "           dtype='int64', name='ID')"
            ]
          },
          "metadata": {
            "tags": []
          },
          "execution_count": 20
        }
      ]
    },
    {
      "cell_type": "code",
      "metadata": {
        "id": "Tl01mLqs5rQE",
        "colab": {
          "base_uri": "https://localhost:8080/",
          "height": 70
        },
        "outputId": "e48f2fc6-8ba1-4817-ebff-9c8ff3936f3f"
      },
      "source": [
        "df.columns"
      ],
      "execution_count": null,
      "outputs": [
        {
          "output_type": "execute_result",
          "data": {
            "text/plain": [
              "Index(['pname', 'birth', 'dept', 'english', 'japanese', 'chinese', 'salary',\n",
              "       'overtime'],\n",
              "      dtype='object')"
            ]
          },
          "metadata": {
            "tags": []
          },
          "execution_count": 21
        }
      ]
    },
    {
      "cell_type": "code",
      "metadata": {
        "id": "DOYFYTQybcze"
      },
      "source": [
        "df1 = df.sort_index(ascending=False)\n",
        "df1"
      ],
      "execution_count": null,
      "outputs": []
    },
    {
      "cell_type": "code",
      "metadata": {
        "id": "K5-zzrDdYRfo"
      },
      "source": [
        "df2 = df.sort_index(axis=1)\n",
        "df2.head(3)"
      ],
      "execution_count": null,
      "outputs": []
    },
    {
      "cell_type": "code",
      "metadata": {
        "id": "DQQ-Jflzc-uf"
      },
      "source": [
        "df3 = df.set_index(['dept', 'pname'], append=True)\n",
        "df3"
      ],
      "execution_count": null,
      "outputs": []
    },
    {
      "cell_type": "code",
      "metadata": {
        "id": "vNMfDdbsg8E8"
      },
      "source": [
        "df4 = df3.sort_index()\n",
        "df4"
      ],
      "execution_count": null,
      "outputs": []
    },
    {
      "cell_type": "code",
      "metadata": {
        "id": "Dp1mQyCydIYA"
      },
      "source": [
        "df5 = df3.sort_index(level=[1, 2],ascending=[True, False])\n",
        "df5"
      ],
      "execution_count": null,
      "outputs": []
    },
    {
      "cell_type": "markdown",
      "metadata": {
        "id": "FI7SdaWqYRfr"
      },
      "source": [
        "#### 9-4 sort_values\n",
        "- df.sort_values(by, axis=0, ascending=True, inplace=False,kind='quicksort’, na_position='last')\n",
        "- 축에 따른 by 목록의 values를 기준으로 대상을 정렬하여 반환한다\n",
        "- by : str 또는 list of str을 사용하여 정렬 기준이 되는 이름 또는 이름 목록 지정\n",
        "- axis=0 : column labels, axis=1 : index labels를 사용하여 이름 목록 작성\n",
        "- axis=1 사용을 위해서는 모든 columns의 dtype이 동일해야 함(거의 사용 안함)"
      ]
    },
    {
      "cell_type": "code",
      "metadata": {
        "id": "wRa9eWNpbfnA",
        "colab": {
          "base_uri": "https://localhost:8080/",
          "height": 225
        },
        "outputId": "c9378c8f-4437-4666-cbd6-69a9cfb78662"
      },
      "source": [
        "dfna = pd.read_csv(\"easySample2.csv\", index_col=\"ID\")\n",
        "dfna = dfna[['pname', 'english', 'chinese']].head()\n",
        "dfna"
      ],
      "execution_count": null,
      "outputs": [
        {
          "output_type": "execute_result",
          "data": {
            "text/html": [
              "<div>\n",
              "<style scoped>\n",
              "    .dataframe tbody tr th:only-of-type {\n",
              "        vertical-align: middle;\n",
              "    }\n",
              "\n",
              "    .dataframe tbody tr th {\n",
              "        vertical-align: top;\n",
              "    }\n",
              "\n",
              "    .dataframe thead th {\n",
              "        text-align: right;\n",
              "    }\n",
              "</style>\n",
              "<table border=\"1\" class=\"dataframe\">\n",
              "  <thead>\n",
              "    <tr style=\"text-align: right;\">\n",
              "      <th></th>\n",
              "      <th>pname</th>\n",
              "      <th>english</th>\n",
              "      <th>chinese</th>\n",
              "    </tr>\n",
              "    <tr>\n",
              "      <th>ID</th>\n",
              "      <th></th>\n",
              "      <th></th>\n",
              "      <th></th>\n",
              "    </tr>\n",
              "  </thead>\n",
              "  <tbody>\n",
              "    <tr>\n",
              "      <th>18030201</th>\n",
              "      <td>James Kim</td>\n",
              "      <td>1</td>\n",
              "      <td></td>\n",
              "    </tr>\n",
              "    <tr>\n",
              "      <th>18030202</th>\n",
              "      <td>Rose Hwang</td>\n",
              "      <td></td>\n",
              "      <td>NaN</td>\n",
              "    </tr>\n",
              "    <tr>\n",
              "      <th>19030401</th>\n",
              "      <td>Sam Park</td>\n",
              "      <td>1</td>\n",
              "      <td>NaN</td>\n",
              "    </tr>\n",
              "    <tr>\n",
              "      <th>19070101</th>\n",
              "      <td>Chris Jang</td>\n",
              "      <td>NaN</td>\n",
              "      <td>3</td>\n",
              "    </tr>\n",
              "    <tr>\n",
              "      <th>19070102</th>\n",
              "      <td>Grace Lee</td>\n",
              "      <td>NaN</td>\n",
              "      <td>NaN</td>\n",
              "    </tr>\n",
              "  </tbody>\n",
              "</table>\n",
              "</div>"
            ],
            "text/plain": [
              "               pname english chinese\n",
              "ID                                  \n",
              "18030201   James Kim       1        \n",
              "18030202  Rose Hwang             NaN\n",
              "19030401    Sam Park       1     NaN\n",
              "19070101  Chris Jang     NaN       3\n",
              "19070102   Grace Lee     NaN     NaN"
            ]
          },
          "metadata": {
            "tags": []
          },
          "execution_count": 28
        }
      ]
    },
    {
      "cell_type": "code",
      "metadata": {
        "id": "1HYrXG3qYRfr",
        "colab": {
          "base_uri": "https://localhost:8080/",
          "height": 225
        },
        "outputId": "b4e88512-9130-4781-d6ad-762c46795a1e"
      },
      "source": [
        "df1 = dfna.sort_values('pname')  \n",
        "df1"
      ],
      "execution_count": null,
      "outputs": [
        {
          "output_type": "execute_result",
          "data": {
            "text/html": [
              "<div>\n",
              "<style scoped>\n",
              "    .dataframe tbody tr th:only-of-type {\n",
              "        vertical-align: middle;\n",
              "    }\n",
              "\n",
              "    .dataframe tbody tr th {\n",
              "        vertical-align: top;\n",
              "    }\n",
              "\n",
              "    .dataframe thead th {\n",
              "        text-align: right;\n",
              "    }\n",
              "</style>\n",
              "<table border=\"1\" class=\"dataframe\">\n",
              "  <thead>\n",
              "    <tr style=\"text-align: right;\">\n",
              "      <th></th>\n",
              "      <th>pname</th>\n",
              "      <th>english</th>\n",
              "      <th>chinese</th>\n",
              "    </tr>\n",
              "    <tr>\n",
              "      <th>ID</th>\n",
              "      <th></th>\n",
              "      <th></th>\n",
              "      <th></th>\n",
              "    </tr>\n",
              "  </thead>\n",
              "  <tbody>\n",
              "    <tr>\n",
              "      <th>19070101</th>\n",
              "      <td>Chris Jang</td>\n",
              "      <td>NaN</td>\n",
              "      <td>3</td>\n",
              "    </tr>\n",
              "    <tr>\n",
              "      <th>19070102</th>\n",
              "      <td>Grace Lee</td>\n",
              "      <td>NaN</td>\n",
              "      <td>NaN</td>\n",
              "    </tr>\n",
              "    <tr>\n",
              "      <th>18030201</th>\n",
              "      <td>James Kim</td>\n",
              "      <td>1</td>\n",
              "      <td></td>\n",
              "    </tr>\n",
              "    <tr>\n",
              "      <th>18030202</th>\n",
              "      <td>Rose Hwang</td>\n",
              "      <td></td>\n",
              "      <td>NaN</td>\n",
              "    </tr>\n",
              "    <tr>\n",
              "      <th>19030401</th>\n",
              "      <td>Sam Park</td>\n",
              "      <td>1</td>\n",
              "      <td>NaN</td>\n",
              "    </tr>\n",
              "  </tbody>\n",
              "</table>\n",
              "</div>"
            ],
            "text/plain": [
              "               pname english chinese\n",
              "ID                                  \n",
              "19070101  Chris Jang     NaN       3\n",
              "19070102   Grace Lee     NaN     NaN\n",
              "18030201   James Kim       1        \n",
              "18030202  Rose Hwang             NaN\n",
              "19030401    Sam Park       1     NaN"
            ]
          },
          "metadata": {
            "tags": []
          },
          "execution_count": 29
        }
      ]
    },
    {
      "cell_type": "code",
      "metadata": {
        "id": "ET2wcEUocd70",
        "colab": {
          "base_uri": "https://localhost:8080/",
          "height": 225
        },
        "outputId": "b795288f-ee4f-44f7-c773-9eb0ba0013c2"
      },
      "source": [
        "df2 = dfna.sort_values(['english', 'pname'],\n",
        "                       ascending=[True, False])\n",
        "df2"
      ],
      "execution_count": null,
      "outputs": [
        {
          "output_type": "execute_result",
          "data": {
            "text/html": [
              "<div>\n",
              "<style scoped>\n",
              "    .dataframe tbody tr th:only-of-type {\n",
              "        vertical-align: middle;\n",
              "    }\n",
              "\n",
              "    .dataframe tbody tr th {\n",
              "        vertical-align: top;\n",
              "    }\n",
              "\n",
              "    .dataframe thead th {\n",
              "        text-align: right;\n",
              "    }\n",
              "</style>\n",
              "<table border=\"1\" class=\"dataframe\">\n",
              "  <thead>\n",
              "    <tr style=\"text-align: right;\">\n",
              "      <th></th>\n",
              "      <th>pname</th>\n",
              "      <th>english</th>\n",
              "      <th>chinese</th>\n",
              "    </tr>\n",
              "    <tr>\n",
              "      <th>ID</th>\n",
              "      <th></th>\n",
              "      <th></th>\n",
              "      <th></th>\n",
              "    </tr>\n",
              "  </thead>\n",
              "  <tbody>\n",
              "    <tr>\n",
              "      <th>18030202</th>\n",
              "      <td>Rose Hwang</td>\n",
              "      <td></td>\n",
              "      <td>NaN</td>\n",
              "    </tr>\n",
              "    <tr>\n",
              "      <th>19030401</th>\n",
              "      <td>Sam Park</td>\n",
              "      <td>1</td>\n",
              "      <td>NaN</td>\n",
              "    </tr>\n",
              "    <tr>\n",
              "      <th>18030201</th>\n",
              "      <td>James Kim</td>\n",
              "      <td>1</td>\n",
              "      <td></td>\n",
              "    </tr>\n",
              "    <tr>\n",
              "      <th>19070102</th>\n",
              "      <td>Grace Lee</td>\n",
              "      <td>NaN</td>\n",
              "      <td>NaN</td>\n",
              "    </tr>\n",
              "    <tr>\n",
              "      <th>19070101</th>\n",
              "      <td>Chris Jang</td>\n",
              "      <td>NaN</td>\n",
              "      <td>3</td>\n",
              "    </tr>\n",
              "  </tbody>\n",
              "</table>\n",
              "</div>"
            ],
            "text/plain": [
              "               pname english chinese\n",
              "ID                                  \n",
              "18030202  Rose Hwang             NaN\n",
              "19030401    Sam Park       1     NaN\n",
              "18030201   James Kim       1        \n",
              "19070102   Grace Lee     NaN     NaN\n",
              "19070101  Chris Jang     NaN       3"
            ]
          },
          "metadata": {
            "tags": []
          },
          "execution_count": 30
        }
      ]
    },
    {
      "cell_type": "code",
      "metadata": {
        "id": "onTxXvdxYRfu",
        "colab": {
          "base_uri": "https://localhost:8080/",
          "height": 166
        },
        "outputId": "031c82f1-4906-4351-e838-94fb1c14c051"
      },
      "source": [
        "df = pd.DataFrame( {'A' : [ 60, 50, 40, 30],\n",
        "                    'C' : [ np.nan, 30, 10, 20],\n",
        "                    'B' : [ 'Kim', 'Park', 'Choi', 'Lee'],\n",
        "                    'D' : [ 10, 20, 10, 20]})\n",
        "df"
      ],
      "execution_count": null,
      "outputs": [
        {
          "output_type": "execute_result",
          "data": {
            "text/html": [
              "<div>\n",
              "<style scoped>\n",
              "    .dataframe tbody tr th:only-of-type {\n",
              "        vertical-align: middle;\n",
              "    }\n",
              "\n",
              "    .dataframe tbody tr th {\n",
              "        vertical-align: top;\n",
              "    }\n",
              "\n",
              "    .dataframe thead th {\n",
              "        text-align: right;\n",
              "    }\n",
              "</style>\n",
              "<table border=\"1\" class=\"dataframe\">\n",
              "  <thead>\n",
              "    <tr style=\"text-align: right;\">\n",
              "      <th></th>\n",
              "      <th>A</th>\n",
              "      <th>C</th>\n",
              "      <th>B</th>\n",
              "      <th>D</th>\n",
              "    </tr>\n",
              "  </thead>\n",
              "  <tbody>\n",
              "    <tr>\n",
              "      <th>0</th>\n",
              "      <td>60</td>\n",
              "      <td>NaN</td>\n",
              "      <td>Kim</td>\n",
              "      <td>10</td>\n",
              "    </tr>\n",
              "    <tr>\n",
              "      <th>1</th>\n",
              "      <td>50</td>\n",
              "      <td>30.0</td>\n",
              "      <td>Park</td>\n",
              "      <td>20</td>\n",
              "    </tr>\n",
              "    <tr>\n",
              "      <th>2</th>\n",
              "      <td>40</td>\n",
              "      <td>10.0</td>\n",
              "      <td>Choi</td>\n",
              "      <td>10</td>\n",
              "    </tr>\n",
              "    <tr>\n",
              "      <th>3</th>\n",
              "      <td>30</td>\n",
              "      <td>20.0</td>\n",
              "      <td>Lee</td>\n",
              "      <td>20</td>\n",
              "    </tr>\n",
              "  </tbody>\n",
              "</table>\n",
              "</div>"
            ],
            "text/plain": [
              "    A     C     B   D\n",
              "0  60   NaN   Kim  10\n",
              "1  50  30.0  Park  20\n",
              "2  40  10.0  Choi  10\n",
              "3  30  20.0   Lee  20"
            ]
          },
          "metadata": {
            "tags": []
          },
          "execution_count": 31
        }
      ]
    },
    {
      "cell_type": "code",
      "metadata": {
        "id": "GBwnlYZIYRfw",
        "colab": {
          "base_uri": "https://localhost:8080/",
          "height": 166
        },
        "outputId": "51037ec4-f06c-47a0-d44f-4af1399c18d3"
      },
      "source": [
        "df1 = df.sort_values(by=['D', 'A'])\n",
        "df1"
      ],
      "execution_count": null,
      "outputs": [
        {
          "output_type": "execute_result",
          "data": {
            "text/html": [
              "<div>\n",
              "<style scoped>\n",
              "    .dataframe tbody tr th:only-of-type {\n",
              "        vertical-align: middle;\n",
              "    }\n",
              "\n",
              "    .dataframe tbody tr th {\n",
              "        vertical-align: top;\n",
              "    }\n",
              "\n",
              "    .dataframe thead th {\n",
              "        text-align: right;\n",
              "    }\n",
              "</style>\n",
              "<table border=\"1\" class=\"dataframe\">\n",
              "  <thead>\n",
              "    <tr style=\"text-align: right;\">\n",
              "      <th></th>\n",
              "      <th>A</th>\n",
              "      <th>C</th>\n",
              "      <th>B</th>\n",
              "      <th>D</th>\n",
              "    </tr>\n",
              "  </thead>\n",
              "  <tbody>\n",
              "    <tr>\n",
              "      <th>2</th>\n",
              "      <td>40</td>\n",
              "      <td>10.0</td>\n",
              "      <td>Choi</td>\n",
              "      <td>10</td>\n",
              "    </tr>\n",
              "    <tr>\n",
              "      <th>0</th>\n",
              "      <td>60</td>\n",
              "      <td>NaN</td>\n",
              "      <td>Kim</td>\n",
              "      <td>10</td>\n",
              "    </tr>\n",
              "    <tr>\n",
              "      <th>3</th>\n",
              "      <td>30</td>\n",
              "      <td>20.0</td>\n",
              "      <td>Lee</td>\n",
              "      <td>20</td>\n",
              "    </tr>\n",
              "    <tr>\n",
              "      <th>1</th>\n",
              "      <td>50</td>\n",
              "      <td>30.0</td>\n",
              "      <td>Park</td>\n",
              "      <td>20</td>\n",
              "    </tr>\n",
              "  </tbody>\n",
              "</table>\n",
              "</div>"
            ],
            "text/plain": [
              "    A     C     B   D\n",
              "2  40  10.0  Choi  10\n",
              "0  60   NaN   Kim  10\n",
              "3  30  20.0   Lee  20\n",
              "1  50  30.0  Park  20"
            ]
          },
          "metadata": {
            "tags": []
          },
          "execution_count": 32
        }
      ]
    },
    {
      "cell_type": "code",
      "metadata": {
        "id": "aRM03A6DYRfz",
        "colab": {
          "base_uri": "https://localhost:8080/",
          "height": 166
        },
        "outputId": "88e0021d-5413-4204-e626-a48b7e2ddc15"
      },
      "source": [
        "df2 = df[['A', 'C', 'D']].sort_values(1, axis=1, ascending=True)\n",
        "df2"
      ],
      "execution_count": null,
      "outputs": [
        {
          "output_type": "execute_result",
          "data": {
            "text/html": [
              "<div>\n",
              "<style scoped>\n",
              "    .dataframe tbody tr th:only-of-type {\n",
              "        vertical-align: middle;\n",
              "    }\n",
              "\n",
              "    .dataframe tbody tr th {\n",
              "        vertical-align: top;\n",
              "    }\n",
              "\n",
              "    .dataframe thead th {\n",
              "        text-align: right;\n",
              "    }\n",
              "</style>\n",
              "<table border=\"1\" class=\"dataframe\">\n",
              "  <thead>\n",
              "    <tr style=\"text-align: right;\">\n",
              "      <th></th>\n",
              "      <th>D</th>\n",
              "      <th>C</th>\n",
              "      <th>A</th>\n",
              "    </tr>\n",
              "  </thead>\n",
              "  <tbody>\n",
              "    <tr>\n",
              "      <th>0</th>\n",
              "      <td>10</td>\n",
              "      <td>NaN</td>\n",
              "      <td>60</td>\n",
              "    </tr>\n",
              "    <tr>\n",
              "      <th>1</th>\n",
              "      <td>20</td>\n",
              "      <td>30.0</td>\n",
              "      <td>50</td>\n",
              "    </tr>\n",
              "    <tr>\n",
              "      <th>2</th>\n",
              "      <td>10</td>\n",
              "      <td>10.0</td>\n",
              "      <td>40</td>\n",
              "    </tr>\n",
              "    <tr>\n",
              "      <th>3</th>\n",
              "      <td>20</td>\n",
              "      <td>20.0</td>\n",
              "      <td>30</td>\n",
              "    </tr>\n",
              "  </tbody>\n",
              "</table>\n",
              "</div>"
            ],
            "text/plain": [
              "    D     C   A\n",
              "0  10   NaN  60\n",
              "1  20  30.0  50\n",
              "2  10  10.0  40\n",
              "3  20  20.0  30"
            ]
          },
          "metadata": {
            "tags": []
          },
          "execution_count": 33
        }
      ]
    },
    {
      "cell_type": "code",
      "metadata": {
        "id": "gFmwLCfZYRf5",
        "colab": {
          "base_uri": "https://localhost:8080/",
          "height": 166
        },
        "outputId": "2a4ea044-ae46-4fd6-82e1-2d966020c253"
      },
      "source": [
        "df3 = df.sort_values(by='C', na_position='first')\n",
        "df3"
      ],
      "execution_count": null,
      "outputs": [
        {
          "output_type": "execute_result",
          "data": {
            "text/html": [
              "<div>\n",
              "<style scoped>\n",
              "    .dataframe tbody tr th:only-of-type {\n",
              "        vertical-align: middle;\n",
              "    }\n",
              "\n",
              "    .dataframe tbody tr th {\n",
              "        vertical-align: top;\n",
              "    }\n",
              "\n",
              "    .dataframe thead th {\n",
              "        text-align: right;\n",
              "    }\n",
              "</style>\n",
              "<table border=\"1\" class=\"dataframe\">\n",
              "  <thead>\n",
              "    <tr style=\"text-align: right;\">\n",
              "      <th></th>\n",
              "      <th>A</th>\n",
              "      <th>C</th>\n",
              "      <th>B</th>\n",
              "      <th>D</th>\n",
              "    </tr>\n",
              "  </thead>\n",
              "  <tbody>\n",
              "    <tr>\n",
              "      <th>0</th>\n",
              "      <td>60</td>\n",
              "      <td>NaN</td>\n",
              "      <td>Kim</td>\n",
              "      <td>10</td>\n",
              "    </tr>\n",
              "    <tr>\n",
              "      <th>2</th>\n",
              "      <td>40</td>\n",
              "      <td>10.0</td>\n",
              "      <td>Choi</td>\n",
              "      <td>10</td>\n",
              "    </tr>\n",
              "    <tr>\n",
              "      <th>3</th>\n",
              "      <td>30</td>\n",
              "      <td>20.0</td>\n",
              "      <td>Lee</td>\n",
              "      <td>20</td>\n",
              "    </tr>\n",
              "    <tr>\n",
              "      <th>1</th>\n",
              "      <td>50</td>\n",
              "      <td>30.0</td>\n",
              "      <td>Park</td>\n",
              "      <td>20</td>\n",
              "    </tr>\n",
              "  </tbody>\n",
              "</table>\n",
              "</div>"
            ],
            "text/plain": [
              "    A     C     B   D\n",
              "0  60   NaN   Kim  10\n",
              "2  40  10.0  Choi  10\n",
              "3  30  20.0   Lee  20\n",
              "1  50  30.0  Park  20"
            ]
          },
          "metadata": {
            "tags": []
          },
          "execution_count": 36
        }
      ]
    },
    {
      "cell_type": "markdown",
      "metadata": {
        "id": "AINvI5fR-cLw"
      },
      "source": [
        "### 10.Indexing\n",
        "- index를 사용하여 원하는 내용(values)에 접근하는 방법\n",
        "- 접근하여 읽기, 쓰기 등의 작업을 함\n",
        "- https://pandas.pydata.org/pandas-docs/stable/user_guide/indexing.html  \n",
        "- indexing의 종류\n",
        "  - Basic Indexing : 1개 indexer 사용\n",
        "  - Multi-axis Indexing : axis 별 indexer 사용\n",
        "      - Selection by Label : label을 사용함\n",
        "      - Selection by Position : integer를 사용함\n",
        "- indexer의 종류\n",
        "  - a single label/integer : 1개의 label 또는 integer\n",
        "  - a list or array of labels/integers : label 또는 integer의 리스트 또는 배열\n",
        "  - a slice object with labels/integers : label 또는 integer의 slice (start:stop:step)\n",
        "  - a boolean array : True/False로 이루어진 boolean type의 배열 (배열의 요소수는 index의 요소수와 동일해야 함)\n",
        "  - a collable function with one argument (다루지 않음)"
      ]
    },
    {
      "cell_type": "markdown",
      "metadata": {
        "id": "cTxFR_-vYRgA"
      },
      "source": [
        "#### 10-1 Basic Indexing\n",
        "- indexer를 1개만 사용하는 indexing\n",
        "- Series의 경우 labels/integers를 모두 사용할 수 있음\n",
        "- DataFrame의 경우 종류에 따라 기준이 되는 axis와 labels/integers 의 사용이 다름\n",
        "  \n"
      ]
    },
    {
      "cell_type": "code",
      "metadata": {
        "colab": {
          "base_uri": "https://localhost:8080/",
          "height": 466
        },
        "id": "c8decWIvU7Ib",
        "outputId": "3003a518-ea04-4f4b-c9d7-248c442b0a0d"
      },
      "source": [
        "import pandas as pd\n",
        "import numpy as np\n",
        "\n",
        "data = pd.read_csv('easySample2.csv', index_col='ID')\n",
        "data['birth'] = pd.to_datetime(data['birth'])\n",
        "data['dept'] = data['dept'].astype('category')\n",
        "data['overtime'] = pd.to_timedelta(data['overtime'])\n",
        "a = data.replace(r'^\\s+$', np.nan, regex=True)\n",
        "b = a.replace(r'^(\\d+),(\\d+)$', r'\\1\\2', regex=True)\n",
        "c = b.replace(np.nan, 0)\n",
        "c['english'] = c['english'].astype(np.int32)\n",
        "c['chinese'] = c['chinese'].astype(np.int32)\n",
        "c['japanese'] = c['japanese'].astype(np.int32)\n",
        "c['salary'] = c['salary'].astype(np.int32)\n",
        "#display(c)\n",
        "#display(c.dtypes)\n",
        "# 2진 파일 저장용 모듈\n",
        "import shelve\n",
        "\n",
        "myshelf = shelve.open('easySample')\n",
        "myshelf['sample3'] = c\n",
        "x = myshelf['sample3']\n",
        "display(x.head(3))\n",
        "display(x.dtypes)\n",
        "myshelf.close()"
      ],
      "execution_count": 1,
      "outputs": [
        {
          "output_type": "error",
          "ename": "FileNotFoundError",
          "evalue": "ignored",
          "traceback": [
            "\u001b[0;31m---------------------------------------------------------------------------\u001b[0m",
            "\u001b[0;31mFileNotFoundError\u001b[0m                         Traceback (most recent call last)",
            "\u001b[0;32m<ipython-input-1-9c8fc37782fa>\u001b[0m in \u001b[0;36m<module>\u001b[0;34m()\u001b[0m\n\u001b[1;32m      2\u001b[0m \u001b[0;32mimport\u001b[0m \u001b[0mnumpy\u001b[0m \u001b[0;32mas\u001b[0m \u001b[0mnp\u001b[0m\u001b[0;34m\u001b[0m\u001b[0;34m\u001b[0m\u001b[0m\n\u001b[1;32m      3\u001b[0m \u001b[0;34m\u001b[0m\u001b[0m\n\u001b[0;32m----> 4\u001b[0;31m \u001b[0mdata\u001b[0m \u001b[0;34m=\u001b[0m \u001b[0mpd\u001b[0m\u001b[0;34m.\u001b[0m\u001b[0mread_csv\u001b[0m\u001b[0;34m(\u001b[0m\u001b[0;34m'easySample2.csv'\u001b[0m\u001b[0;34m,\u001b[0m \u001b[0mindex_col\u001b[0m\u001b[0;34m=\u001b[0m\u001b[0;34m'ID'\u001b[0m\u001b[0;34m)\u001b[0m\u001b[0;34m\u001b[0m\u001b[0;34m\u001b[0m\u001b[0m\n\u001b[0m\u001b[1;32m      5\u001b[0m \u001b[0mdata\u001b[0m\u001b[0;34m[\u001b[0m\u001b[0;34m'birth'\u001b[0m\u001b[0;34m]\u001b[0m \u001b[0;34m=\u001b[0m \u001b[0mpd\u001b[0m\u001b[0;34m.\u001b[0m\u001b[0mto_datetime\u001b[0m\u001b[0;34m(\u001b[0m\u001b[0mdata\u001b[0m\u001b[0;34m[\u001b[0m\u001b[0;34m'birth'\u001b[0m\u001b[0;34m]\u001b[0m\u001b[0;34m)\u001b[0m\u001b[0;34m\u001b[0m\u001b[0;34m\u001b[0m\u001b[0m\n\u001b[1;32m      6\u001b[0m \u001b[0mdata\u001b[0m\u001b[0;34m[\u001b[0m\u001b[0;34m'dept'\u001b[0m\u001b[0;34m]\u001b[0m \u001b[0;34m=\u001b[0m \u001b[0mdata\u001b[0m\u001b[0;34m[\u001b[0m\u001b[0;34m'dept'\u001b[0m\u001b[0;34m]\u001b[0m\u001b[0;34m.\u001b[0m\u001b[0mastype\u001b[0m\u001b[0;34m(\u001b[0m\u001b[0;34m'category'\u001b[0m\u001b[0;34m)\u001b[0m\u001b[0;34m\u001b[0m\u001b[0;34m\u001b[0m\u001b[0m\n",
            "\u001b[0;32m/usr/local/lib/python3.7/dist-packages/pandas/io/parsers.py\u001b[0m in \u001b[0;36mread_csv\u001b[0;34m(filepath_or_buffer, sep, delimiter, header, names, index_col, usecols, squeeze, prefix, mangle_dupe_cols, dtype, engine, converters, true_values, false_values, skipinitialspace, skiprows, skipfooter, nrows, na_values, keep_default_na, na_filter, verbose, skip_blank_lines, parse_dates, infer_datetime_format, keep_date_col, date_parser, dayfirst, cache_dates, iterator, chunksize, compression, thousands, decimal, lineterminator, quotechar, quoting, doublequote, escapechar, comment, encoding, dialect, error_bad_lines, warn_bad_lines, delim_whitespace, low_memory, memory_map, float_precision)\u001b[0m\n\u001b[1;32m    686\u001b[0m     )\n\u001b[1;32m    687\u001b[0m \u001b[0;34m\u001b[0m\u001b[0m\n\u001b[0;32m--> 688\u001b[0;31m     \u001b[0;32mreturn\u001b[0m \u001b[0m_read\u001b[0m\u001b[0;34m(\u001b[0m\u001b[0mfilepath_or_buffer\u001b[0m\u001b[0;34m,\u001b[0m \u001b[0mkwds\u001b[0m\u001b[0;34m)\u001b[0m\u001b[0;34m\u001b[0m\u001b[0;34m\u001b[0m\u001b[0m\n\u001b[0m\u001b[1;32m    689\u001b[0m \u001b[0;34m\u001b[0m\u001b[0m\n\u001b[1;32m    690\u001b[0m \u001b[0;34m\u001b[0m\u001b[0m\n",
            "\u001b[0;32m/usr/local/lib/python3.7/dist-packages/pandas/io/parsers.py\u001b[0m in \u001b[0;36m_read\u001b[0;34m(filepath_or_buffer, kwds)\u001b[0m\n\u001b[1;32m    452\u001b[0m \u001b[0;34m\u001b[0m\u001b[0m\n\u001b[1;32m    453\u001b[0m     \u001b[0;31m# Create the parser.\u001b[0m\u001b[0;34m\u001b[0m\u001b[0;34m\u001b[0m\u001b[0;34m\u001b[0m\u001b[0m\n\u001b[0;32m--> 454\u001b[0;31m     \u001b[0mparser\u001b[0m \u001b[0;34m=\u001b[0m \u001b[0mTextFileReader\u001b[0m\u001b[0;34m(\u001b[0m\u001b[0mfp_or_buf\u001b[0m\u001b[0;34m,\u001b[0m \u001b[0;34m**\u001b[0m\u001b[0mkwds\u001b[0m\u001b[0;34m)\u001b[0m\u001b[0;34m\u001b[0m\u001b[0;34m\u001b[0m\u001b[0m\n\u001b[0m\u001b[1;32m    455\u001b[0m \u001b[0;34m\u001b[0m\u001b[0m\n\u001b[1;32m    456\u001b[0m     \u001b[0;32mif\u001b[0m \u001b[0mchunksize\u001b[0m \u001b[0;32mor\u001b[0m \u001b[0miterator\u001b[0m\u001b[0;34m:\u001b[0m\u001b[0;34m\u001b[0m\u001b[0;34m\u001b[0m\u001b[0m\n",
            "\u001b[0;32m/usr/local/lib/python3.7/dist-packages/pandas/io/parsers.py\u001b[0m in \u001b[0;36m__init__\u001b[0;34m(self, f, engine, **kwds)\u001b[0m\n\u001b[1;32m    946\u001b[0m             \u001b[0mself\u001b[0m\u001b[0;34m.\u001b[0m\u001b[0moptions\u001b[0m\u001b[0;34m[\u001b[0m\u001b[0;34m\"has_index_names\"\u001b[0m\u001b[0;34m]\u001b[0m \u001b[0;34m=\u001b[0m \u001b[0mkwds\u001b[0m\u001b[0;34m[\u001b[0m\u001b[0;34m\"has_index_names\"\u001b[0m\u001b[0;34m]\u001b[0m\u001b[0;34m\u001b[0m\u001b[0;34m\u001b[0m\u001b[0m\n\u001b[1;32m    947\u001b[0m \u001b[0;34m\u001b[0m\u001b[0m\n\u001b[0;32m--> 948\u001b[0;31m         \u001b[0mself\u001b[0m\u001b[0;34m.\u001b[0m\u001b[0m_make_engine\u001b[0m\u001b[0;34m(\u001b[0m\u001b[0mself\u001b[0m\u001b[0;34m.\u001b[0m\u001b[0mengine\u001b[0m\u001b[0;34m)\u001b[0m\u001b[0;34m\u001b[0m\u001b[0;34m\u001b[0m\u001b[0m\n\u001b[0m\u001b[1;32m    949\u001b[0m \u001b[0;34m\u001b[0m\u001b[0m\n\u001b[1;32m    950\u001b[0m     \u001b[0;32mdef\u001b[0m \u001b[0mclose\u001b[0m\u001b[0;34m(\u001b[0m\u001b[0mself\u001b[0m\u001b[0;34m)\u001b[0m\u001b[0;34m:\u001b[0m\u001b[0;34m\u001b[0m\u001b[0;34m\u001b[0m\u001b[0m\n",
            "\u001b[0;32m/usr/local/lib/python3.7/dist-packages/pandas/io/parsers.py\u001b[0m in \u001b[0;36m_make_engine\u001b[0;34m(self, engine)\u001b[0m\n\u001b[1;32m   1178\u001b[0m     \u001b[0;32mdef\u001b[0m \u001b[0m_make_engine\u001b[0m\u001b[0;34m(\u001b[0m\u001b[0mself\u001b[0m\u001b[0;34m,\u001b[0m \u001b[0mengine\u001b[0m\u001b[0;34m=\u001b[0m\u001b[0;34m\"c\"\u001b[0m\u001b[0;34m)\u001b[0m\u001b[0;34m:\u001b[0m\u001b[0;34m\u001b[0m\u001b[0;34m\u001b[0m\u001b[0m\n\u001b[1;32m   1179\u001b[0m         \u001b[0;32mif\u001b[0m \u001b[0mengine\u001b[0m \u001b[0;34m==\u001b[0m \u001b[0;34m\"c\"\u001b[0m\u001b[0;34m:\u001b[0m\u001b[0;34m\u001b[0m\u001b[0;34m\u001b[0m\u001b[0m\n\u001b[0;32m-> 1180\u001b[0;31m             \u001b[0mself\u001b[0m\u001b[0;34m.\u001b[0m\u001b[0m_engine\u001b[0m \u001b[0;34m=\u001b[0m \u001b[0mCParserWrapper\u001b[0m\u001b[0;34m(\u001b[0m\u001b[0mself\u001b[0m\u001b[0;34m.\u001b[0m\u001b[0mf\u001b[0m\u001b[0;34m,\u001b[0m \u001b[0;34m**\u001b[0m\u001b[0mself\u001b[0m\u001b[0;34m.\u001b[0m\u001b[0moptions\u001b[0m\u001b[0;34m)\u001b[0m\u001b[0;34m\u001b[0m\u001b[0;34m\u001b[0m\u001b[0m\n\u001b[0m\u001b[1;32m   1181\u001b[0m         \u001b[0;32melse\u001b[0m\u001b[0;34m:\u001b[0m\u001b[0;34m\u001b[0m\u001b[0;34m\u001b[0m\u001b[0m\n\u001b[1;32m   1182\u001b[0m             \u001b[0;32mif\u001b[0m \u001b[0mengine\u001b[0m \u001b[0;34m==\u001b[0m \u001b[0;34m\"python\"\u001b[0m\u001b[0;34m:\u001b[0m\u001b[0;34m\u001b[0m\u001b[0;34m\u001b[0m\u001b[0m\n",
            "\u001b[0;32m/usr/local/lib/python3.7/dist-packages/pandas/io/parsers.py\u001b[0m in \u001b[0;36m__init__\u001b[0;34m(self, src, **kwds)\u001b[0m\n\u001b[1;32m   2008\u001b[0m         \u001b[0mkwds\u001b[0m\u001b[0;34m[\u001b[0m\u001b[0;34m\"usecols\"\u001b[0m\u001b[0;34m]\u001b[0m \u001b[0;34m=\u001b[0m \u001b[0mself\u001b[0m\u001b[0;34m.\u001b[0m\u001b[0musecols\u001b[0m\u001b[0;34m\u001b[0m\u001b[0;34m\u001b[0m\u001b[0m\n\u001b[1;32m   2009\u001b[0m \u001b[0;34m\u001b[0m\u001b[0m\n\u001b[0;32m-> 2010\u001b[0;31m         \u001b[0mself\u001b[0m\u001b[0;34m.\u001b[0m\u001b[0m_reader\u001b[0m \u001b[0;34m=\u001b[0m \u001b[0mparsers\u001b[0m\u001b[0;34m.\u001b[0m\u001b[0mTextReader\u001b[0m\u001b[0;34m(\u001b[0m\u001b[0msrc\u001b[0m\u001b[0;34m,\u001b[0m \u001b[0;34m**\u001b[0m\u001b[0mkwds\u001b[0m\u001b[0;34m)\u001b[0m\u001b[0;34m\u001b[0m\u001b[0;34m\u001b[0m\u001b[0m\n\u001b[0m\u001b[1;32m   2011\u001b[0m         \u001b[0mself\u001b[0m\u001b[0;34m.\u001b[0m\u001b[0munnamed_cols\u001b[0m \u001b[0;34m=\u001b[0m \u001b[0mself\u001b[0m\u001b[0;34m.\u001b[0m\u001b[0m_reader\u001b[0m\u001b[0;34m.\u001b[0m\u001b[0munnamed_cols\u001b[0m\u001b[0;34m\u001b[0m\u001b[0;34m\u001b[0m\u001b[0m\n\u001b[1;32m   2012\u001b[0m \u001b[0;34m\u001b[0m\u001b[0m\n",
            "\u001b[0;32mpandas/_libs/parsers.pyx\u001b[0m in \u001b[0;36mpandas._libs.parsers.TextReader.__cinit__\u001b[0;34m()\u001b[0m\n",
            "\u001b[0;32mpandas/_libs/parsers.pyx\u001b[0m in \u001b[0;36mpandas._libs.parsers.TextReader._setup_parser_source\u001b[0;34m()\u001b[0m\n",
            "\u001b[0;31mFileNotFoundError\u001b[0m: [Errno 2] No such file or directory: 'easySample2.csv'"
          ]
        }
      ]
    },
    {
      "cell_type": "code",
      "metadata": {
        "id": "r_3TwNaoYRgB",
        "colab": {
          "base_uri": "https://localhost:8080/",
          "height": 355
        },
        "outputId": "4c14cbec-91cc-4840-dc8c-c519bd0c3366"
      },
      "source": [
        "import pandas as pd\n",
        "import numpy as np\n",
        "import shelve\n",
        "\n",
        "\n",
        "df = shelve.open(\"easySample\")['sample3']\n",
        "df = df[['pname', 'dept', 'birth', 'overtime']]\n",
        "df.index = pd.Index(list(\"ABCDEFGHIJ\"))\n",
        "df"
      ],
      "execution_count": null,
      "outputs": [
        {
          "output_type": "execute_result",
          "data": {
            "text/html": [
              "<div>\n",
              "<style scoped>\n",
              "    .dataframe tbody tr th:only-of-type {\n",
              "        vertical-align: middle;\n",
              "    }\n",
              "\n",
              "    .dataframe tbody tr th {\n",
              "        vertical-align: top;\n",
              "    }\n",
              "\n",
              "    .dataframe thead th {\n",
              "        text-align: right;\n",
              "    }\n",
              "</style>\n",
              "<table border=\"1\" class=\"dataframe\">\n",
              "  <thead>\n",
              "    <tr style=\"text-align: right;\">\n",
              "      <th></th>\n",
              "      <th>pname</th>\n",
              "      <th>dept</th>\n",
              "      <th>birth</th>\n",
              "      <th>overtime</th>\n",
              "    </tr>\n",
              "  </thead>\n",
              "  <tbody>\n",
              "    <tr>\n",
              "      <th>A</th>\n",
              "      <td>James Kim</td>\n",
              "      <td>Education</td>\n",
              "      <td>1990-01-23</td>\n",
              "      <td>0 days 23:10:10</td>\n",
              "    </tr>\n",
              "    <tr>\n",
              "      <th>B</th>\n",
              "      <td>Rose Hwang</td>\n",
              "      <td>Marketing</td>\n",
              "      <td>1992-10-11</td>\n",
              "      <td>0 days 10:15:17</td>\n",
              "    </tr>\n",
              "    <tr>\n",
              "      <th>C</th>\n",
              "      <td>Sam Park</td>\n",
              "      <td>Education</td>\n",
              "      <td>1995-07-02</td>\n",
              "      <td>0 days 16:21:10</td>\n",
              "    </tr>\n",
              "    <tr>\n",
              "      <th>D</th>\n",
              "      <td>Chris Jang</td>\n",
              "      <td>Education</td>\n",
              "      <td>1990-11-23</td>\n",
              "      <td>0 days 15:00:20</td>\n",
              "    </tr>\n",
              "    <tr>\n",
              "      <th>E</th>\n",
              "      <td>Grace Lee</td>\n",
              "      <td>Marketing</td>\n",
              "      <td>1993-02-01</td>\n",
              "      <td>0 days 21:19:50</td>\n",
              "    </tr>\n",
              "    <tr>\n",
              "      <th>F</th>\n",
              "      <td>Juile Yoon</td>\n",
              "      <td>Education</td>\n",
              "      <td>1992-07-16</td>\n",
              "      <td>0 days 14:10:40</td>\n",
              "    </tr>\n",
              "    <tr>\n",
              "      <th>G</th>\n",
              "      <td>Chirle Song</td>\n",
              "      <td>Accounting</td>\n",
              "      <td>1993-04-11</td>\n",
              "      <td>0 days 09:50:30</td>\n",
              "    </tr>\n",
              "    <tr>\n",
              "      <th>H</th>\n",
              "      <td>Bob Kim</td>\n",
              "      <td>Sales</td>\n",
              "      <td>1991-12-07</td>\n",
              "      <td>0 days 08:40:40</td>\n",
              "    </tr>\n",
              "    <tr>\n",
              "      <th>I</th>\n",
              "      <td>John Park</td>\n",
              "      <td>Sales</td>\n",
              "      <td>1992-06-16</td>\n",
              "      <td>0 days 17:30:20</td>\n",
              "    </tr>\n",
              "    <tr>\n",
              "      <th>J</th>\n",
              "      <td>Anne Lee</td>\n",
              "      <td>Education</td>\n",
              "      <td>1993-05-05</td>\n",
              "      <td>0 days 19:50:20</td>\n",
              "    </tr>\n",
              "  </tbody>\n",
              "</table>\n",
              "</div>"
            ],
            "text/plain": [
              "         pname        dept      birth        overtime\n",
              "A    James Kim   Education 1990-01-23 0 days 23:10:10\n",
              "B   Rose Hwang   Marketing 1992-10-11 0 days 10:15:17\n",
              "C     Sam Park   Education 1995-07-02 0 days 16:21:10\n",
              "D   Chris Jang   Education 1990-11-23 0 days 15:00:20\n",
              "E    Grace Lee   Marketing 1993-02-01 0 days 21:19:50\n",
              "F   Juile Yoon   Education 1992-07-16 0 days 14:10:40\n",
              "G  Chirle Song  Accounting 1993-04-11 0 days 09:50:30\n",
              "H      Bob Kim       Sales 1991-12-07 0 days 08:40:40\n",
              "I    John Park       Sales 1992-06-16 0 days 17:30:20\n",
              "J     Anne Lee   Education 1993-05-05 0 days 19:50:20"
            ]
          },
          "metadata": {
            "tags": []
          },
          "execution_count": 23
        }
      ]
    },
    {
      "cell_type": "markdown",
      "metadata": {
        "id": "Vt5kL5LPGHN-"
      },
      "source": [
        "##### 10-1-1) Basic Indexing of Series\n"
      ]
    },
    {
      "cell_type": "code",
      "metadata": {
        "id": "NhG1VC3xCdto",
        "colab": {
          "base_uri": "https://localhost:8080/",
          "height": 158
        },
        "outputId": "bee051f2-9332-4749-eefc-d6d1c99d700a"
      },
      "source": [
        "# Series 구하기\n",
        "s = df['pname']\n",
        "s.head(7)"
      ],
      "execution_count": null,
      "outputs": [
        {
          "output_type": "execute_result",
          "data": {
            "text/plain": [
              "A      James Kim\n",
              "B     Rose Hwang\n",
              "C       Sam Park\n",
              "D     Chris Jang\n",
              "E      Grace Lee\n",
              "F     Juile Yoon\n",
              "G    Chirle Song\n",
              "Name: pname, dtype: object"
            ]
          },
          "metadata": {
            "tags": []
          },
          "execution_count": 49
        }
      ]
    },
    {
      "cell_type": "code",
      "metadata": {
        "id": "9V2BqMuqEVB8",
        "colab": {
          "base_uri": "https://localhost:8080/",
          "height": 34
        },
        "outputId": "5802bce1-6176-4d8c-c93c-8263a5f5e79a"
      },
      "source": [
        "# a single label/integer\n",
        "# 첫 번째 element인 'James Kim' 을 Scalar로 가져오기 합니다.\n",
        "print(s[0], s['A'])"
      ],
      "execution_count": null,
      "outputs": [
        {
          "output_type": "stream",
          "text": [
            "Anne Lee James Kim\n"
          ],
          "name": "stdout"
        }
      ]
    },
    {
      "cell_type": "code",
      "metadata": {
        "id": "R2SecFRjErda",
        "colab": {
          "base_uri": "https://localhost:8080/",
          "height": 175
        },
        "outputId": "5a84a42b-1ec3-49c9-e4fa-e08f1a15bfa6"
      },
      "source": [
        "# a list or array of labels/integers\n",
        "# James Kim, Sam Park, Julie Yoon을 Series로 가져오기 합니다.\n",
        "print(s[[0,2,5]],s[['A','C','F']], sep='\\n\\n')"
      ],
      "execution_count": null,
      "outputs": [
        {
          "output_type": "stream",
          "text": [
            "A     James Kim\n",
            "C      Sam Park\n",
            "F    Juile Yoon\n",
            "Name: pname, dtype: object\n",
            "\n",
            "A     James Kim\n",
            "C      Sam Park\n",
            "F    Juile Yoon\n",
            "Name: pname, dtype: object\n"
          ],
          "name": "stdout"
        }
      ]
    },
    {
      "cell_type": "code",
      "metadata": {
        "id": "v7lo0sMnFNOp",
        "colab": {
          "base_uri": "https://localhost:8080/",
          "height": 175
        },
        "outputId": "2c371fbb-6577-4e5d-e7bd-61a38242b79f"
      },
      "source": [
        "# a slice object with labels/integers\n",
        "# 처음 3개의 element를 Series로 가져오기 합니다\n",
        "print(s[:3],s[:'C'], sep='\\n\\n')"
      ],
      "execution_count": null,
      "outputs": [
        {
          "output_type": "stream",
          "text": [
            "A     James Kim\n",
            "B    Rose Hwang\n",
            "C      Sam Park\n",
            "Name: pname, dtype: object\n",
            "\n",
            "A     James Kim\n",
            "B    Rose Hwang\n",
            "C      Sam Park\n",
            "Name: pname, dtype: object\n"
          ],
          "name": "stdout"
        }
      ]
    },
    {
      "cell_type": "code",
      "metadata": {
        "id": "8yl0PlhwFXHC",
        "colab": {
          "base_uri": "https://localhost:8080/",
          "height": 87
        },
        "outputId": "70b0b40a-dc29-43c8-fcd8-dc57f829fda7"
      },
      "source": [
        "# a boolean array => list, Series\n",
        "# s에서 'J'로 시작하는 것을 Series로 가져오기 합니다.\n",
        "# 'J'로 시작하는 것에 대한 조건 :  s.str.startswith('J')\n",
        "print(s[s.str.startswith('J')])"
      ],
      "execution_count": null,
      "outputs": [
        {
          "output_type": "stream",
          "text": [
            "A     James Kim\n",
            "F    Juile Yoon\n",
            "I     John Park\n",
            "Name: pname, dtype: object\n"
          ],
          "name": "stdout"
        }
      ]
    },
    {
      "cell_type": "markdown",
      "metadata": {
        "id": "oNKJkmMQGUoY"
      },
      "source": [
        "##### 10-1-2) Basic Indexing of DataFrame\n"
      ]
    },
    {
      "cell_type": "code",
      "metadata": {
        "id": "lmp-62oOYRgE",
        "colab": {
          "base_uri": "https://localhost:8080/",
          "height": 210
        },
        "outputId": "de58d143-d718-42b2-fdcd-c7f2bcb9c2a6"
      },
      "source": [
        "# a single label     # axis = 1\n",
        "# 'pname' column을 Series로 가져오기 합니다.\n",
        "s1 = df['pname']                     \n",
        "s1  "
      ],
      "execution_count": null,
      "outputs": [
        {
          "output_type": "execute_result",
          "data": {
            "text/plain": [
              "A      James Kim\n",
              "B     Rose Hwang\n",
              "C       Sam Park\n",
              "D     Chris Jang\n",
              "E      Grace Lee\n",
              "F     Juile Yoon\n",
              "G    Chirle Song\n",
              "H        Bob Kim\n",
              "I      John Park\n",
              "J       Anne Lee\n",
              "Name: pname, dtype: object"
            ]
          },
          "metadata": {
            "tags": []
          },
          "execution_count": 62
        }
      ]
    },
    {
      "cell_type": "code",
      "metadata": {
        "id": "KRZ-2w_V-C_O",
        "colab": {
          "base_uri": "https://localhost:8080/",
          "height": 343
        },
        "outputId": "cc6089fc-f9f3-46ee-a37f-7835ae189683"
      },
      "source": [
        "# a list or array of labels    # axis = 1\n",
        "# 'pname', 'dept', 'birth' column에 대해 DataFrame으로 가져오기 합니다.\n",
        "df2 = df[['pname', 'dept', 'birth']]  \n",
        "df2"
      ],
      "execution_count": null,
      "outputs": [
        {
          "output_type": "execute_result",
          "data": {
            "text/html": [
              "<div>\n",
              "<style scoped>\n",
              "    .dataframe tbody tr th:only-of-type {\n",
              "        vertical-align: middle;\n",
              "    }\n",
              "\n",
              "    .dataframe tbody tr th {\n",
              "        vertical-align: top;\n",
              "    }\n",
              "\n",
              "    .dataframe thead th {\n",
              "        text-align: right;\n",
              "    }\n",
              "</style>\n",
              "<table border=\"1\" class=\"dataframe\">\n",
              "  <thead>\n",
              "    <tr style=\"text-align: right;\">\n",
              "      <th></th>\n",
              "      <th>pname</th>\n",
              "      <th>dept</th>\n",
              "      <th>birth</th>\n",
              "    </tr>\n",
              "  </thead>\n",
              "  <tbody>\n",
              "    <tr>\n",
              "      <th>A</th>\n",
              "      <td>James Kim</td>\n",
              "      <td>Education</td>\n",
              "      <td>1990-01-23</td>\n",
              "    </tr>\n",
              "    <tr>\n",
              "      <th>B</th>\n",
              "      <td>Rose Hwang</td>\n",
              "      <td>Marketing</td>\n",
              "      <td>1992-10-11</td>\n",
              "    </tr>\n",
              "    <tr>\n",
              "      <th>C</th>\n",
              "      <td>Sam Park</td>\n",
              "      <td>Education</td>\n",
              "      <td>1995-07-02</td>\n",
              "    </tr>\n",
              "    <tr>\n",
              "      <th>D</th>\n",
              "      <td>Chris Jang</td>\n",
              "      <td>Education</td>\n",
              "      <td>1990-11-23</td>\n",
              "    </tr>\n",
              "    <tr>\n",
              "      <th>E</th>\n",
              "      <td>Grace Lee</td>\n",
              "      <td>Marketing</td>\n",
              "      <td>1993-02-01</td>\n",
              "    </tr>\n",
              "    <tr>\n",
              "      <th>F</th>\n",
              "      <td>Juile Yoon</td>\n",
              "      <td>Education</td>\n",
              "      <td>1992-07-16</td>\n",
              "    </tr>\n",
              "    <tr>\n",
              "      <th>G</th>\n",
              "      <td>Chirle Song</td>\n",
              "      <td>Accounting</td>\n",
              "      <td>1993-04-11</td>\n",
              "    </tr>\n",
              "    <tr>\n",
              "      <th>H</th>\n",
              "      <td>Bob Kim</td>\n",
              "      <td>Sales</td>\n",
              "      <td>1991-12-07</td>\n",
              "    </tr>\n",
              "    <tr>\n",
              "      <th>I</th>\n",
              "      <td>John Park</td>\n",
              "      <td>Sales</td>\n",
              "      <td>1992-06-16</td>\n",
              "    </tr>\n",
              "    <tr>\n",
              "      <th>J</th>\n",
              "      <td>Anne Lee</td>\n",
              "      <td>Education</td>\n",
              "      <td>1993-05-05</td>\n",
              "    </tr>\n",
              "  </tbody>\n",
              "</table>\n",
              "</div>"
            ],
            "text/plain": [
              "         pname        dept      birth\n",
              "A    James Kim   Education 1990-01-23\n",
              "B   Rose Hwang   Marketing 1992-10-11\n",
              "C     Sam Park   Education 1995-07-02\n",
              "D   Chris Jang   Education 1990-11-23\n",
              "E    Grace Lee   Marketing 1993-02-01\n",
              "F   Juile Yoon   Education 1992-07-16\n",
              "G  Chirle Song  Accounting 1993-04-11\n",
              "H      Bob Kim       Sales 1991-12-07\n",
              "I    John Park       Sales 1992-06-16\n",
              "J     Anne Lee   Education 1993-05-05"
            ]
          },
          "metadata": {
            "tags": []
          },
          "execution_count": 65
        }
      ]
    },
    {
      "cell_type": "code",
      "metadata": {
        "id": "f0vUrz7H-IVd",
        "colab": {
          "base_uri": "https://localhost:8080/",
          "height": 255
        },
        "outputId": "97047afb-ef00-4e17-b1d7-61ef3135e8eb"
      },
      "source": [
        "# a slice object with integers # axis = 0\n",
        "# 3~5번 index 번호에 해당하는 rows에 대해 DataFrame으로 가져오기 합니다.\n",
        "df3 = df[3:6]                         \n",
        "display(df3)\n",
        "# 영상에서 ㅠ.ㅠ 잘못 설명하고 있습니다. axis = 0이 맞습니다.\n",
        "# a slice object with labels   # axis = 0\n",
        "df3 = df['D':'F']\n",
        "display(df3)    "
      ],
      "execution_count": null,
      "outputs": [
        {
          "output_type": "display_data",
          "data": {
            "text/html": [
              "<div>\n",
              "<style scoped>\n",
              "    .dataframe tbody tr th:only-of-type {\n",
              "        vertical-align: middle;\n",
              "    }\n",
              "\n",
              "    .dataframe tbody tr th {\n",
              "        vertical-align: top;\n",
              "    }\n",
              "\n",
              "    .dataframe thead th {\n",
              "        text-align: right;\n",
              "    }\n",
              "</style>\n",
              "<table border=\"1\" class=\"dataframe\">\n",
              "  <thead>\n",
              "    <tr style=\"text-align: right;\">\n",
              "      <th></th>\n",
              "      <th>pname</th>\n",
              "      <th>dept</th>\n",
              "      <th>birth</th>\n",
              "      <th>overtime</th>\n",
              "    </tr>\n",
              "  </thead>\n",
              "  <tbody>\n",
              "    <tr>\n",
              "      <th>D</th>\n",
              "      <td>Chris Jang</td>\n",
              "      <td>Education</td>\n",
              "      <td>1990-11-23</td>\n",
              "      <td>15:00:20</td>\n",
              "    </tr>\n",
              "    <tr>\n",
              "      <th>E</th>\n",
              "      <td>Grace Lee</td>\n",
              "      <td>Marketing</td>\n",
              "      <td>1993-02-01</td>\n",
              "      <td>21:19:50</td>\n",
              "    </tr>\n",
              "    <tr>\n",
              "      <th>F</th>\n",
              "      <td>Juile Yoon</td>\n",
              "      <td>Education</td>\n",
              "      <td>1992-07-16</td>\n",
              "      <td>14:10:40</td>\n",
              "    </tr>\n",
              "  </tbody>\n",
              "</table>\n",
              "</div>"
            ],
            "text/plain": [
              "        pname       dept      birth overtime\n",
              "D  Chris Jang  Education 1990-11-23 15:00:20\n",
              "E   Grace Lee  Marketing 1993-02-01 21:19:50\n",
              "F  Juile Yoon  Education 1992-07-16 14:10:40"
            ]
          },
          "metadata": {
            "tags": []
          }
        },
        {
          "output_type": "display_data",
          "data": {
            "text/html": [
              "<div>\n",
              "<style scoped>\n",
              "    .dataframe tbody tr th:only-of-type {\n",
              "        vertical-align: middle;\n",
              "    }\n",
              "\n",
              "    .dataframe tbody tr th {\n",
              "        vertical-align: top;\n",
              "    }\n",
              "\n",
              "    .dataframe thead th {\n",
              "        text-align: right;\n",
              "    }\n",
              "</style>\n",
              "<table border=\"1\" class=\"dataframe\">\n",
              "  <thead>\n",
              "    <tr style=\"text-align: right;\">\n",
              "      <th></th>\n",
              "      <th>pname</th>\n",
              "      <th>dept</th>\n",
              "      <th>birth</th>\n",
              "      <th>overtime</th>\n",
              "    </tr>\n",
              "  </thead>\n",
              "  <tbody>\n",
              "    <tr>\n",
              "      <th>D</th>\n",
              "      <td>Chris Jang</td>\n",
              "      <td>Education</td>\n",
              "      <td>1990-11-23</td>\n",
              "      <td>15:00:20</td>\n",
              "    </tr>\n",
              "    <tr>\n",
              "      <th>E</th>\n",
              "      <td>Grace Lee</td>\n",
              "      <td>Marketing</td>\n",
              "      <td>1993-02-01</td>\n",
              "      <td>21:19:50</td>\n",
              "    </tr>\n",
              "    <tr>\n",
              "      <th>F</th>\n",
              "      <td>Juile Yoon</td>\n",
              "      <td>Education</td>\n",
              "      <td>1992-07-16</td>\n",
              "      <td>14:10:40</td>\n",
              "    </tr>\n",
              "  </tbody>\n",
              "</table>\n",
              "</div>"
            ],
            "text/plain": [
              "        pname       dept      birth overtime\n",
              "D  Chris Jang  Education 1990-11-23 15:00:20\n",
              "E   Grace Lee  Marketing 1993-02-01 21:19:50\n",
              "F  Juile Yoon  Education 1992-07-16 14:10:40"
            ]
          },
          "metadata": {
            "tags": []
          }
        }
      ]
    },
    {
      "cell_type": "code",
      "metadata": {
        "id": "Iji-wcWh-KRZ"
      },
      "source": [
        "# a boolean array     # axis = 0 \n",
        "# 부서('dept')가 'Marketing'인 것에 대해서 DataFrame으로 가져오기 합니다.\n",
        "df4 = df[ df['dept'] == 'Marketing' ]   \n",
        "display(df['dept'] == 'Marketing')      \n",
        "df4"
      ],
      "execution_count": null,
      "outputs": []
    },
    {
      "cell_type": "markdown",
      "metadata": {
        "id": "lzDp0wnTIPDp"
      },
      "source": [
        "##### 10-1-3) Basic Indexing - Boolean Indexer 연습"
      ]
    },
    {
      "cell_type": "code",
      "metadata": {
        "id": "pZXeBp7NYRgJ",
        "colab": {
          "base_uri": "https://localhost:8080/",
          "height": 343
        },
        "outputId": "40b11c40-6369-4398-92db-c72506e60a4b"
      },
      "source": [
        "import shelve\n",
        "myShelf = shelve.open('easySample')\n",
        "df = myShelf['sample3'][['pname','dept', 'english', 'salary']]\n",
        "df.index = pd.RangeIndex(0, len(df))\n",
        "df"
      ],
      "execution_count": null,
      "outputs": [
        {
          "output_type": "execute_result",
          "data": {
            "text/html": [
              "<div>\n",
              "<style scoped>\n",
              "    .dataframe tbody tr th:only-of-type {\n",
              "        vertical-align: middle;\n",
              "    }\n",
              "\n",
              "    .dataframe tbody tr th {\n",
              "        vertical-align: top;\n",
              "    }\n",
              "\n",
              "    .dataframe thead th {\n",
              "        text-align: right;\n",
              "    }\n",
              "</style>\n",
              "<table border=\"1\" class=\"dataframe\">\n",
              "  <thead>\n",
              "    <tr style=\"text-align: right;\">\n",
              "      <th></th>\n",
              "      <th>pname</th>\n",
              "      <th>dept</th>\n",
              "      <th>english</th>\n",
              "      <th>salary</th>\n",
              "    </tr>\n",
              "  </thead>\n",
              "  <tbody>\n",
              "    <tr>\n",
              "      <th>0</th>\n",
              "      <td>James Kim</td>\n",
              "      <td>Education</td>\n",
              "      <td>1</td>\n",
              "      <td>3456</td>\n",
              "    </tr>\n",
              "    <tr>\n",
              "      <th>1</th>\n",
              "      <td>Rose Hwang</td>\n",
              "      <td>Marketing</td>\n",
              "      <td>0</td>\n",
              "      <td>4320</td>\n",
              "    </tr>\n",
              "    <tr>\n",
              "      <th>2</th>\n",
              "      <td>Sam Park</td>\n",
              "      <td>Education</td>\n",
              "      <td>1</td>\n",
              "      <td>5600</td>\n",
              "    </tr>\n",
              "    <tr>\n",
              "      <th>3</th>\n",
              "      <td>Chris Jang</td>\n",
              "      <td>Education</td>\n",
              "      <td>0</td>\n",
              "      <td>4500</td>\n",
              "    </tr>\n",
              "    <tr>\n",
              "      <th>4</th>\n",
              "      <td>Grace Lee</td>\n",
              "      <td>Marketing</td>\n",
              "      <td>0</td>\n",
              "      <td>3150</td>\n",
              "    </tr>\n",
              "    <tr>\n",
              "      <th>5</th>\n",
              "      <td>Juile Yoon</td>\n",
              "      <td>Education</td>\n",
              "      <td>0</td>\n",
              "      <td>4200</td>\n",
              "    </tr>\n",
              "    <tr>\n",
              "      <th>6</th>\n",
              "      <td>Chirle Song</td>\n",
              "      <td>Accounting</td>\n",
              "      <td>2</td>\n",
              "      <td>4800</td>\n",
              "    </tr>\n",
              "    <tr>\n",
              "      <th>7</th>\n",
              "      <td>Bob Kim</td>\n",
              "      <td>Sales</td>\n",
              "      <td>1</td>\n",
              "      <td>10100</td>\n",
              "    </tr>\n",
              "    <tr>\n",
              "      <th>8</th>\n",
              "      <td>John Park</td>\n",
              "      <td>Sales</td>\n",
              "      <td>3</td>\n",
              "      <td>6840</td>\n",
              "    </tr>\n",
              "    <tr>\n",
              "      <th>9</th>\n",
              "      <td>Anne Lee</td>\n",
              "      <td>Education</td>\n",
              "      <td>0</td>\n",
              "      <td>4750</td>\n",
              "    </tr>\n",
              "  </tbody>\n",
              "</table>\n",
              "</div>"
            ],
            "text/plain": [
              "         pname        dept  english  salary\n",
              "0    James Kim   Education        1    3456\n",
              "1   Rose Hwang   Marketing        0    4320\n",
              "2     Sam Park   Education        1    5600\n",
              "3   Chris Jang   Education        0    4500\n",
              "4    Grace Lee   Marketing        0    3150\n",
              "5   Juile Yoon   Education        0    4200\n",
              "6  Chirle Song  Accounting        2    4800\n",
              "7      Bob Kim       Sales        1   10100\n",
              "8    John Park       Sales        3    6840\n",
              "9     Anne Lee   Education        0    4750"
            ]
          },
          "metadata": {
            "tags": []
          },
          "execution_count": 8
        }
      ]
    },
    {
      "cell_type": "code",
      "metadata": {
        "id": "KmjYELT9YRgN"
      },
      "source": [
        "# 'english', 'salary', 'dept' column에 대해 \n",
        "# single label indexer를 사용하여 indexing하여 각각 se, ss, sd 라는 이름을 부여한다\n",
        "se = df['english']\n",
        "ss = df['salary']\n",
        "sd = df['dept']"
      ],
      "execution_count": null,
      "outputs": []
    },
    {
      "cell_type": "code",
      "metadata": {
        "id": "oPzi1lrQJLfO",
        "colab": {
          "base_uri": "https://localhost:8080/",
          "height": 281
        },
        "outputId": "540b38cb-d5a2-49b3-e6ed-e085442513eb"
      },
      "source": [
        "print(se.head(3), ss.head(3), sd.head(3), sep='\\n\\n')"
      ],
      "execution_count": null,
      "outputs": [
        {
          "output_type": "stream",
          "text": [
            "0    1\n",
            "1    0\n",
            "2    1\n",
            "Name: english, dtype: int32\n",
            "\n",
            "0    3456\n",
            "1    4320\n",
            "2    5600\n",
            "Name: salary, dtype: int32\n",
            "\n",
            "0    Education\n",
            "1    Marketing\n",
            "2    Education\n",
            "Name: dept, dtype: category\n",
            "Categories (4, object): [Accounting, Education, Marketing, Sales]\n"
          ],
          "name": "stdout"
        }
      ]
    },
    {
      "cell_type": "code",
      "metadata": {
        "id": "XyYUvYstJbyi",
        "colab": {
          "base_uri": "https://localhost:8080/",
          "height": 195
        },
        "outputId": "3fc93784-3499-4182-907b-a1ee77936f87"
      },
      "source": [
        "# se가 0보다 큰 것에 대해 boolean indexer를 사용하여 indexing 한다\n",
        "x = df[se>0]\n",
        "x"
      ],
      "execution_count": null,
      "outputs": [
        {
          "output_type": "execute_result",
          "data": {
            "text/html": [
              "<div>\n",
              "<style scoped>\n",
              "    .dataframe tbody tr th:only-of-type {\n",
              "        vertical-align: middle;\n",
              "    }\n",
              "\n",
              "    .dataframe tbody tr th {\n",
              "        vertical-align: top;\n",
              "    }\n",
              "\n",
              "    .dataframe thead th {\n",
              "        text-align: right;\n",
              "    }\n",
              "</style>\n",
              "<table border=\"1\" class=\"dataframe\">\n",
              "  <thead>\n",
              "    <tr style=\"text-align: right;\">\n",
              "      <th></th>\n",
              "      <th>pname</th>\n",
              "      <th>dept</th>\n",
              "      <th>english</th>\n",
              "      <th>salary</th>\n",
              "    </tr>\n",
              "  </thead>\n",
              "  <tbody>\n",
              "    <tr>\n",
              "      <th>0</th>\n",
              "      <td>James Kim</td>\n",
              "      <td>Education</td>\n",
              "      <td>1</td>\n",
              "      <td>3456</td>\n",
              "    </tr>\n",
              "    <tr>\n",
              "      <th>2</th>\n",
              "      <td>Sam Park</td>\n",
              "      <td>Education</td>\n",
              "      <td>1</td>\n",
              "      <td>5600</td>\n",
              "    </tr>\n",
              "    <tr>\n",
              "      <th>6</th>\n",
              "      <td>Chirle Song</td>\n",
              "      <td>Accounting</td>\n",
              "      <td>2</td>\n",
              "      <td>4800</td>\n",
              "    </tr>\n",
              "    <tr>\n",
              "      <th>7</th>\n",
              "      <td>Bob Kim</td>\n",
              "      <td>Sales</td>\n",
              "      <td>1</td>\n",
              "      <td>10100</td>\n",
              "    </tr>\n",
              "    <tr>\n",
              "      <th>8</th>\n",
              "      <td>John Park</td>\n",
              "      <td>Sales</td>\n",
              "      <td>3</td>\n",
              "      <td>6840</td>\n",
              "    </tr>\n",
              "  </tbody>\n",
              "</table>\n",
              "</div>"
            ],
            "text/plain": [
              "         pname        dept  english  salary\n",
              "0    James Kim   Education        1    3456\n",
              "2     Sam Park   Education        1    5600\n",
              "6  Chirle Song  Accounting        2    4800\n",
              "7      Bob Kim       Sales        1   10100\n",
              "8    John Park       Sales        3    6840"
            ]
          },
          "metadata": {
            "tags": []
          },
          "execution_count": 11
        }
      ]
    },
    {
      "cell_type": "code",
      "metadata": {
        "id": "5NStDxtNJl-z",
        "colab": {
          "base_uri": "https://localhost:8080/",
          "height": 106
        },
        "outputId": "ff1e313d-279f-4e93-91f9-0d5336ccce34"
      },
      "source": [
        "# se가 se의 평균값*2 보다 큰 것에 대해 boolean indexer를 사용하여 indexing 한다\n",
        "x = df[se > se.mean() * 2]\n",
        "x"
      ],
      "execution_count": null,
      "outputs": [
        {
          "output_type": "execute_result",
          "data": {
            "text/html": [
              "<div>\n",
              "<style scoped>\n",
              "    .dataframe tbody tr th:only-of-type {\n",
              "        vertical-align: middle;\n",
              "    }\n",
              "\n",
              "    .dataframe tbody tr th {\n",
              "        vertical-align: top;\n",
              "    }\n",
              "\n",
              "    .dataframe thead th {\n",
              "        text-align: right;\n",
              "    }\n",
              "</style>\n",
              "<table border=\"1\" class=\"dataframe\">\n",
              "  <thead>\n",
              "    <tr style=\"text-align: right;\">\n",
              "      <th></th>\n",
              "      <th>pname</th>\n",
              "      <th>dept</th>\n",
              "      <th>english</th>\n",
              "      <th>salary</th>\n",
              "    </tr>\n",
              "  </thead>\n",
              "  <tbody>\n",
              "    <tr>\n",
              "      <th>6</th>\n",
              "      <td>Chirle Song</td>\n",
              "      <td>Accounting</td>\n",
              "      <td>2</td>\n",
              "      <td>4800</td>\n",
              "    </tr>\n",
              "    <tr>\n",
              "      <th>8</th>\n",
              "      <td>John Park</td>\n",
              "      <td>Sales</td>\n",
              "      <td>3</td>\n",
              "      <td>6840</td>\n",
              "    </tr>\n",
              "  </tbody>\n",
              "</table>\n",
              "</div>"
            ],
            "text/plain": [
              "         pname        dept  english  salary\n",
              "6  Chirle Song  Accounting        2    4800\n",
              "8    John Park       Sales        3    6840"
            ]
          },
          "metadata": {
            "tags": []
          },
          "execution_count": 12
        }
      ]
    },
    {
      "cell_type": "code",
      "metadata": {
        "id": "JAbtnD9KFtp5",
        "colab": {
          "base_uri": "https://localhost:8080/",
          "height": 34
        },
        "outputId": "33562e23-b73d-41b6-eb44-b82c426e7729"
      },
      "source": [
        "se.mean() * 2"
      ],
      "execution_count": null,
      "outputs": [
        {
          "output_type": "execute_result",
          "data": {
            "text/plain": [
              "1.6"
            ]
          },
          "metadata": {
            "tags": []
          },
          "execution_count": 13
        }
      ]
    },
    {
      "cell_type": "code",
      "metadata": {
        "id": "zn3DeBqpJ9tY",
        "colab": {
          "base_uri": "https://localhost:8080/",
          "height": 106
        },
        "outputId": "af97b7c1-4378-4c43-cb58-e6f63791c3e6"
      },
      "source": [
        "# df에서 ss(salay)가 4500 초과이면서 5000 미만인 것에 대해 boolean indexer를 사용하여 indexing 한다\n",
        "# () & () 사용\n",
        "x = df[(ss>4500) & (ss<5000)]\n",
        "x"
      ],
      "execution_count": null,
      "outputs": [
        {
          "output_type": "execute_result",
          "data": {
            "text/html": [
              "<div>\n",
              "<style scoped>\n",
              "    .dataframe tbody tr th:only-of-type {\n",
              "        vertical-align: middle;\n",
              "    }\n",
              "\n",
              "    .dataframe tbody tr th {\n",
              "        vertical-align: top;\n",
              "    }\n",
              "\n",
              "    .dataframe thead th {\n",
              "        text-align: right;\n",
              "    }\n",
              "</style>\n",
              "<table border=\"1\" class=\"dataframe\">\n",
              "  <thead>\n",
              "    <tr style=\"text-align: right;\">\n",
              "      <th></th>\n",
              "      <th>pname</th>\n",
              "      <th>dept</th>\n",
              "      <th>english</th>\n",
              "      <th>salary</th>\n",
              "    </tr>\n",
              "  </thead>\n",
              "  <tbody>\n",
              "    <tr>\n",
              "      <th>6</th>\n",
              "      <td>Chirle Song</td>\n",
              "      <td>Accounting</td>\n",
              "      <td>2</td>\n",
              "      <td>4800</td>\n",
              "    </tr>\n",
              "    <tr>\n",
              "      <th>9</th>\n",
              "      <td>Anne Lee</td>\n",
              "      <td>Education</td>\n",
              "      <td>0</td>\n",
              "      <td>4750</td>\n",
              "    </tr>\n",
              "  </tbody>\n",
              "</table>\n",
              "</div>"
            ],
            "text/plain": [
              "         pname        dept  english  salary\n",
              "6  Chirle Song  Accounting        2    4800\n",
              "9     Anne Lee   Education        0    4750"
            ]
          },
          "metadata": {
            "tags": []
          },
          "execution_count": 14
        }
      ]
    },
    {
      "cell_type": "code",
      "metadata": {
        "id": "oyei4nwAKOqh",
        "colab": {
          "base_uri": "https://localhost:8080/",
          "height": 106
        },
        "outputId": "859ff102-94be-437a-b57f-c3c85c604fcc"
      },
      "source": [
        "# df에서 ss(salay)가 4500 초과이면서 5000 미만인 것에 대해 boolean indexer를 사용하여 indexing 한다\n",
        "# np.logical_and() 사용\n",
        "x = df[np.logical_and(ss>4500, ss<5000)]\n",
        "x"
      ],
      "execution_count": null,
      "outputs": [
        {
          "output_type": "execute_result",
          "data": {
            "text/html": [
              "<div>\n",
              "<style scoped>\n",
              "    .dataframe tbody tr th:only-of-type {\n",
              "        vertical-align: middle;\n",
              "    }\n",
              "\n",
              "    .dataframe tbody tr th {\n",
              "        vertical-align: top;\n",
              "    }\n",
              "\n",
              "    .dataframe thead th {\n",
              "        text-align: right;\n",
              "    }\n",
              "</style>\n",
              "<table border=\"1\" class=\"dataframe\">\n",
              "  <thead>\n",
              "    <tr style=\"text-align: right;\">\n",
              "      <th></th>\n",
              "      <th>pname</th>\n",
              "      <th>dept</th>\n",
              "      <th>english</th>\n",
              "      <th>salary</th>\n",
              "    </tr>\n",
              "  </thead>\n",
              "  <tbody>\n",
              "    <tr>\n",
              "      <th>6</th>\n",
              "      <td>Chirle Song</td>\n",
              "      <td>Accounting</td>\n",
              "      <td>2</td>\n",
              "      <td>4800</td>\n",
              "    </tr>\n",
              "    <tr>\n",
              "      <th>9</th>\n",
              "      <td>Anne Lee</td>\n",
              "      <td>Education</td>\n",
              "      <td>0</td>\n",
              "      <td>4750</td>\n",
              "    </tr>\n",
              "  </tbody>\n",
              "</table>\n",
              "</div>"
            ],
            "text/plain": [
              "         pname        dept  english  salary\n",
              "6  Chirle Song  Accounting        2    4800\n",
              "9     Anne Lee   Education        0    4750"
            ]
          },
          "metadata": {
            "tags": []
          },
          "execution_count": 15
        }
      ]
    },
    {
      "cell_type": "code",
      "metadata": {
        "id": "wAnZB_oWKUZp",
        "colab": {
          "base_uri": "https://localhost:8080/",
          "height": 136
        },
        "outputId": "7fd30228-34ec-4db1-bdba-cf637ed04a66"
      },
      "source": [
        "# df에서 sd(dept)가 'Marketing'이거나 'Accounting' 인 것을 boolean indexer를 사용하여 indexing 한다\n",
        "# () | () 사용\n",
        "x = df[(sd == 'Marketing') | (sd == 'Accounting')]\n",
        "x"
      ],
      "execution_count": null,
      "outputs": [
        {
          "output_type": "execute_result",
          "data": {
            "text/html": [
              "<div>\n",
              "<style scoped>\n",
              "    .dataframe tbody tr th:only-of-type {\n",
              "        vertical-align: middle;\n",
              "    }\n",
              "\n",
              "    .dataframe tbody tr th {\n",
              "        vertical-align: top;\n",
              "    }\n",
              "\n",
              "    .dataframe thead th {\n",
              "        text-align: right;\n",
              "    }\n",
              "</style>\n",
              "<table border=\"1\" class=\"dataframe\">\n",
              "  <thead>\n",
              "    <tr style=\"text-align: right;\">\n",
              "      <th></th>\n",
              "      <th>pname</th>\n",
              "      <th>dept</th>\n",
              "      <th>english</th>\n",
              "      <th>salary</th>\n",
              "    </tr>\n",
              "  </thead>\n",
              "  <tbody>\n",
              "    <tr>\n",
              "      <th>1</th>\n",
              "      <td>Rose Hwang</td>\n",
              "      <td>Marketing</td>\n",
              "      <td>0</td>\n",
              "      <td>4320</td>\n",
              "    </tr>\n",
              "    <tr>\n",
              "      <th>4</th>\n",
              "      <td>Grace Lee</td>\n",
              "      <td>Marketing</td>\n",
              "      <td>0</td>\n",
              "      <td>3150</td>\n",
              "    </tr>\n",
              "    <tr>\n",
              "      <th>6</th>\n",
              "      <td>Chirle Song</td>\n",
              "      <td>Accounting</td>\n",
              "      <td>2</td>\n",
              "      <td>4800</td>\n",
              "    </tr>\n",
              "  </tbody>\n",
              "</table>\n",
              "</div>"
            ],
            "text/plain": [
              "         pname        dept  english  salary\n",
              "1   Rose Hwang   Marketing        0    4320\n",
              "4    Grace Lee   Marketing        0    3150\n",
              "6  Chirle Song  Accounting        2    4800"
            ]
          },
          "metadata": {
            "tags": []
          },
          "execution_count": 16
        }
      ]
    },
    {
      "cell_type": "code",
      "metadata": {
        "id": "djU1gMxKKu8Y",
        "colab": {
          "base_uri": "https://localhost:8080/",
          "height": 136
        },
        "outputId": "8cf46714-f467-407c-dec6-19eafafb8b07"
      },
      "source": [
        "# df에서 sd(dept)가 'Marketing'이거나 'Accounting' 인 것을 boolean indexer를 사용하여 indexing 한다 \n",
        "# np.logical_or() 사용\n",
        "x = df[np.logical_or(sd=='Marketing', sd=='Accounting')]\n",
        "x"
      ],
      "execution_count": null,
      "outputs": [
        {
          "output_type": "execute_result",
          "data": {
            "text/html": [
              "<div>\n",
              "<style scoped>\n",
              "    .dataframe tbody tr th:only-of-type {\n",
              "        vertical-align: middle;\n",
              "    }\n",
              "\n",
              "    .dataframe tbody tr th {\n",
              "        vertical-align: top;\n",
              "    }\n",
              "\n",
              "    .dataframe thead th {\n",
              "        text-align: right;\n",
              "    }\n",
              "</style>\n",
              "<table border=\"1\" class=\"dataframe\">\n",
              "  <thead>\n",
              "    <tr style=\"text-align: right;\">\n",
              "      <th></th>\n",
              "      <th>pname</th>\n",
              "      <th>dept</th>\n",
              "      <th>english</th>\n",
              "      <th>salary</th>\n",
              "    </tr>\n",
              "  </thead>\n",
              "  <tbody>\n",
              "    <tr>\n",
              "      <th>1</th>\n",
              "      <td>Rose Hwang</td>\n",
              "      <td>Marketing</td>\n",
              "      <td>0</td>\n",
              "      <td>4320</td>\n",
              "    </tr>\n",
              "    <tr>\n",
              "      <th>4</th>\n",
              "      <td>Grace Lee</td>\n",
              "      <td>Marketing</td>\n",
              "      <td>0</td>\n",
              "      <td>3150</td>\n",
              "    </tr>\n",
              "    <tr>\n",
              "      <th>6</th>\n",
              "      <td>Chirle Song</td>\n",
              "      <td>Accounting</td>\n",
              "      <td>2</td>\n",
              "      <td>4800</td>\n",
              "    </tr>\n",
              "  </tbody>\n",
              "</table>\n",
              "</div>"
            ],
            "text/plain": [
              "         pname        dept  english  salary\n",
              "1   Rose Hwang   Marketing        0    4320\n",
              "4    Grace Lee   Marketing        0    3150\n",
              "6  Chirle Song  Accounting        2    4800"
            ]
          },
          "metadata": {
            "tags": []
          },
          "execution_count": 17
        }
      ]
    },
    {
      "cell_type": "code",
      "metadata": {
        "id": "BvHwdpcAK6ZA",
        "colab": {
          "base_uri": "https://localhost:8080/",
          "height": 195
        },
        "outputId": "b7f2c56f-479c-451a-d7b0-435643aeeb5d"
      },
      "source": [
        "# df에서 sd(dept)가 'Education'이 아닌 것을 boolean indexer를 사용하여 indexing한다\n",
        "# ~ ( ) 사용\n",
        "x = df[~(sd=='Education')]\n",
        "x"
      ],
      "execution_count": null,
      "outputs": [
        {
          "output_type": "execute_result",
          "data": {
            "text/html": [
              "<div>\n",
              "<style scoped>\n",
              "    .dataframe tbody tr th:only-of-type {\n",
              "        vertical-align: middle;\n",
              "    }\n",
              "\n",
              "    .dataframe tbody tr th {\n",
              "        vertical-align: top;\n",
              "    }\n",
              "\n",
              "    .dataframe thead th {\n",
              "        text-align: right;\n",
              "    }\n",
              "</style>\n",
              "<table border=\"1\" class=\"dataframe\">\n",
              "  <thead>\n",
              "    <tr style=\"text-align: right;\">\n",
              "      <th></th>\n",
              "      <th>pname</th>\n",
              "      <th>dept</th>\n",
              "      <th>english</th>\n",
              "      <th>salary</th>\n",
              "    </tr>\n",
              "  </thead>\n",
              "  <tbody>\n",
              "    <tr>\n",
              "      <th>1</th>\n",
              "      <td>Rose Hwang</td>\n",
              "      <td>Marketing</td>\n",
              "      <td>0</td>\n",
              "      <td>4320</td>\n",
              "    </tr>\n",
              "    <tr>\n",
              "      <th>4</th>\n",
              "      <td>Grace Lee</td>\n",
              "      <td>Marketing</td>\n",
              "      <td>0</td>\n",
              "      <td>3150</td>\n",
              "    </tr>\n",
              "    <tr>\n",
              "      <th>6</th>\n",
              "      <td>Chirle Song</td>\n",
              "      <td>Accounting</td>\n",
              "      <td>2</td>\n",
              "      <td>4800</td>\n",
              "    </tr>\n",
              "    <tr>\n",
              "      <th>7</th>\n",
              "      <td>Bob Kim</td>\n",
              "      <td>Sales</td>\n",
              "      <td>1</td>\n",
              "      <td>10100</td>\n",
              "    </tr>\n",
              "    <tr>\n",
              "      <th>8</th>\n",
              "      <td>John Park</td>\n",
              "      <td>Sales</td>\n",
              "      <td>3</td>\n",
              "      <td>6840</td>\n",
              "    </tr>\n",
              "  </tbody>\n",
              "</table>\n",
              "</div>"
            ],
            "text/plain": [
              "         pname        dept  english  salary\n",
              "1   Rose Hwang   Marketing        0    4320\n",
              "4    Grace Lee   Marketing        0    3150\n",
              "6  Chirle Song  Accounting        2    4800\n",
              "7      Bob Kim       Sales        1   10100\n",
              "8    John Park       Sales        3    6840"
            ]
          },
          "metadata": {
            "tags": []
          },
          "execution_count": 18
        }
      ]
    },
    {
      "cell_type": "code",
      "metadata": {
        "id": "BHVg34MJLHBP",
        "colab": {
          "base_uri": "https://localhost:8080/",
          "height": 195
        },
        "outputId": "a902edeb-c79f-4350-f2a1-e0c5197a6c1e"
      },
      "source": [
        "# df에서 sd(dept)가 'Education'이 아닌 것을 boolean indexer를 사용하여 indexing한다\n",
        "# np.logical_not() 사용\n",
        "x = df[np.logical_not(sd=='Education')]\n",
        "x"
      ],
      "execution_count": null,
      "outputs": [
        {
          "output_type": "execute_result",
          "data": {
            "text/html": [
              "<div>\n",
              "<style scoped>\n",
              "    .dataframe tbody tr th:only-of-type {\n",
              "        vertical-align: middle;\n",
              "    }\n",
              "\n",
              "    .dataframe tbody tr th {\n",
              "        vertical-align: top;\n",
              "    }\n",
              "\n",
              "    .dataframe thead th {\n",
              "        text-align: right;\n",
              "    }\n",
              "</style>\n",
              "<table border=\"1\" class=\"dataframe\">\n",
              "  <thead>\n",
              "    <tr style=\"text-align: right;\">\n",
              "      <th></th>\n",
              "      <th>pname</th>\n",
              "      <th>dept</th>\n",
              "      <th>english</th>\n",
              "      <th>salary</th>\n",
              "    </tr>\n",
              "  </thead>\n",
              "  <tbody>\n",
              "    <tr>\n",
              "      <th>1</th>\n",
              "      <td>Rose Hwang</td>\n",
              "      <td>Marketing</td>\n",
              "      <td>0</td>\n",
              "      <td>4320</td>\n",
              "    </tr>\n",
              "    <tr>\n",
              "      <th>4</th>\n",
              "      <td>Grace Lee</td>\n",
              "      <td>Marketing</td>\n",
              "      <td>0</td>\n",
              "      <td>3150</td>\n",
              "    </tr>\n",
              "    <tr>\n",
              "      <th>6</th>\n",
              "      <td>Chirle Song</td>\n",
              "      <td>Accounting</td>\n",
              "      <td>2</td>\n",
              "      <td>4800</td>\n",
              "    </tr>\n",
              "    <tr>\n",
              "      <th>7</th>\n",
              "      <td>Bob Kim</td>\n",
              "      <td>Sales</td>\n",
              "      <td>1</td>\n",
              "      <td>10100</td>\n",
              "    </tr>\n",
              "    <tr>\n",
              "      <th>8</th>\n",
              "      <td>John Park</td>\n",
              "      <td>Sales</td>\n",
              "      <td>3</td>\n",
              "      <td>6840</td>\n",
              "    </tr>\n",
              "  </tbody>\n",
              "</table>\n",
              "</div>"
            ],
            "text/plain": [
              "         pname        dept  english  salary\n",
              "1   Rose Hwang   Marketing        0    4320\n",
              "4    Grace Lee   Marketing        0    3150\n",
              "6  Chirle Song  Accounting        2    4800\n",
              "7      Bob Kim       Sales        1   10100\n",
              "8    John Park       Sales        3    6840"
            ]
          },
          "metadata": {
            "tags": []
          },
          "execution_count": 19
        }
      ]
    },
    {
      "cell_type": "markdown",
      "metadata": {
        "id": "xCQynaaNHYQ-"
      },
      "source": [
        "##### 10-1-4) isin() 을 사용한 Boolean Indexing\n",
        "- 목록에 포함된 내용이 있을 때 True 아니면 False\n",
        "   - df.isin(list/dict) \n",
        "   - s.isin(list)\n",
        "\n"
      ]
    },
    {
      "cell_type": "code",
      "metadata": {
        "id": "fbGhiNycYRgR",
        "colab": {
          "base_uri": "https://localhost:8080/",
          "height": 166
        },
        "outputId": "8dd56dae-fb7b-4e52-a24f-824cb3625b37"
      },
      "source": [
        "import pandas as pd\n",
        "import numpy as np\n",
        "\n",
        "name = [\"Kim\",\"Yoon\", \"Choi\", \"Park\"]\n",
        "data = {'korean'  : ['A', 'A', 'A', 'B'],\n",
        "        'english' : ['B', 'A', 'C', 'B']}        \n",
        "df = pd.DataFrame(data, index = name)\n",
        "df"
      ],
      "execution_count": null,
      "outputs": [
        {
          "output_type": "execute_result",
          "data": {
            "text/html": [
              "<div>\n",
              "<style scoped>\n",
              "    .dataframe tbody tr th:only-of-type {\n",
              "        vertical-align: middle;\n",
              "    }\n",
              "\n",
              "    .dataframe tbody tr th {\n",
              "        vertical-align: top;\n",
              "    }\n",
              "\n",
              "    .dataframe thead th {\n",
              "        text-align: right;\n",
              "    }\n",
              "</style>\n",
              "<table border=\"1\" class=\"dataframe\">\n",
              "  <thead>\n",
              "    <tr style=\"text-align: right;\">\n",
              "      <th></th>\n",
              "      <th>korean</th>\n",
              "      <th>english</th>\n",
              "    </tr>\n",
              "  </thead>\n",
              "  <tbody>\n",
              "    <tr>\n",
              "      <th>Kim</th>\n",
              "      <td>A</td>\n",
              "      <td>B</td>\n",
              "    </tr>\n",
              "    <tr>\n",
              "      <th>Yoon</th>\n",
              "      <td>A</td>\n",
              "      <td>A</td>\n",
              "    </tr>\n",
              "    <tr>\n",
              "      <th>Choi</th>\n",
              "      <td>A</td>\n",
              "      <td>C</td>\n",
              "    </tr>\n",
              "    <tr>\n",
              "      <th>Park</th>\n",
              "      <td>B</td>\n",
              "      <td>B</td>\n",
              "    </tr>\n",
              "  </tbody>\n",
              "</table>\n",
              "</div>"
            ],
            "text/plain": [
              "     korean english\n",
              "Kim       A       B\n",
              "Yoon      A       A\n",
              "Choi      A       C\n",
              "Park      B       B"
            ]
          },
          "metadata": {
            "tags": []
          },
          "execution_count": 20
        }
      ]
    },
    {
      "cell_type": "code",
      "metadata": {
        "id": "3LjVX9NaYRgS",
        "colab": {
          "base_uri": "https://localhost:8080/",
          "height": 166
        },
        "outputId": "5d38c1d6-f2c5-4519-829e-999b9c1a35fa"
      },
      "source": [
        "df1 = df.isin(['B','C'])\n",
        "df1"
      ],
      "execution_count": null,
      "outputs": [
        {
          "output_type": "execute_result",
          "data": {
            "text/html": [
              "<div>\n",
              "<style scoped>\n",
              "    .dataframe tbody tr th:only-of-type {\n",
              "        vertical-align: middle;\n",
              "    }\n",
              "\n",
              "    .dataframe tbody tr th {\n",
              "        vertical-align: top;\n",
              "    }\n",
              "\n",
              "    .dataframe thead th {\n",
              "        text-align: right;\n",
              "    }\n",
              "</style>\n",
              "<table border=\"1\" class=\"dataframe\">\n",
              "  <thead>\n",
              "    <tr style=\"text-align: right;\">\n",
              "      <th></th>\n",
              "      <th>korean</th>\n",
              "      <th>english</th>\n",
              "    </tr>\n",
              "  </thead>\n",
              "  <tbody>\n",
              "    <tr>\n",
              "      <th>Kim</th>\n",
              "      <td>False</td>\n",
              "      <td>True</td>\n",
              "    </tr>\n",
              "    <tr>\n",
              "      <th>Yoon</th>\n",
              "      <td>False</td>\n",
              "      <td>False</td>\n",
              "    </tr>\n",
              "    <tr>\n",
              "      <th>Choi</th>\n",
              "      <td>False</td>\n",
              "      <td>True</td>\n",
              "    </tr>\n",
              "    <tr>\n",
              "      <th>Park</th>\n",
              "      <td>True</td>\n",
              "      <td>True</td>\n",
              "    </tr>\n",
              "  </tbody>\n",
              "</table>\n",
              "</div>"
            ],
            "text/plain": [
              "      korean  english\n",
              "Kim    False     True\n",
              "Yoon   False    False\n",
              "Choi   False     True\n",
              "Park    True     True"
            ]
          },
          "metadata": {
            "tags": []
          },
          "execution_count": 21
        }
      ]
    },
    {
      "cell_type": "code",
      "metadata": {
        "id": "AHgqOqZdIW3m"
      },
      "source": [
        "w = {'korean'  : ['A'],\n",
        "     'english' : ['A', 'B']}\n",
        "df2 = df.isin(w)\n",
        "df3 = df[df2]   # boolean indexing - False에 해당하는 것을 NaN으로 "
      ],
      "execution_count": null,
      "outputs": []
    },
    {
      "cell_type": "code",
      "metadata": {
        "id": "8INiAHNMYRgU",
        "colab": {
          "base_uri": "https://localhost:8080/",
          "height": 314
        },
        "outputId": "868a725f-53a1-401f-c56c-a6cbadb7ffce"
      },
      "source": [
        "display(df2, df3)"
      ],
      "execution_count": null,
      "outputs": [
        {
          "output_type": "display_data",
          "data": {
            "text/html": [
              "<div>\n",
              "<style scoped>\n",
              "    .dataframe tbody tr th:only-of-type {\n",
              "        vertical-align: middle;\n",
              "    }\n",
              "\n",
              "    .dataframe tbody tr th {\n",
              "        vertical-align: top;\n",
              "    }\n",
              "\n",
              "    .dataframe thead th {\n",
              "        text-align: right;\n",
              "    }\n",
              "</style>\n",
              "<table border=\"1\" class=\"dataframe\">\n",
              "  <thead>\n",
              "    <tr style=\"text-align: right;\">\n",
              "      <th></th>\n",
              "      <th>korean</th>\n",
              "      <th>english</th>\n",
              "    </tr>\n",
              "  </thead>\n",
              "  <tbody>\n",
              "    <tr>\n",
              "      <th>Kim</th>\n",
              "      <td>True</td>\n",
              "      <td>True</td>\n",
              "    </tr>\n",
              "    <tr>\n",
              "      <th>Yoon</th>\n",
              "      <td>True</td>\n",
              "      <td>True</td>\n",
              "    </tr>\n",
              "    <tr>\n",
              "      <th>Choi</th>\n",
              "      <td>True</td>\n",
              "      <td>False</td>\n",
              "    </tr>\n",
              "    <tr>\n",
              "      <th>Park</th>\n",
              "      <td>False</td>\n",
              "      <td>True</td>\n",
              "    </tr>\n",
              "  </tbody>\n",
              "</table>\n",
              "</div>"
            ],
            "text/plain": [
              "      korean  english\n",
              "Kim     True     True\n",
              "Yoon    True     True\n",
              "Choi    True    False\n",
              "Park   False     True"
            ]
          },
          "metadata": {
            "tags": []
          }
        },
        {
          "output_type": "display_data",
          "data": {
            "text/html": [
              "<div>\n",
              "<style scoped>\n",
              "    .dataframe tbody tr th:only-of-type {\n",
              "        vertical-align: middle;\n",
              "    }\n",
              "\n",
              "    .dataframe tbody tr th {\n",
              "        vertical-align: top;\n",
              "    }\n",
              "\n",
              "    .dataframe thead th {\n",
              "        text-align: right;\n",
              "    }\n",
              "</style>\n",
              "<table border=\"1\" class=\"dataframe\">\n",
              "  <thead>\n",
              "    <tr style=\"text-align: right;\">\n",
              "      <th></th>\n",
              "      <th>korean</th>\n",
              "      <th>english</th>\n",
              "    </tr>\n",
              "  </thead>\n",
              "  <tbody>\n",
              "    <tr>\n",
              "      <th>Kim</th>\n",
              "      <td>A</td>\n",
              "      <td>B</td>\n",
              "    </tr>\n",
              "    <tr>\n",
              "      <th>Yoon</th>\n",
              "      <td>A</td>\n",
              "      <td>A</td>\n",
              "    </tr>\n",
              "    <tr>\n",
              "      <th>Choi</th>\n",
              "      <td>A</td>\n",
              "      <td>NaN</td>\n",
              "    </tr>\n",
              "    <tr>\n",
              "      <th>Park</th>\n",
              "      <td>NaN</td>\n",
              "      <td>B</td>\n",
              "    </tr>\n",
              "  </tbody>\n",
              "</table>\n",
              "</div>"
            ],
            "text/plain": [
              "     korean english\n",
              "Kim       A       B\n",
              "Yoon      A       A\n",
              "Choi      A     NaN\n",
              "Park    NaN       B"
            ]
          },
          "metadata": {
            "tags": []
          }
        }
      ]
    },
    {
      "cell_type": "code",
      "metadata": {
        "id": "8KDXcYNOYRgV",
        "colab": {
          "base_uri": "https://localhost:8080/",
          "height": 193
        },
        "outputId": "e5888231-c472-4a1a-f313-9cd3efde60bb"
      },
      "source": [
        "# 'english' column을 s라는 이름으로 저장한다\n",
        "s = df['english']\n",
        "# s에대해 'A'에 해당하면 True, 아니면 False로 하는 Series를 생성한다 (isin() 사용)\n",
        "s1 = s.isin(['A'])\n",
        "# s에대해 'B' 또는 'C'에 해당하면 True, 아니면 False로 하는 Series를 생성한다 (isin() 사용)\n",
        "s2 = s.isin(['B', 'C'])\n",
        "display(s1, s2)"
      ],
      "execution_count": null,
      "outputs": [
        {
          "output_type": "display_data",
          "data": {
            "text/plain": [
              "Kim     False\n",
              "Yoon     True\n",
              "Choi    False\n",
              "Park    False\n",
              "Name: english, dtype: bool"
            ]
          },
          "metadata": {
            "tags": []
          }
        },
        {
          "output_type": "display_data",
          "data": {
            "text/plain": [
              "Kim      True\n",
              "Yoon    False\n",
              "Choi     True\n",
              "Park     True\n",
              "Name: english, dtype: bool"
            ]
          },
          "metadata": {
            "tags": []
          }
        }
      ]
    },
    {
      "cell_type": "code",
      "metadata": {
        "id": "4KwEKQwoJHl8",
        "colab": {
          "base_uri": "https://localhost:8080/",
          "height": 105
        },
        "outputId": "3f84f573-0f45-4c43-b2f0-ff4526fb9dfd"
      },
      "source": [
        "s3 = (s=='B') | (s=='C')\n",
        "s3"
      ],
      "execution_count": null,
      "outputs": [
        {
          "output_type": "execute_result",
          "data": {
            "text/plain": [
              "Kim      True\n",
              "Yoon    False\n",
              "Choi     True\n",
              "Park     True\n",
              "Name: english, dtype: bool"
            ]
          },
          "metadata": {
            "tags": []
          },
          "execution_count": 26
        }
      ]
    },
    {
      "cell_type": "code",
      "metadata": {
        "id": "Q2SHuix4IIWT"
      },
      "source": [
        "# s1, s2를 사용하여 df를 indexing 한다\n",
        "df1 = df[s1]   # boolean index\n",
        "df2 = df[s2]"
      ],
      "execution_count": null,
      "outputs": []
    },
    {
      "cell_type": "code",
      "metadata": {
        "id": "L5Zq_yR5YRgX",
        "colab": {
          "base_uri": "https://localhost:8080/",
          "height": 345
        },
        "outputId": "60c0fc36-5c11-42c4-efad-be4c644b0d77"
      },
      "source": [
        "display(df, df1, df2)"
      ],
      "execution_count": null,
      "outputs": [
        {
          "output_type": "display_data",
          "data": {
            "text/html": [
              "<div>\n",
              "<style scoped>\n",
              "    .dataframe tbody tr th:only-of-type {\n",
              "        vertical-align: middle;\n",
              "    }\n",
              "\n",
              "    .dataframe tbody tr th {\n",
              "        vertical-align: top;\n",
              "    }\n",
              "\n",
              "    .dataframe thead th {\n",
              "        text-align: right;\n",
              "    }\n",
              "</style>\n",
              "<table border=\"1\" class=\"dataframe\">\n",
              "  <thead>\n",
              "    <tr style=\"text-align: right;\">\n",
              "      <th></th>\n",
              "      <th>korean</th>\n",
              "      <th>english</th>\n",
              "    </tr>\n",
              "  </thead>\n",
              "  <tbody>\n",
              "    <tr>\n",
              "      <th>Kim</th>\n",
              "      <td>A</td>\n",
              "      <td>B</td>\n",
              "    </tr>\n",
              "    <tr>\n",
              "      <th>Yoon</th>\n",
              "      <td>A</td>\n",
              "      <td>A</td>\n",
              "    </tr>\n",
              "    <tr>\n",
              "      <th>Choi</th>\n",
              "      <td>A</td>\n",
              "      <td>C</td>\n",
              "    </tr>\n",
              "    <tr>\n",
              "      <th>Park</th>\n",
              "      <td>B</td>\n",
              "      <td>B</td>\n",
              "    </tr>\n",
              "  </tbody>\n",
              "</table>\n",
              "</div>"
            ],
            "text/plain": [
              "     korean english\n",
              "Kim       A       B\n",
              "Yoon      A       A\n",
              "Choi      A       C\n",
              "Park      B       B"
            ]
          },
          "metadata": {
            "tags": []
          }
        },
        {
          "output_type": "display_data",
          "data": {
            "text/html": [
              "<div>\n",
              "<style scoped>\n",
              "    .dataframe tbody tr th:only-of-type {\n",
              "        vertical-align: middle;\n",
              "    }\n",
              "\n",
              "    .dataframe tbody tr th {\n",
              "        vertical-align: top;\n",
              "    }\n",
              "\n",
              "    .dataframe thead th {\n",
              "        text-align: right;\n",
              "    }\n",
              "</style>\n",
              "<table border=\"1\" class=\"dataframe\">\n",
              "  <thead>\n",
              "    <tr style=\"text-align: right;\">\n",
              "      <th></th>\n",
              "      <th>korean</th>\n",
              "      <th>english</th>\n",
              "    </tr>\n",
              "  </thead>\n",
              "  <tbody>\n",
              "    <tr>\n",
              "      <th>Yoon</th>\n",
              "      <td>A</td>\n",
              "      <td>A</td>\n",
              "    </tr>\n",
              "  </tbody>\n",
              "</table>\n",
              "</div>"
            ],
            "text/plain": [
              "     korean english\n",
              "Yoon      A       A"
            ]
          },
          "metadata": {
            "tags": []
          }
        },
        {
          "output_type": "display_data",
          "data": {
            "text/html": [
              "<div>\n",
              "<style scoped>\n",
              "    .dataframe tbody tr th:only-of-type {\n",
              "        vertical-align: middle;\n",
              "    }\n",
              "\n",
              "    .dataframe tbody tr th {\n",
              "        vertical-align: top;\n",
              "    }\n",
              "\n",
              "    .dataframe thead th {\n",
              "        text-align: right;\n",
              "    }\n",
              "</style>\n",
              "<table border=\"1\" class=\"dataframe\">\n",
              "  <thead>\n",
              "    <tr style=\"text-align: right;\">\n",
              "      <th></th>\n",
              "      <th>korean</th>\n",
              "      <th>english</th>\n",
              "    </tr>\n",
              "  </thead>\n",
              "  <tbody>\n",
              "    <tr>\n",
              "      <th>Kim</th>\n",
              "      <td>A</td>\n",
              "      <td>B</td>\n",
              "    </tr>\n",
              "    <tr>\n",
              "      <th>Choi</th>\n",
              "      <td>A</td>\n",
              "      <td>C</td>\n",
              "    </tr>\n",
              "    <tr>\n",
              "      <th>Park</th>\n",
              "      <td>B</td>\n",
              "      <td>B</td>\n",
              "    </tr>\n",
              "  </tbody>\n",
              "</table>\n",
              "</div>"
            ],
            "text/plain": [
              "     korean english\n",
              "Kim       A       B\n",
              "Choi      A       C\n",
              "Park      B       B"
            ]
          },
          "metadata": {
            "tags": []
          }
        }
      ]
    },
    {
      "cell_type": "code",
      "metadata": {
        "id": "OVrP8Z8mIYhx",
        "colab": {
          "base_uri": "https://localhost:8080/",
          "height": 345
        },
        "outputId": "3c7e93a2-f4ec-47a6-b561-cb21c8815c09"
      },
      "source": [
        "# isin() 과 동일한 결과를 갖도록 ==, | 등의 연산자를 사용하여 조건을 작성한다\n",
        "df1 = df[s=='A']\n",
        "df2 = df[(s=='B') | (s=='C')]\n",
        "display(df, df1, df2)"
      ],
      "execution_count": null,
      "outputs": [
        {
          "output_type": "display_data",
          "data": {
            "text/html": [
              "<div>\n",
              "<style scoped>\n",
              "    .dataframe tbody tr th:only-of-type {\n",
              "        vertical-align: middle;\n",
              "    }\n",
              "\n",
              "    .dataframe tbody tr th {\n",
              "        vertical-align: top;\n",
              "    }\n",
              "\n",
              "    .dataframe thead th {\n",
              "        text-align: right;\n",
              "    }\n",
              "</style>\n",
              "<table border=\"1\" class=\"dataframe\">\n",
              "  <thead>\n",
              "    <tr style=\"text-align: right;\">\n",
              "      <th></th>\n",
              "      <th>korean</th>\n",
              "      <th>english</th>\n",
              "    </tr>\n",
              "  </thead>\n",
              "  <tbody>\n",
              "    <tr>\n",
              "      <th>Kim</th>\n",
              "      <td>A</td>\n",
              "      <td>B</td>\n",
              "    </tr>\n",
              "    <tr>\n",
              "      <th>Yoon</th>\n",
              "      <td>A</td>\n",
              "      <td>A</td>\n",
              "    </tr>\n",
              "    <tr>\n",
              "      <th>Choi</th>\n",
              "      <td>A</td>\n",
              "      <td>C</td>\n",
              "    </tr>\n",
              "    <tr>\n",
              "      <th>Park</th>\n",
              "      <td>B</td>\n",
              "      <td>B</td>\n",
              "    </tr>\n",
              "  </tbody>\n",
              "</table>\n",
              "</div>"
            ],
            "text/plain": [
              "     korean english\n",
              "Kim       A       B\n",
              "Yoon      A       A\n",
              "Choi      A       C\n",
              "Park      B       B"
            ]
          },
          "metadata": {
            "tags": []
          }
        },
        {
          "output_type": "display_data",
          "data": {
            "text/html": [
              "<div>\n",
              "<style scoped>\n",
              "    .dataframe tbody tr th:only-of-type {\n",
              "        vertical-align: middle;\n",
              "    }\n",
              "\n",
              "    .dataframe tbody tr th {\n",
              "        vertical-align: top;\n",
              "    }\n",
              "\n",
              "    .dataframe thead th {\n",
              "        text-align: right;\n",
              "    }\n",
              "</style>\n",
              "<table border=\"1\" class=\"dataframe\">\n",
              "  <thead>\n",
              "    <tr style=\"text-align: right;\">\n",
              "      <th></th>\n",
              "      <th>korean</th>\n",
              "      <th>english</th>\n",
              "    </tr>\n",
              "  </thead>\n",
              "  <tbody>\n",
              "    <tr>\n",
              "      <th>Yoon</th>\n",
              "      <td>A</td>\n",
              "      <td>A</td>\n",
              "    </tr>\n",
              "  </tbody>\n",
              "</table>\n",
              "</div>"
            ],
            "text/plain": [
              "     korean english\n",
              "Yoon      A       A"
            ]
          },
          "metadata": {
            "tags": []
          }
        },
        {
          "output_type": "display_data",
          "data": {
            "text/html": [
              "<div>\n",
              "<style scoped>\n",
              "    .dataframe tbody tr th:only-of-type {\n",
              "        vertical-align: middle;\n",
              "    }\n",
              "\n",
              "    .dataframe tbody tr th {\n",
              "        vertical-align: top;\n",
              "    }\n",
              "\n",
              "    .dataframe thead th {\n",
              "        text-align: right;\n",
              "    }\n",
              "</style>\n",
              "<table border=\"1\" class=\"dataframe\">\n",
              "  <thead>\n",
              "    <tr style=\"text-align: right;\">\n",
              "      <th></th>\n",
              "      <th>korean</th>\n",
              "      <th>english</th>\n",
              "    </tr>\n",
              "  </thead>\n",
              "  <tbody>\n",
              "    <tr>\n",
              "      <th>Kim</th>\n",
              "      <td>A</td>\n",
              "      <td>B</td>\n",
              "    </tr>\n",
              "    <tr>\n",
              "      <th>Choi</th>\n",
              "      <td>A</td>\n",
              "      <td>C</td>\n",
              "    </tr>\n",
              "    <tr>\n",
              "      <th>Park</th>\n",
              "      <td>B</td>\n",
              "      <td>B</td>\n",
              "    </tr>\n",
              "  </tbody>\n",
              "</table>\n",
              "</div>"
            ],
            "text/plain": [
              "     korean english\n",
              "Kim       A       B\n",
              "Choi      A       C\n",
              "Park      B       B"
            ]
          },
          "metadata": {
            "tags": []
          }
        }
      ]
    },
    {
      "cell_type": "markdown",
      "metadata": {
        "id": "TsvwzyrwJuBU"
      },
      "source": [
        "##### 10-1-5) Accessor를 사용\n",
        "- [Accessor](https://pandas.pydata.org/docs/reference/series.html?highlight=accessor#accessors)\n",
        "- datetime, object(str) dtype의 Series에 있는 Accessor\n",
        "   - datetime, timedelta : dt  ([dt detail](https://pandas.pydata.org/docs/reference/series.html?highlight=accessor#api-series-dt))\n",
        "   - object(str) : str ([str detail](https://pandas.pydata.org/docs/reference/series.html?highlight=accessor#api-series-str))"
      ]
    },
    {
      "cell_type": "code",
      "metadata": {
        "id": "Lz8jx5PZYRgd",
        "colab": {
          "base_uri": "https://localhost:8080/",
          "height": 195
        },
        "outputId": "f031aa7e-a181-4af4-8057-1aaf9f8947ae"
      },
      "source": [
        "import pandas as pd\n",
        "import numpy as np\n",
        "import shelve\n",
        "\n",
        "with shelve.open('easySample') as myShelf:\n",
        "  df = myShelf['sample3']\n",
        "\n",
        "df.index = pd.RangeIndex(len(df))\n",
        "df.head()"
      ],
      "execution_count": null,
      "outputs": [
        {
          "output_type": "execute_result",
          "data": {
            "text/html": [
              "<div>\n",
              "<style scoped>\n",
              "    .dataframe tbody tr th:only-of-type {\n",
              "        vertical-align: middle;\n",
              "    }\n",
              "\n",
              "    .dataframe tbody tr th {\n",
              "        vertical-align: top;\n",
              "    }\n",
              "\n",
              "    .dataframe thead th {\n",
              "        text-align: right;\n",
              "    }\n",
              "</style>\n",
              "<table border=\"1\" class=\"dataframe\">\n",
              "  <thead>\n",
              "    <tr style=\"text-align: right;\">\n",
              "      <th></th>\n",
              "      <th>pname</th>\n",
              "      <th>birth</th>\n",
              "      <th>dept</th>\n",
              "      <th>english</th>\n",
              "      <th>japanese</th>\n",
              "      <th>chinese</th>\n",
              "      <th>salary</th>\n",
              "      <th>overtime</th>\n",
              "    </tr>\n",
              "  </thead>\n",
              "  <tbody>\n",
              "    <tr>\n",
              "      <th>0</th>\n",
              "      <td>James Kim</td>\n",
              "      <td>1990-01-23</td>\n",
              "      <td>Education</td>\n",
              "      <td>1</td>\n",
              "      <td>1</td>\n",
              "      <td>0</td>\n",
              "      <td>3456</td>\n",
              "      <td>23:10:10</td>\n",
              "    </tr>\n",
              "    <tr>\n",
              "      <th>1</th>\n",
              "      <td>Rose Hwang</td>\n",
              "      <td>1992-10-11</td>\n",
              "      <td>Marketing</td>\n",
              "      <td>0</td>\n",
              "      <td>2</td>\n",
              "      <td>0</td>\n",
              "      <td>4320</td>\n",
              "      <td>10:15:17</td>\n",
              "    </tr>\n",
              "    <tr>\n",
              "      <th>2</th>\n",
              "      <td>Sam Park</td>\n",
              "      <td>1995-07-02</td>\n",
              "      <td>Education</td>\n",
              "      <td>1</td>\n",
              "      <td>0</td>\n",
              "      <td>0</td>\n",
              "      <td>5600</td>\n",
              "      <td>16:21:10</td>\n",
              "    </tr>\n",
              "    <tr>\n",
              "      <th>3</th>\n",
              "      <td>Chris Jang</td>\n",
              "      <td>1990-11-23</td>\n",
              "      <td>Education</td>\n",
              "      <td>0</td>\n",
              "      <td>0</td>\n",
              "      <td>3</td>\n",
              "      <td>4500</td>\n",
              "      <td>15:00:20</td>\n",
              "    </tr>\n",
              "    <tr>\n",
              "      <th>4</th>\n",
              "      <td>Grace Lee</td>\n",
              "      <td>1993-02-01</td>\n",
              "      <td>Marketing</td>\n",
              "      <td>0</td>\n",
              "      <td>0</td>\n",
              "      <td>0</td>\n",
              "      <td>3150</td>\n",
              "      <td>21:19:50</td>\n",
              "    </tr>\n",
              "  </tbody>\n",
              "</table>\n",
              "</div>"
            ],
            "text/plain": [
              "        pname      birth       dept  ...  chinese  salary  overtime\n",
              "0   James Kim 1990-01-23  Education  ...        0    3456  23:10:10\n",
              "1  Rose Hwang 1992-10-11  Marketing  ...        0    4320  10:15:17\n",
              "2    Sam Park 1995-07-02  Education  ...        0    5600  16:21:10\n",
              "3  Chris Jang 1990-11-23  Education  ...        3    4500  15:00:20\n",
              "4   Grace Lee 1993-02-01  Marketing  ...        0    3150  21:19:50\n",
              "\n",
              "[5 rows x 8 columns]"
            ]
          },
          "metadata": {
            "tags": []
          },
          "execution_count": 32
        }
      ]
    },
    {
      "cell_type": "code",
      "metadata": {
        "id": "ksOGdM-3YRgg",
        "colab": {
          "base_uri": "https://localhost:8080/",
          "height": 175
        },
        "outputId": "aa4a2bc7-d640-45a4-d7c7-19b31a23de0b"
      },
      "source": [
        "df = df[['pname', 'birth']]\n",
        "df.info()"
      ],
      "execution_count": null,
      "outputs": [
        {
          "output_type": "stream",
          "text": [
            "<class 'pandas.core.frame.DataFrame'>\n",
            "RangeIndex: 10 entries, 0 to 9\n",
            "Data columns (total 2 columns):\n",
            " #   Column  Non-Null Count  Dtype         \n",
            "---  ------  --------------  -----         \n",
            " 0   pname   10 non-null     object        \n",
            " 1   birth   10 non-null     datetime64[ns]\n",
            "dtypes: datetime64[ns](1), object(1)\n",
            "memory usage: 288.0+ bytes\n"
          ],
          "name": "stdout"
        }
      ]
    },
    {
      "cell_type": "code",
      "metadata": {
        "id": "1GEDbv-_Kn_e",
        "colab": {
          "base_uri": "https://localhost:8080/",
          "height": 462
        },
        "outputId": "03ee1e44-85f7-40f1-ce8d-f987e285d681"
      },
      "source": [
        "sb = df['birth']  # Series\n",
        "# df에 'birth'에서 year에 대한 것을 'year' column으로 추가한다\n",
        "df['year'] = sb.dt.year\n",
        "# 'year'가 1992인 것만 indexing 하여 df2로 저장한다\n",
        "df2 = df[df['year'] == 1992]\n",
        "display(df, df2)"
      ],
      "execution_count": null,
      "outputs": [
        {
          "output_type": "display_data",
          "data": {
            "text/html": [
              "<div>\n",
              "<style scoped>\n",
              "    .dataframe tbody tr th:only-of-type {\n",
              "        vertical-align: middle;\n",
              "    }\n",
              "\n",
              "    .dataframe tbody tr th {\n",
              "        vertical-align: top;\n",
              "    }\n",
              "\n",
              "    .dataframe thead th {\n",
              "        text-align: right;\n",
              "    }\n",
              "</style>\n",
              "<table border=\"1\" class=\"dataframe\">\n",
              "  <thead>\n",
              "    <tr style=\"text-align: right;\">\n",
              "      <th></th>\n",
              "      <th>pname</th>\n",
              "      <th>birth</th>\n",
              "      <th>year</th>\n",
              "    </tr>\n",
              "  </thead>\n",
              "  <tbody>\n",
              "    <tr>\n",
              "      <th>0</th>\n",
              "      <td>James Kim</td>\n",
              "      <td>1990-01-23</td>\n",
              "      <td>1990</td>\n",
              "    </tr>\n",
              "    <tr>\n",
              "      <th>1</th>\n",
              "      <td>Rose Hwang</td>\n",
              "      <td>1992-10-11</td>\n",
              "      <td>1992</td>\n",
              "    </tr>\n",
              "    <tr>\n",
              "      <th>2</th>\n",
              "      <td>Sam Park</td>\n",
              "      <td>1995-07-02</td>\n",
              "      <td>1995</td>\n",
              "    </tr>\n",
              "    <tr>\n",
              "      <th>3</th>\n",
              "      <td>Chris Jang</td>\n",
              "      <td>1990-11-23</td>\n",
              "      <td>1990</td>\n",
              "    </tr>\n",
              "    <tr>\n",
              "      <th>4</th>\n",
              "      <td>Grace Lee</td>\n",
              "      <td>1993-02-01</td>\n",
              "      <td>1993</td>\n",
              "    </tr>\n",
              "    <tr>\n",
              "      <th>5</th>\n",
              "      <td>Juile Yoon</td>\n",
              "      <td>1992-07-16</td>\n",
              "      <td>1992</td>\n",
              "    </tr>\n",
              "    <tr>\n",
              "      <th>6</th>\n",
              "      <td>Chirle Song</td>\n",
              "      <td>1993-04-11</td>\n",
              "      <td>1993</td>\n",
              "    </tr>\n",
              "    <tr>\n",
              "      <th>7</th>\n",
              "      <td>Bob Kim</td>\n",
              "      <td>1991-12-07</td>\n",
              "      <td>1991</td>\n",
              "    </tr>\n",
              "    <tr>\n",
              "      <th>8</th>\n",
              "      <td>John Park</td>\n",
              "      <td>1992-06-16</td>\n",
              "      <td>1992</td>\n",
              "    </tr>\n",
              "    <tr>\n",
              "      <th>9</th>\n",
              "      <td>Anne Lee</td>\n",
              "      <td>1993-05-05</td>\n",
              "      <td>1993</td>\n",
              "    </tr>\n",
              "  </tbody>\n",
              "</table>\n",
              "</div>"
            ],
            "text/plain": [
              "         pname      birth  year\n",
              "0    James Kim 1990-01-23  1990\n",
              "1   Rose Hwang 1992-10-11  1992\n",
              "2     Sam Park 1995-07-02  1995\n",
              "3   Chris Jang 1990-11-23  1990\n",
              "4    Grace Lee 1993-02-01  1993\n",
              "5   Juile Yoon 1992-07-16  1992\n",
              "6  Chirle Song 1993-04-11  1993\n",
              "7      Bob Kim 1991-12-07  1991\n",
              "8    John Park 1992-06-16  1992\n",
              "9     Anne Lee 1993-05-05  1993"
            ]
          },
          "metadata": {
            "tags": []
          }
        },
        {
          "output_type": "display_data",
          "data": {
            "text/html": [
              "<div>\n",
              "<style scoped>\n",
              "    .dataframe tbody tr th:only-of-type {\n",
              "        vertical-align: middle;\n",
              "    }\n",
              "\n",
              "    .dataframe tbody tr th {\n",
              "        vertical-align: top;\n",
              "    }\n",
              "\n",
              "    .dataframe thead th {\n",
              "        text-align: right;\n",
              "    }\n",
              "</style>\n",
              "<table border=\"1\" class=\"dataframe\">\n",
              "  <thead>\n",
              "    <tr style=\"text-align: right;\">\n",
              "      <th></th>\n",
              "      <th>pname</th>\n",
              "      <th>birth</th>\n",
              "      <th>year</th>\n",
              "    </tr>\n",
              "  </thead>\n",
              "  <tbody>\n",
              "    <tr>\n",
              "      <th>1</th>\n",
              "      <td>Rose Hwang</td>\n",
              "      <td>1992-10-11</td>\n",
              "      <td>1992</td>\n",
              "    </tr>\n",
              "    <tr>\n",
              "      <th>5</th>\n",
              "      <td>Juile Yoon</td>\n",
              "      <td>1992-07-16</td>\n",
              "      <td>1992</td>\n",
              "    </tr>\n",
              "    <tr>\n",
              "      <th>8</th>\n",
              "      <td>John Park</td>\n",
              "      <td>1992-06-16</td>\n",
              "      <td>1992</td>\n",
              "    </tr>\n",
              "  </tbody>\n",
              "</table>\n",
              "</div>"
            ],
            "text/plain": [
              "        pname      birth  year\n",
              "1  Rose Hwang 1992-10-11  1992\n",
              "5  Juile Yoon 1992-07-16  1992\n",
              "8   John Park 1992-06-16  1992"
            ]
          },
          "metadata": {
            "tags": []
          }
        }
      ]
    },
    {
      "cell_type": "code",
      "metadata": {
        "id": "XmumHKAh8oIO",
        "colab": {
          "base_uri": "https://localhost:8080/",
          "height": 210
        },
        "outputId": "3eccf737-8495-4c51-aee1-f6643202d0a9"
      },
      "source": [
        "df.birth.dt.year"
      ],
      "execution_count": null,
      "outputs": [
        {
          "output_type": "execute_result",
          "data": {
            "text/plain": [
              "0    1990\n",
              "1    1992\n",
              "2    1995\n",
              "3    1990\n",
              "4    1993\n",
              "5    1992\n",
              "6    1993\n",
              "7    1991\n",
              "8    1992\n",
              "9    1993\n",
              "Name: birth, dtype: int64"
            ]
          },
          "metadata": {
            "tags": []
          },
          "execution_count": 40
        }
      ]
    },
    {
      "cell_type": "code",
      "metadata": {
        "id": "JBcyObHSYRgi",
        "colab": {
          "base_uri": "https://localhost:8080/",
          "height": 373
        },
        "outputId": "3d2daa80-37be-4f9e-92ca-91f67adc7fad"
      },
      "source": [
        "# birth(datetime64, dt)에 대해서 year, month, day, weekday, dayofyear를 column으로 하는 새로운 DataFrame 생성 (df2)\n",
        "# df2의 index는 df의 'pname'으로 한다 (df2 생성 후 index 교체)\n",
        "a = df.birth.dt\n",
        "mydata = {'year' : a.year, 'month': a.month, 'day' : a.day,\n",
        "          'weekday' : a.weekday, 'dayofyear' : a.dayofyear}\n",
        "df2 = pd.DataFrame(mydata) # index = df['pname'] - 주의사항        \n",
        "df2.index = df['pname']\n",
        "\n",
        "display(df2)"
      ],
      "execution_count": null,
      "outputs": [
        {
          "output_type": "display_data",
          "data": {
            "text/html": [
              "<div>\n",
              "<style scoped>\n",
              "    .dataframe tbody tr th:only-of-type {\n",
              "        vertical-align: middle;\n",
              "    }\n",
              "\n",
              "    .dataframe tbody tr th {\n",
              "        vertical-align: top;\n",
              "    }\n",
              "\n",
              "    .dataframe thead th {\n",
              "        text-align: right;\n",
              "    }\n",
              "</style>\n",
              "<table border=\"1\" class=\"dataframe\">\n",
              "  <thead>\n",
              "    <tr style=\"text-align: right;\">\n",
              "      <th></th>\n",
              "      <th>year</th>\n",
              "      <th>month</th>\n",
              "      <th>day</th>\n",
              "      <th>weekday</th>\n",
              "      <th>dayofyear</th>\n",
              "    </tr>\n",
              "    <tr>\n",
              "      <th>pname</th>\n",
              "      <th></th>\n",
              "      <th></th>\n",
              "      <th></th>\n",
              "      <th></th>\n",
              "      <th></th>\n",
              "    </tr>\n",
              "  </thead>\n",
              "  <tbody>\n",
              "    <tr>\n",
              "      <th>James Kim</th>\n",
              "      <td>1990</td>\n",
              "      <td>1</td>\n",
              "      <td>23</td>\n",
              "      <td>1</td>\n",
              "      <td>23</td>\n",
              "    </tr>\n",
              "    <tr>\n",
              "      <th>Rose Hwang</th>\n",
              "      <td>1992</td>\n",
              "      <td>10</td>\n",
              "      <td>11</td>\n",
              "      <td>6</td>\n",
              "      <td>285</td>\n",
              "    </tr>\n",
              "    <tr>\n",
              "      <th>Sam Park</th>\n",
              "      <td>1995</td>\n",
              "      <td>7</td>\n",
              "      <td>2</td>\n",
              "      <td>6</td>\n",
              "      <td>183</td>\n",
              "    </tr>\n",
              "    <tr>\n",
              "      <th>Chris Jang</th>\n",
              "      <td>1990</td>\n",
              "      <td>11</td>\n",
              "      <td>23</td>\n",
              "      <td>4</td>\n",
              "      <td>327</td>\n",
              "    </tr>\n",
              "    <tr>\n",
              "      <th>Grace Lee</th>\n",
              "      <td>1993</td>\n",
              "      <td>2</td>\n",
              "      <td>1</td>\n",
              "      <td>0</td>\n",
              "      <td>32</td>\n",
              "    </tr>\n",
              "    <tr>\n",
              "      <th>Juile Yoon</th>\n",
              "      <td>1992</td>\n",
              "      <td>7</td>\n",
              "      <td>16</td>\n",
              "      <td>3</td>\n",
              "      <td>198</td>\n",
              "    </tr>\n",
              "    <tr>\n",
              "      <th>Chirle Song</th>\n",
              "      <td>1993</td>\n",
              "      <td>4</td>\n",
              "      <td>11</td>\n",
              "      <td>6</td>\n",
              "      <td>101</td>\n",
              "    </tr>\n",
              "    <tr>\n",
              "      <th>Bob Kim</th>\n",
              "      <td>1991</td>\n",
              "      <td>12</td>\n",
              "      <td>7</td>\n",
              "      <td>5</td>\n",
              "      <td>341</td>\n",
              "    </tr>\n",
              "    <tr>\n",
              "      <th>John Park</th>\n",
              "      <td>1992</td>\n",
              "      <td>6</td>\n",
              "      <td>16</td>\n",
              "      <td>1</td>\n",
              "      <td>168</td>\n",
              "    </tr>\n",
              "    <tr>\n",
              "      <th>Anne Lee</th>\n",
              "      <td>1993</td>\n",
              "      <td>5</td>\n",
              "      <td>5</td>\n",
              "      <td>2</td>\n",
              "      <td>125</td>\n",
              "    </tr>\n",
              "  </tbody>\n",
              "</table>\n",
              "</div>"
            ],
            "text/plain": [
              "             year  month  day  weekday  dayofyear\n",
              "pname                                            \n",
              "James Kim    1990      1   23        1         23\n",
              "Rose Hwang   1992     10   11        6        285\n",
              "Sam Park     1995      7    2        6        183\n",
              "Chris Jang   1990     11   23        4        327\n",
              "Grace Lee    1993      2    1        0         32\n",
              "Juile Yoon   1992      7   16        3        198\n",
              "Chirle Song  1993      4   11        6        101\n",
              "Bob Kim      1991     12    7        5        341\n",
              "John Park    1992      6   16        1        168\n",
              "Anne Lee     1993      5    5        2        125"
            ]
          },
          "metadata": {
            "tags": []
          }
        }
      ]
    },
    {
      "cell_type": "code",
      "metadata": {
        "id": "Y3gcK14sYRgl",
        "colab": {
          "base_uri": "https://localhost:8080/",
          "height": 373
        },
        "outputId": "65caaf43-2dd5-4977-8b84-011517e60c27"
      },
      "source": [
        "# 0 월  1 화 ...... 6 일\n",
        "#wday = dict(zip(range(7), '월 화 수 목 금 토 일'.split()))\n",
        "wday = { 0: '월', 1:'화', 2:'수', 3:'목', 4:'금', 5:'토', 6:'일'}\n",
        "\n",
        "df2['weekday'] = df2['weekday'].replace(wday)\n",
        "df2"
      ],
      "execution_count": null,
      "outputs": [
        {
          "output_type": "execute_result",
          "data": {
            "text/html": [
              "<div>\n",
              "<style scoped>\n",
              "    .dataframe tbody tr th:only-of-type {\n",
              "        vertical-align: middle;\n",
              "    }\n",
              "\n",
              "    .dataframe tbody tr th {\n",
              "        vertical-align: top;\n",
              "    }\n",
              "\n",
              "    .dataframe thead th {\n",
              "        text-align: right;\n",
              "    }\n",
              "</style>\n",
              "<table border=\"1\" class=\"dataframe\">\n",
              "  <thead>\n",
              "    <tr style=\"text-align: right;\">\n",
              "      <th></th>\n",
              "      <th>year</th>\n",
              "      <th>month</th>\n",
              "      <th>day</th>\n",
              "      <th>weekday</th>\n",
              "      <th>dayofyear</th>\n",
              "    </tr>\n",
              "    <tr>\n",
              "      <th>pname</th>\n",
              "      <th></th>\n",
              "      <th></th>\n",
              "      <th></th>\n",
              "      <th></th>\n",
              "      <th></th>\n",
              "    </tr>\n",
              "  </thead>\n",
              "  <tbody>\n",
              "    <tr>\n",
              "      <th>James Kim</th>\n",
              "      <td>1990</td>\n",
              "      <td>1</td>\n",
              "      <td>23</td>\n",
              "      <td>화</td>\n",
              "      <td>23</td>\n",
              "    </tr>\n",
              "    <tr>\n",
              "      <th>Rose Hwang</th>\n",
              "      <td>1992</td>\n",
              "      <td>10</td>\n",
              "      <td>11</td>\n",
              "      <td>일</td>\n",
              "      <td>285</td>\n",
              "    </tr>\n",
              "    <tr>\n",
              "      <th>Sam Park</th>\n",
              "      <td>1995</td>\n",
              "      <td>7</td>\n",
              "      <td>2</td>\n",
              "      <td>일</td>\n",
              "      <td>183</td>\n",
              "    </tr>\n",
              "    <tr>\n",
              "      <th>Chris Jang</th>\n",
              "      <td>1990</td>\n",
              "      <td>11</td>\n",
              "      <td>23</td>\n",
              "      <td>금</td>\n",
              "      <td>327</td>\n",
              "    </tr>\n",
              "    <tr>\n",
              "      <th>Grace Lee</th>\n",
              "      <td>1993</td>\n",
              "      <td>2</td>\n",
              "      <td>1</td>\n",
              "      <td>월</td>\n",
              "      <td>32</td>\n",
              "    </tr>\n",
              "    <tr>\n",
              "      <th>Juile Yoon</th>\n",
              "      <td>1992</td>\n",
              "      <td>7</td>\n",
              "      <td>16</td>\n",
              "      <td>목</td>\n",
              "      <td>198</td>\n",
              "    </tr>\n",
              "    <tr>\n",
              "      <th>Chirle Song</th>\n",
              "      <td>1993</td>\n",
              "      <td>4</td>\n",
              "      <td>11</td>\n",
              "      <td>일</td>\n",
              "      <td>101</td>\n",
              "    </tr>\n",
              "    <tr>\n",
              "      <th>Bob Kim</th>\n",
              "      <td>1991</td>\n",
              "      <td>12</td>\n",
              "      <td>7</td>\n",
              "      <td>토</td>\n",
              "      <td>341</td>\n",
              "    </tr>\n",
              "    <tr>\n",
              "      <th>John Park</th>\n",
              "      <td>1992</td>\n",
              "      <td>6</td>\n",
              "      <td>16</td>\n",
              "      <td>화</td>\n",
              "      <td>168</td>\n",
              "    </tr>\n",
              "    <tr>\n",
              "      <th>Anne Lee</th>\n",
              "      <td>1993</td>\n",
              "      <td>5</td>\n",
              "      <td>5</td>\n",
              "      <td>수</td>\n",
              "      <td>125</td>\n",
              "    </tr>\n",
              "  </tbody>\n",
              "</table>\n",
              "</div>"
            ],
            "text/plain": [
              "             year  month  day weekday  dayofyear\n",
              "pname                                           \n",
              "James Kim    1990      1   23       화         23\n",
              "Rose Hwang   1992     10   11       일        285\n",
              "Sam Park     1995      7    2       일        183\n",
              "Chris Jang   1990     11   23       금        327\n",
              "Grace Lee    1993      2    1       월         32\n",
              "Juile Yoon   1992      7   16       목        198\n",
              "Chirle Song  1993      4   11       일        101\n",
              "Bob Kim      1991     12    7       토        341\n",
              "John Park    1992      6   16       화        168\n",
              "Anne Lee     1993      5    5       수        125"
            ]
          },
          "metadata": {
            "tags": []
          },
          "execution_count": 43
        }
      ]
    },
    {
      "cell_type": "code",
      "metadata": {
        "id": "FqKdMJ1AYRgo",
        "colab": {
          "base_uri": "https://localhost:8080/",
          "height": 343
        },
        "outputId": "e954676d-1cb6-4156-8bb1-8d6a363e6f29"
      },
      "source": [
        "# timedelta의 경우 \n",
        "with shelve.open('easySample') as myShelf:\n",
        "  df = myShelf['sample3']\n",
        "\n",
        "df.index = pd.RangeIndex(len(df))\n",
        "df = df[['pname', 'overtime']]\n",
        "df"
      ],
      "execution_count": null,
      "outputs": [
        {
          "output_type": "execute_result",
          "data": {
            "text/html": [
              "<div>\n",
              "<style scoped>\n",
              "    .dataframe tbody tr th:only-of-type {\n",
              "        vertical-align: middle;\n",
              "    }\n",
              "\n",
              "    .dataframe tbody tr th {\n",
              "        vertical-align: top;\n",
              "    }\n",
              "\n",
              "    .dataframe thead th {\n",
              "        text-align: right;\n",
              "    }\n",
              "</style>\n",
              "<table border=\"1\" class=\"dataframe\">\n",
              "  <thead>\n",
              "    <tr style=\"text-align: right;\">\n",
              "      <th></th>\n",
              "      <th>pname</th>\n",
              "      <th>overtime</th>\n",
              "    </tr>\n",
              "  </thead>\n",
              "  <tbody>\n",
              "    <tr>\n",
              "      <th>0</th>\n",
              "      <td>James Kim</td>\n",
              "      <td>23:10:10</td>\n",
              "    </tr>\n",
              "    <tr>\n",
              "      <th>1</th>\n",
              "      <td>Rose Hwang</td>\n",
              "      <td>10:15:17</td>\n",
              "    </tr>\n",
              "    <tr>\n",
              "      <th>2</th>\n",
              "      <td>Sam Park</td>\n",
              "      <td>16:21:10</td>\n",
              "    </tr>\n",
              "    <tr>\n",
              "      <th>3</th>\n",
              "      <td>Chris Jang</td>\n",
              "      <td>15:00:20</td>\n",
              "    </tr>\n",
              "    <tr>\n",
              "      <th>4</th>\n",
              "      <td>Grace Lee</td>\n",
              "      <td>21:19:50</td>\n",
              "    </tr>\n",
              "    <tr>\n",
              "      <th>5</th>\n",
              "      <td>Juile Yoon</td>\n",
              "      <td>14:10:40</td>\n",
              "    </tr>\n",
              "    <tr>\n",
              "      <th>6</th>\n",
              "      <td>Chirle Song</td>\n",
              "      <td>09:50:30</td>\n",
              "    </tr>\n",
              "    <tr>\n",
              "      <th>7</th>\n",
              "      <td>Bob Kim</td>\n",
              "      <td>08:40:40</td>\n",
              "    </tr>\n",
              "    <tr>\n",
              "      <th>8</th>\n",
              "      <td>John Park</td>\n",
              "      <td>17:30:20</td>\n",
              "    </tr>\n",
              "    <tr>\n",
              "      <th>9</th>\n",
              "      <td>Anne Lee</td>\n",
              "      <td>19:50:20</td>\n",
              "    </tr>\n",
              "  </tbody>\n",
              "</table>\n",
              "</div>"
            ],
            "text/plain": [
              "         pname overtime\n",
              "0    James Kim 23:10:10\n",
              "1   Rose Hwang 10:15:17\n",
              "2     Sam Park 16:21:10\n",
              "3   Chris Jang 15:00:20\n",
              "4    Grace Lee 21:19:50\n",
              "5   Juile Yoon 14:10:40\n",
              "6  Chirle Song 09:50:30\n",
              "7      Bob Kim 08:40:40\n",
              "8    John Park 17:30:20\n",
              "9     Anne Lee 19:50:20"
            ]
          },
          "metadata": {
            "tags": []
          },
          "execution_count": 44
        }
      ]
    },
    {
      "cell_type": "code",
      "metadata": {
        "id": "wuIGaKEwMQvq",
        "colab": {
          "base_uri": "https://localhost:8080/",
          "height": 175
        },
        "outputId": "dbbd699d-6058-42f4-a9ad-aab4ce583368"
      },
      "source": [
        "df.info()"
      ],
      "execution_count": null,
      "outputs": [
        {
          "output_type": "stream",
          "text": [
            "<class 'pandas.core.frame.DataFrame'>\n",
            "RangeIndex: 10 entries, 0 to 9\n",
            "Data columns (total 2 columns):\n",
            " #   Column    Non-Null Count  Dtype          \n",
            "---  ------    --------------  -----          \n",
            " 0   pname     10 non-null     object         \n",
            " 1   overtime  10 non-null     timedelta64[ns]\n",
            "dtypes: object(1), timedelta64[ns](1)\n",
            "memory usage: 288.0+ bytes\n"
          ],
          "name": "stdout"
        }
      ]
    },
    {
      "cell_type": "code",
      "metadata": {
        "id": "q4IPkMC-_H3N",
        "colab": {
          "base_uri": "https://localhost:8080/",
          "height": 34
        },
        "outputId": "b3c10abe-9e17-4a2e-9cf4-acf5eee575ee"
      },
      "source": [
        "min, sec = divmod(3750, 60)\n",
        "hour, min = divmod(min, 60)\n",
        "print(hour, min, sec)\n"
      ],
      "execution_count": null,
      "outputs": [
        {
          "output_type": "stream",
          "text": [
            "1 2 30\n"
          ],
          "name": "stdout"
        }
      ]
    },
    {
      "cell_type": "code",
      "metadata": {
        "scrolled": true,
        "id": "UuKts4DdYRgq",
        "colab": {
          "base_uri": "https://localhost:8080/",
          "height": 136
        },
        "outputId": "f09b02e0-eb56-4f4a-ba7d-d54fc1ebed98"
      },
      "source": [
        "seconds = df.overtime.dt.seconds\n",
        "# 시간, 분, 초로 나누어 저장한다\n",
        "df['minute'], df['second'] = divmod(seconds, 60)\n",
        "df['hour'], df['minute'] = divmod(df['minute'], 60)\n",
        "\n",
        "# 18시간 이상인 것에 대해 boolean indexing\n",
        "\n",
        "df[df['hour'] >= 18]"
      ],
      "execution_count": null,
      "outputs": [
        {
          "output_type": "execute_result",
          "data": {
            "text/html": [
              "<div>\n",
              "<style scoped>\n",
              "    .dataframe tbody tr th:only-of-type {\n",
              "        vertical-align: middle;\n",
              "    }\n",
              "\n",
              "    .dataframe tbody tr th {\n",
              "        vertical-align: top;\n",
              "    }\n",
              "\n",
              "    .dataframe thead th {\n",
              "        text-align: right;\n",
              "    }\n",
              "</style>\n",
              "<table border=\"1\" class=\"dataframe\">\n",
              "  <thead>\n",
              "    <tr style=\"text-align: right;\">\n",
              "      <th></th>\n",
              "      <th>pname</th>\n",
              "      <th>overtime</th>\n",
              "      <th>minute</th>\n",
              "      <th>second</th>\n",
              "      <th>hour</th>\n",
              "    </tr>\n",
              "  </thead>\n",
              "  <tbody>\n",
              "    <tr>\n",
              "      <th>0</th>\n",
              "      <td>James Kim</td>\n",
              "      <td>23:10:10</td>\n",
              "      <td>10</td>\n",
              "      <td>10</td>\n",
              "      <td>23</td>\n",
              "    </tr>\n",
              "    <tr>\n",
              "      <th>4</th>\n",
              "      <td>Grace Lee</td>\n",
              "      <td>21:19:50</td>\n",
              "      <td>19</td>\n",
              "      <td>50</td>\n",
              "      <td>21</td>\n",
              "    </tr>\n",
              "    <tr>\n",
              "      <th>9</th>\n",
              "      <td>Anne Lee</td>\n",
              "      <td>19:50:20</td>\n",
              "      <td>50</td>\n",
              "      <td>20</td>\n",
              "      <td>19</td>\n",
              "    </tr>\n",
              "  </tbody>\n",
              "</table>\n",
              "</div>"
            ],
            "text/plain": [
              "       pname overtime  minute  second  hour\n",
              "0  James Kim 23:10:10      10      10    23\n",
              "4  Grace Lee 21:19:50      19      50    21\n",
              "9   Anne Lee 19:50:20      50      20    19"
            ]
          },
          "metadata": {
            "tags": []
          },
          "execution_count": 52
        }
      ]
    },
    {
      "cell_type": "markdown",
      "metadata": {
        "id": "CKKqgUF7HLWr"
      },
      "source": [
        "#### 10-2. Multi-axis Indexing\n",
        "- 축(axis) 별로 indexer를 사용하는 indexing 방법\n",
        "- Multi-axis indexing의 종류\n",
        "   - Selection by Label : ```df.loc[label_indexer, label_indexer]```\n",
        "   - Selection by Position : ```df.iloc[integer_indexer, integer_indexer]```\n",
        "\n",
        "- indexer\n",
        "   - single label/integer\n",
        "   - list/array of label/integer\n",
        "   - slice object of label/integer\n",
        "   - boolean array"
      ]
    },
    {
      "cell_type": "markdown",
      "metadata": {
        "id": "OmK1h5HsYRgt"
      },
      "source": [
        "##### 10-2-1) Selection by Label "
      ]
    },
    {
      "cell_type": "code",
      "metadata": {
        "id": "XdC7sr3TPemd"
      },
      "source": [
        "import numpy as np\n",
        "import pandas as pd"
      ],
      "execution_count": null,
      "outputs": []
    },
    {
      "cell_type": "code",
      "metadata": {
        "id": "IVWnlQfiYRgv",
        "colab": {
          "base_uri": "https://localhost:8080/",
          "height": 136
        },
        "outputId": "59f71156-4321-4567-e373-e805796a5db0"
      },
      "source": [
        "## single label indexer - unique \n",
        "df = pd.DataFrame( np.arange(12).reshape(3,4),\n",
        "                    index=list('abc'),\n",
        "                    columns=list('ABCD'))\n",
        "\n",
        "df"
      ],
      "execution_count": null,
      "outputs": [
        {
          "output_type": "execute_result",
          "data": {
            "text/html": [
              "<div>\n",
              "<style scoped>\n",
              "    .dataframe tbody tr th:only-of-type {\n",
              "        vertical-align: middle;\n",
              "    }\n",
              "\n",
              "    .dataframe tbody tr th {\n",
              "        vertical-align: top;\n",
              "    }\n",
              "\n",
              "    .dataframe thead th {\n",
              "        text-align: right;\n",
              "    }\n",
              "</style>\n",
              "<table border=\"1\" class=\"dataframe\">\n",
              "  <thead>\n",
              "    <tr style=\"text-align: right;\">\n",
              "      <th></th>\n",
              "      <th>A</th>\n",
              "      <th>B</th>\n",
              "      <th>C</th>\n",
              "      <th>D</th>\n",
              "    </tr>\n",
              "  </thead>\n",
              "  <tbody>\n",
              "    <tr>\n",
              "      <th>a</th>\n",
              "      <td>0</td>\n",
              "      <td>1</td>\n",
              "      <td>2</td>\n",
              "      <td>3</td>\n",
              "    </tr>\n",
              "    <tr>\n",
              "      <th>b</th>\n",
              "      <td>4</td>\n",
              "      <td>5</td>\n",
              "      <td>6</td>\n",
              "      <td>7</td>\n",
              "    </tr>\n",
              "    <tr>\n",
              "      <th>c</th>\n",
              "      <td>8</td>\n",
              "      <td>9</td>\n",
              "      <td>10</td>\n",
              "      <td>11</td>\n",
              "    </tr>\n",
              "  </tbody>\n",
              "</table>\n",
              "</div>"
            ],
            "text/plain": [
              "   A  B   C   D\n",
              "a  0  1   2   3\n",
              "b  4  5   6   7\n",
              "c  8  9  10  11"
            ]
          },
          "metadata": {
            "tags": []
          },
          "execution_count": 53
        }
      ]
    },
    {
      "cell_type": "code",
      "metadata": {
        "id": "p2hIkAIPNawP",
        "colab": {
          "base_uri": "https://localhost:8080/",
          "height": 197
        },
        "outputId": "e91776c6-26a8-429e-98ae-857309e43e9e"
      },
      "source": [
        "df1 = df.loc['a', :]\n",
        "df2 = df.loc[:, 'A']\n",
        "df3 = df.loc['a', 'C']\n",
        "display(df1, df2, df3)"
      ],
      "execution_count": null,
      "outputs": [
        {
          "output_type": "display_data",
          "data": {
            "text/plain": [
              "A    0\n",
              "B    1\n",
              "C    2\n",
              "D    3\n",
              "Name: a, dtype: int64"
            ]
          },
          "metadata": {
            "tags": []
          }
        },
        {
          "output_type": "display_data",
          "data": {
            "text/plain": [
              "a    0\n",
              "b    4\n",
              "c    8\n",
              "Name: A, dtype: int64"
            ]
          },
          "metadata": {
            "tags": []
          }
        },
        {
          "output_type": "display_data",
          "data": {
            "text/plain": [
              "2"
            ]
          },
          "metadata": {
            "tags": []
          }
        }
      ]
    },
    {
      "cell_type": "code",
      "metadata": {
        "id": "fu1swzNrYRgy"
      },
      "source": [
        "### single label indexer - not unique : 해당하는 모든 것이 selection 됨\n",
        "df = pd.DataFrame( np.arange(12).reshape(3,4),\n",
        "                    index=list('aba'),\n",
        "                    columns=list('CBCD'))\n",
        "\n",
        "df1 = df.loc['a']  \n",
        "df2 = df.loc['a', 'C'] \n",
        "display(df, df1, df2)"
      ],
      "execution_count": null,
      "outputs": []
    },
    {
      "cell_type": "code",
      "metadata": {
        "id": "bA2yKRxUYRg1",
        "colab": {
          "base_uri": "https://localhost:8080/",
          "height": 136
        },
        "outputId": "a5287037-b067-4629-8aa9-c4625acc6072"
      },
      "source": [
        "## a list of array of labels     \n",
        "\n",
        "df = pd.DataFrame( np.arange(12).reshape(3,4),\n",
        "                    index=list('abc'),\n",
        "                    columns=list('ABCD'))\n",
        "\n",
        "df"
      ],
      "execution_count": null,
      "outputs": [
        {
          "output_type": "execute_result",
          "data": {
            "text/html": [
              "<div>\n",
              "<style scoped>\n",
              "    .dataframe tbody tr th:only-of-type {\n",
              "        vertical-align: middle;\n",
              "    }\n",
              "\n",
              "    .dataframe tbody tr th {\n",
              "        vertical-align: top;\n",
              "    }\n",
              "\n",
              "    .dataframe thead th {\n",
              "        text-align: right;\n",
              "    }\n",
              "</style>\n",
              "<table border=\"1\" class=\"dataframe\">\n",
              "  <thead>\n",
              "    <tr style=\"text-align: right;\">\n",
              "      <th></th>\n",
              "      <th>A</th>\n",
              "      <th>B</th>\n",
              "      <th>C</th>\n",
              "      <th>D</th>\n",
              "    </tr>\n",
              "  </thead>\n",
              "  <tbody>\n",
              "    <tr>\n",
              "      <th>a</th>\n",
              "      <td>0</td>\n",
              "      <td>1</td>\n",
              "      <td>2</td>\n",
              "      <td>3</td>\n",
              "    </tr>\n",
              "    <tr>\n",
              "      <th>b</th>\n",
              "      <td>4</td>\n",
              "      <td>5</td>\n",
              "      <td>6</td>\n",
              "      <td>7</td>\n",
              "    </tr>\n",
              "    <tr>\n",
              "      <th>c</th>\n",
              "      <td>8</td>\n",
              "      <td>9</td>\n",
              "      <td>10</td>\n",
              "      <td>11</td>\n",
              "    </tr>\n",
              "  </tbody>\n",
              "</table>\n",
              "</div>"
            ],
            "text/plain": [
              "   A  B   C   D\n",
              "a  0  1   2   3\n",
              "b  4  5   6   7\n",
              "c  8  9  10  11"
            ]
          },
          "metadata": {
            "tags": []
          },
          "execution_count": 55
        }
      ]
    },
    {
      "cell_type": "code",
      "metadata": {
        "id": "6420xWyvN8e-",
        "colab": {
          "base_uri": "https://localhost:8080/",
          "height": 315
        },
        "outputId": "2fa4845d-5b86-47c3-a18f-a142fd01cbfc"
      },
      "source": [
        "df1 = df.loc[['a', 'b']]\n",
        "df2 = df.loc[:, ['A', 'D']]\n",
        "df3 = df.loc[['a', 'c'], ['A', 'B', 'D']]\n",
        "display(df1, df2, df3)"
      ],
      "execution_count": null,
      "outputs": [
        {
          "output_type": "display_data",
          "data": {
            "text/html": [
              "<div>\n",
              "<style scoped>\n",
              "    .dataframe tbody tr th:only-of-type {\n",
              "        vertical-align: middle;\n",
              "    }\n",
              "\n",
              "    .dataframe tbody tr th {\n",
              "        vertical-align: top;\n",
              "    }\n",
              "\n",
              "    .dataframe thead th {\n",
              "        text-align: right;\n",
              "    }\n",
              "</style>\n",
              "<table border=\"1\" class=\"dataframe\">\n",
              "  <thead>\n",
              "    <tr style=\"text-align: right;\">\n",
              "      <th></th>\n",
              "      <th>A</th>\n",
              "      <th>B</th>\n",
              "      <th>C</th>\n",
              "      <th>D</th>\n",
              "    </tr>\n",
              "  </thead>\n",
              "  <tbody>\n",
              "    <tr>\n",
              "      <th>a</th>\n",
              "      <td>0</td>\n",
              "      <td>1</td>\n",
              "      <td>2</td>\n",
              "      <td>3</td>\n",
              "    </tr>\n",
              "    <tr>\n",
              "      <th>b</th>\n",
              "      <td>4</td>\n",
              "      <td>5</td>\n",
              "      <td>6</td>\n",
              "      <td>7</td>\n",
              "    </tr>\n",
              "  </tbody>\n",
              "</table>\n",
              "</div>"
            ],
            "text/plain": [
              "   A  B  C  D\n",
              "a  0  1  2  3\n",
              "b  4  5  6  7"
            ]
          },
          "metadata": {
            "tags": []
          }
        },
        {
          "output_type": "display_data",
          "data": {
            "text/html": [
              "<div>\n",
              "<style scoped>\n",
              "    .dataframe tbody tr th:only-of-type {\n",
              "        vertical-align: middle;\n",
              "    }\n",
              "\n",
              "    .dataframe tbody tr th {\n",
              "        vertical-align: top;\n",
              "    }\n",
              "\n",
              "    .dataframe thead th {\n",
              "        text-align: right;\n",
              "    }\n",
              "</style>\n",
              "<table border=\"1\" class=\"dataframe\">\n",
              "  <thead>\n",
              "    <tr style=\"text-align: right;\">\n",
              "      <th></th>\n",
              "      <th>A</th>\n",
              "      <th>D</th>\n",
              "    </tr>\n",
              "  </thead>\n",
              "  <tbody>\n",
              "    <tr>\n",
              "      <th>a</th>\n",
              "      <td>0</td>\n",
              "      <td>3</td>\n",
              "    </tr>\n",
              "    <tr>\n",
              "      <th>b</th>\n",
              "      <td>4</td>\n",
              "      <td>7</td>\n",
              "    </tr>\n",
              "    <tr>\n",
              "      <th>c</th>\n",
              "      <td>8</td>\n",
              "      <td>11</td>\n",
              "    </tr>\n",
              "  </tbody>\n",
              "</table>\n",
              "</div>"
            ],
            "text/plain": [
              "   A   D\n",
              "a  0   3\n",
              "b  4   7\n",
              "c  8  11"
            ]
          },
          "metadata": {
            "tags": []
          }
        },
        {
          "output_type": "display_data",
          "data": {
            "text/html": [
              "<div>\n",
              "<style scoped>\n",
              "    .dataframe tbody tr th:only-of-type {\n",
              "        vertical-align: middle;\n",
              "    }\n",
              "\n",
              "    .dataframe tbody tr th {\n",
              "        vertical-align: top;\n",
              "    }\n",
              "\n",
              "    .dataframe thead th {\n",
              "        text-align: right;\n",
              "    }\n",
              "</style>\n",
              "<table border=\"1\" class=\"dataframe\">\n",
              "  <thead>\n",
              "    <tr style=\"text-align: right;\">\n",
              "      <th></th>\n",
              "      <th>A</th>\n",
              "      <th>B</th>\n",
              "      <th>D</th>\n",
              "    </tr>\n",
              "  </thead>\n",
              "  <tbody>\n",
              "    <tr>\n",
              "      <th>a</th>\n",
              "      <td>0</td>\n",
              "      <td>1</td>\n",
              "      <td>3</td>\n",
              "    </tr>\n",
              "    <tr>\n",
              "      <th>c</th>\n",
              "      <td>8</td>\n",
              "      <td>9</td>\n",
              "      <td>11</td>\n",
              "    </tr>\n",
              "  </tbody>\n",
              "</table>\n",
              "</div>"
            ],
            "text/plain": [
              "   A  B   D\n",
              "a  0  1   3\n",
              "c  8  9  11"
            ]
          },
          "metadata": {
            "tags": []
          }
        }
      ]
    },
    {
      "cell_type": "code",
      "metadata": {
        "id": "YtYdvW8-YRg3",
        "colab": {
          "base_uri": "https://localhost:8080/",
          "height": 141
        },
        "outputId": "17b1ca12-09ad-4cea-8037-ad51fecc59e3"
      },
      "source": [
        "## a slice object with labels\n",
        "### sorted by index    \n",
        "import pandas as pd\n",
        "import numpy as np\n",
        "df = pd.DataFrame( np.arange(12).reshape(3,4),\n",
        "                    index=list('bab'),\n",
        "                    columns=list('ABCD'))\n",
        "df.sort_index(axis='index', inplace=True)\n",
        "df"
      ],
      "execution_count": null,
      "outputs": [
        {
          "output_type": "execute_result",
          "data": {
            "text/html": [
              "<div>\n",
              "<style scoped>\n",
              "    .dataframe tbody tr th:only-of-type {\n",
              "        vertical-align: middle;\n",
              "    }\n",
              "\n",
              "    .dataframe tbody tr th {\n",
              "        vertical-align: top;\n",
              "    }\n",
              "\n",
              "    .dataframe thead th {\n",
              "        text-align: right;\n",
              "    }\n",
              "</style>\n",
              "<table border=\"1\" class=\"dataframe\">\n",
              "  <thead>\n",
              "    <tr style=\"text-align: right;\">\n",
              "      <th></th>\n",
              "      <th>A</th>\n",
              "      <th>B</th>\n",
              "      <th>C</th>\n",
              "      <th>D</th>\n",
              "    </tr>\n",
              "  </thead>\n",
              "  <tbody>\n",
              "    <tr>\n",
              "      <th>a</th>\n",
              "      <td>4</td>\n",
              "      <td>5</td>\n",
              "      <td>6</td>\n",
              "      <td>7</td>\n",
              "    </tr>\n",
              "    <tr>\n",
              "      <th>b</th>\n",
              "      <td>0</td>\n",
              "      <td>1</td>\n",
              "      <td>2</td>\n",
              "      <td>3</td>\n",
              "    </tr>\n",
              "    <tr>\n",
              "      <th>b</th>\n",
              "      <td>8</td>\n",
              "      <td>9</td>\n",
              "      <td>10</td>\n",
              "      <td>11</td>\n",
              "    </tr>\n",
              "  </tbody>\n",
              "</table>\n",
              "</div>"
            ],
            "text/plain": [
              "   A  B   C   D\n",
              "a  4  5   6   7\n",
              "b  0  1   2   3\n",
              "b  8  9  10  11"
            ]
          },
          "metadata": {
            "tags": []
          },
          "execution_count": 5
        }
      ]
    },
    {
      "cell_type": "code",
      "metadata": {
        "id": "mW5fbD5jOOz2",
        "colab": {
          "base_uri": "https://localhost:8080/",
          "height": 326
        },
        "outputId": "867cb347-92b6-4945-ca7a-8d4ff73d4a89"
      },
      "source": [
        "df1 = df.loc[:'a']\n",
        "df2 = df.loc[:'b', 'A':'C']\n",
        "df3 = df.loc[:, 'B':'D']\n",
        "display(df1, df2, df3)"
      ],
      "execution_count": null,
      "outputs": [
        {
          "output_type": "display_data",
          "data": {
            "text/html": [
              "<div>\n",
              "<style scoped>\n",
              "    .dataframe tbody tr th:only-of-type {\n",
              "        vertical-align: middle;\n",
              "    }\n",
              "\n",
              "    .dataframe tbody tr th {\n",
              "        vertical-align: top;\n",
              "    }\n",
              "\n",
              "    .dataframe thead th {\n",
              "        text-align: right;\n",
              "    }\n",
              "</style>\n",
              "<table border=\"1\" class=\"dataframe\">\n",
              "  <thead>\n",
              "    <tr style=\"text-align: right;\">\n",
              "      <th></th>\n",
              "      <th>A</th>\n",
              "      <th>B</th>\n",
              "      <th>C</th>\n",
              "      <th>D</th>\n",
              "    </tr>\n",
              "  </thead>\n",
              "  <tbody>\n",
              "    <tr>\n",
              "      <th>a</th>\n",
              "      <td>4</td>\n",
              "      <td>5</td>\n",
              "      <td>6</td>\n",
              "      <td>7</td>\n",
              "    </tr>\n",
              "  </tbody>\n",
              "</table>\n",
              "</div>"
            ],
            "text/plain": [
              "   A  B  C  D\n",
              "a  4  5  6  7"
            ]
          },
          "metadata": {
            "tags": []
          }
        },
        {
          "output_type": "display_data",
          "data": {
            "text/html": [
              "<div>\n",
              "<style scoped>\n",
              "    .dataframe tbody tr th:only-of-type {\n",
              "        vertical-align: middle;\n",
              "    }\n",
              "\n",
              "    .dataframe tbody tr th {\n",
              "        vertical-align: top;\n",
              "    }\n",
              "\n",
              "    .dataframe thead th {\n",
              "        text-align: right;\n",
              "    }\n",
              "</style>\n",
              "<table border=\"1\" class=\"dataframe\">\n",
              "  <thead>\n",
              "    <tr style=\"text-align: right;\">\n",
              "      <th></th>\n",
              "      <th>A</th>\n",
              "      <th>B</th>\n",
              "      <th>C</th>\n",
              "    </tr>\n",
              "  </thead>\n",
              "  <tbody>\n",
              "    <tr>\n",
              "      <th>a</th>\n",
              "      <td>4</td>\n",
              "      <td>5</td>\n",
              "      <td>6</td>\n",
              "    </tr>\n",
              "    <tr>\n",
              "      <th>b</th>\n",
              "      <td>0</td>\n",
              "      <td>1</td>\n",
              "      <td>2</td>\n",
              "    </tr>\n",
              "    <tr>\n",
              "      <th>b</th>\n",
              "      <td>8</td>\n",
              "      <td>9</td>\n",
              "      <td>10</td>\n",
              "    </tr>\n",
              "  </tbody>\n",
              "</table>\n",
              "</div>"
            ],
            "text/plain": [
              "   A  B   C\n",
              "a  4  5   6\n",
              "b  0  1   2\n",
              "b  8  9  10"
            ]
          },
          "metadata": {
            "tags": []
          }
        },
        {
          "output_type": "display_data",
          "data": {
            "text/html": [
              "<div>\n",
              "<style scoped>\n",
              "    .dataframe tbody tr th:only-of-type {\n",
              "        vertical-align: middle;\n",
              "    }\n",
              "\n",
              "    .dataframe tbody tr th {\n",
              "        vertical-align: top;\n",
              "    }\n",
              "\n",
              "    .dataframe thead th {\n",
              "        text-align: right;\n",
              "    }\n",
              "</style>\n",
              "<table border=\"1\" class=\"dataframe\">\n",
              "  <thead>\n",
              "    <tr style=\"text-align: right;\">\n",
              "      <th></th>\n",
              "      <th>B</th>\n",
              "      <th>C</th>\n",
              "      <th>D</th>\n",
              "    </tr>\n",
              "  </thead>\n",
              "  <tbody>\n",
              "    <tr>\n",
              "      <th>a</th>\n",
              "      <td>5</td>\n",
              "      <td>6</td>\n",
              "      <td>7</td>\n",
              "    </tr>\n",
              "    <tr>\n",
              "      <th>b</th>\n",
              "      <td>1</td>\n",
              "      <td>2</td>\n",
              "      <td>3</td>\n",
              "    </tr>\n",
              "    <tr>\n",
              "      <th>b</th>\n",
              "      <td>9</td>\n",
              "      <td>10</td>\n",
              "      <td>11</td>\n",
              "    </tr>\n",
              "  </tbody>\n",
              "</table>\n",
              "</div>"
            ],
            "text/plain": [
              "   B   C   D\n",
              "a  5   6   7\n",
              "b  1   2   3\n",
              "b  9  10  11"
            ]
          },
          "metadata": {
            "tags": []
          }
        }
      ]
    },
    {
      "cell_type": "markdown",
      "metadata": {
        "id": "2Y5Ft6tzYRg8"
      },
      "source": [
        "##### 10-2-2) category, datetime, timedelta 데이터타입에 대한 indexing\n"
      ]
    },
    {
      "cell_type": "code",
      "metadata": {
        "id": "SbpTGt4ZYRhC",
        "colab": {
          "base_uri": "https://localhost:8080/",
          "height": 136
        },
        "outputId": "1fde0cff-a39b-48da-b3e9-a7f514858da6"
      },
      "source": [
        "##category - 존재하는 것만 사용해야 함 아니면 KeyError\n",
        " \n",
        "df = pd.DataFrame( np.arange(12).reshape(3,4),\n",
        "                    index = pd.Categorical(list('abc')),\n",
        "                    columns= list('BCCD') )\n",
        "df"
      ],
      "execution_count": null,
      "outputs": [
        {
          "output_type": "execute_result",
          "data": {
            "text/html": [
              "<div>\n",
              "<style scoped>\n",
              "    .dataframe tbody tr th:only-of-type {\n",
              "        vertical-align: middle;\n",
              "    }\n",
              "\n",
              "    .dataframe tbody tr th {\n",
              "        vertical-align: top;\n",
              "    }\n",
              "\n",
              "    .dataframe thead th {\n",
              "        text-align: right;\n",
              "    }\n",
              "</style>\n",
              "<table border=\"1\" class=\"dataframe\">\n",
              "  <thead>\n",
              "    <tr style=\"text-align: right;\">\n",
              "      <th></th>\n",
              "      <th>B</th>\n",
              "      <th>C</th>\n",
              "      <th>C</th>\n",
              "      <th>D</th>\n",
              "    </tr>\n",
              "  </thead>\n",
              "  <tbody>\n",
              "    <tr>\n",
              "      <th>a</th>\n",
              "      <td>0</td>\n",
              "      <td>1</td>\n",
              "      <td>2</td>\n",
              "      <td>3</td>\n",
              "    </tr>\n",
              "    <tr>\n",
              "      <th>b</th>\n",
              "      <td>4</td>\n",
              "      <td>5</td>\n",
              "      <td>6</td>\n",
              "      <td>7</td>\n",
              "    </tr>\n",
              "    <tr>\n",
              "      <th>c</th>\n",
              "      <td>8</td>\n",
              "      <td>9</td>\n",
              "      <td>10</td>\n",
              "      <td>11</td>\n",
              "    </tr>\n",
              "  </tbody>\n",
              "</table>\n",
              "</div>"
            ],
            "text/plain": [
              "   B  C   C   D\n",
              "a  0  1   2   3\n",
              "b  4  5   6   7\n",
              "c  8  9  10  11"
            ]
          },
          "metadata": {
            "tags": []
          },
          "execution_count": 89
        }
      ]
    },
    {
      "cell_type": "code",
      "metadata": {
        "id": "i2sVTLgfO29k",
        "colab": {
          "base_uri": "https://localhost:8080/",
          "height": 77
        },
        "outputId": "f7c4d565-3e7b-4c7c-d248-11da25153d3b"
      },
      "source": [
        "df1 = df.loc[['b'], ['C','D']]\n",
        "df1"
      ],
      "execution_count": null,
      "outputs": [
        {
          "output_type": "execute_result",
          "data": {
            "text/html": [
              "<div>\n",
              "<style scoped>\n",
              "    .dataframe tbody tr th:only-of-type {\n",
              "        vertical-align: middle;\n",
              "    }\n",
              "\n",
              "    .dataframe tbody tr th {\n",
              "        vertical-align: top;\n",
              "    }\n",
              "\n",
              "    .dataframe thead th {\n",
              "        text-align: right;\n",
              "    }\n",
              "</style>\n",
              "<table border=\"1\" class=\"dataframe\">\n",
              "  <thead>\n",
              "    <tr style=\"text-align: right;\">\n",
              "      <th></th>\n",
              "      <th>C</th>\n",
              "      <th>C</th>\n",
              "      <th>D</th>\n",
              "    </tr>\n",
              "  </thead>\n",
              "  <tbody>\n",
              "    <tr>\n",
              "      <th>b</th>\n",
              "      <td>4</td>\n",
              "      <td>6</td>\n",
              "      <td>7</td>\n",
              "    </tr>\n",
              "  </tbody>\n",
              "</table>\n",
              "</div>"
            ],
            "text/plain": [
              "   C  C  D\n",
              "b  4  6  7"
            ]
          },
          "metadata": {
            "tags": []
          },
          "execution_count": 82
        }
      ]
    },
    {
      "cell_type": "code",
      "metadata": {
        "id": "y1XU58LMDQgV"
      },
      "source": [
        "df2 = df.loc['b':'d']"
      ],
      "execution_count": null,
      "outputs": []
    },
    {
      "cell_type": "code",
      "metadata": {
        "id": "NZmcK9ylD6k0"
      },
      "source": [
        "df3 = df.loc[:, 'C':'E']"
      ],
      "execution_count": null,
      "outputs": []
    },
    {
      "cell_type": "code",
      "metadata": {
        "id": "hoGLqYRVYRhE",
        "colab": {
          "base_uri": "https://localhost:8080/",
          "height": 195
        },
        "outputId": "64079bb9-93c1-4d47-ddcc-def9f9416785"
      },
      "source": [
        "##datetime - 구분기호 없이 문자열로 취급\n",
        "\n",
        "df = pd.DataFrame(np.arange(15).reshape(5,3),\n",
        "                  index = pd.to_datetime([4,3,1,2,5], unit='D',\n",
        "                                          origin=pd.Timestamp('2020-01-03')),\n",
        "                  columns = list('ABC'))\n",
        "df = df.sort_index(axis=0)\n",
        "df"
      ],
      "execution_count": null,
      "outputs": [
        {
          "output_type": "execute_result",
          "data": {
            "text/html": [
              "<div>\n",
              "<style scoped>\n",
              "    .dataframe tbody tr th:only-of-type {\n",
              "        vertical-align: middle;\n",
              "    }\n",
              "\n",
              "    .dataframe tbody tr th {\n",
              "        vertical-align: top;\n",
              "    }\n",
              "\n",
              "    .dataframe thead th {\n",
              "        text-align: right;\n",
              "    }\n",
              "</style>\n",
              "<table border=\"1\" class=\"dataframe\">\n",
              "  <thead>\n",
              "    <tr style=\"text-align: right;\">\n",
              "      <th></th>\n",
              "      <th>A</th>\n",
              "      <th>B</th>\n",
              "      <th>C</th>\n",
              "    </tr>\n",
              "  </thead>\n",
              "  <tbody>\n",
              "    <tr>\n",
              "      <th>2020-01-04</th>\n",
              "      <td>6</td>\n",
              "      <td>7</td>\n",
              "      <td>8</td>\n",
              "    </tr>\n",
              "    <tr>\n",
              "      <th>2020-01-05</th>\n",
              "      <td>9</td>\n",
              "      <td>10</td>\n",
              "      <td>11</td>\n",
              "    </tr>\n",
              "    <tr>\n",
              "      <th>2020-01-06</th>\n",
              "      <td>3</td>\n",
              "      <td>4</td>\n",
              "      <td>5</td>\n",
              "    </tr>\n",
              "    <tr>\n",
              "      <th>2020-01-07</th>\n",
              "      <td>0</td>\n",
              "      <td>1</td>\n",
              "      <td>2</td>\n",
              "    </tr>\n",
              "    <tr>\n",
              "      <th>2020-01-08</th>\n",
              "      <td>12</td>\n",
              "      <td>13</td>\n",
              "      <td>14</td>\n",
              "    </tr>\n",
              "  </tbody>\n",
              "</table>\n",
              "</div>"
            ],
            "text/plain": [
              "             A   B   C\n",
              "2020-01-04   6   7   8\n",
              "2020-01-05   9  10  11\n",
              "2020-01-06   3   4   5\n",
              "2020-01-07   0   1   2\n",
              "2020-01-08  12  13  14"
            ]
          },
          "metadata": {
            "tags": []
          },
          "execution_count": 91
        }
      ]
    },
    {
      "cell_type": "code",
      "metadata": {
        "id": "yKcfnkTKPLL9",
        "colab": {
          "base_uri": "https://localhost:8080/",
          "height": 285
        },
        "outputId": "65195c37-6eb0-41e5-9d8c-e37745403614"
      },
      "source": [
        "df1 = df.loc['20200104':'20200106', ['B', 'C']]\n",
        "df2 = df.loc['20200105':'20200110']\n",
        "display(df1, df2)\n"
      ],
      "execution_count": null,
      "outputs": [
        {
          "output_type": "display_data",
          "data": {
            "text/html": [
              "<div>\n",
              "<style scoped>\n",
              "    .dataframe tbody tr th:only-of-type {\n",
              "        vertical-align: middle;\n",
              "    }\n",
              "\n",
              "    .dataframe tbody tr th {\n",
              "        vertical-align: top;\n",
              "    }\n",
              "\n",
              "    .dataframe thead th {\n",
              "        text-align: right;\n",
              "    }\n",
              "</style>\n",
              "<table border=\"1\" class=\"dataframe\">\n",
              "  <thead>\n",
              "    <tr style=\"text-align: right;\">\n",
              "      <th></th>\n",
              "      <th>B</th>\n",
              "      <th>C</th>\n",
              "    </tr>\n",
              "  </thead>\n",
              "  <tbody>\n",
              "    <tr>\n",
              "      <th>2020-01-04</th>\n",
              "      <td>7</td>\n",
              "      <td>8</td>\n",
              "    </tr>\n",
              "    <tr>\n",
              "      <th>2020-01-05</th>\n",
              "      <td>10</td>\n",
              "      <td>11</td>\n",
              "    </tr>\n",
              "    <tr>\n",
              "      <th>2020-01-06</th>\n",
              "      <td>4</td>\n",
              "      <td>5</td>\n",
              "    </tr>\n",
              "  </tbody>\n",
              "</table>\n",
              "</div>"
            ],
            "text/plain": [
              "             B   C\n",
              "2020-01-04   7   8\n",
              "2020-01-05  10  11\n",
              "2020-01-06   4   5"
            ]
          },
          "metadata": {
            "tags": []
          }
        },
        {
          "output_type": "display_data",
          "data": {
            "text/html": [
              "<div>\n",
              "<style scoped>\n",
              "    .dataframe tbody tr th:only-of-type {\n",
              "        vertical-align: middle;\n",
              "    }\n",
              "\n",
              "    .dataframe tbody tr th {\n",
              "        vertical-align: top;\n",
              "    }\n",
              "\n",
              "    .dataframe thead th {\n",
              "        text-align: right;\n",
              "    }\n",
              "</style>\n",
              "<table border=\"1\" class=\"dataframe\">\n",
              "  <thead>\n",
              "    <tr style=\"text-align: right;\">\n",
              "      <th></th>\n",
              "      <th>A</th>\n",
              "      <th>B</th>\n",
              "      <th>C</th>\n",
              "    </tr>\n",
              "  </thead>\n",
              "  <tbody>\n",
              "    <tr>\n",
              "      <th>2020-01-05</th>\n",
              "      <td>9</td>\n",
              "      <td>10</td>\n",
              "      <td>11</td>\n",
              "    </tr>\n",
              "    <tr>\n",
              "      <th>2020-01-06</th>\n",
              "      <td>3</td>\n",
              "      <td>4</td>\n",
              "      <td>5</td>\n",
              "    </tr>\n",
              "    <tr>\n",
              "      <th>2020-01-07</th>\n",
              "      <td>0</td>\n",
              "      <td>1</td>\n",
              "      <td>2</td>\n",
              "    </tr>\n",
              "    <tr>\n",
              "      <th>2020-01-08</th>\n",
              "      <td>12</td>\n",
              "      <td>13</td>\n",
              "      <td>14</td>\n",
              "    </tr>\n",
              "  </tbody>\n",
              "</table>\n",
              "</div>"
            ],
            "text/plain": [
              "             A   B   C\n",
              "2020-01-05   9  10  11\n",
              "2020-01-06   3   4   5\n",
              "2020-01-07   0   1   2\n",
              "2020-01-08  12  13  14"
            ]
          },
          "metadata": {
            "tags": []
          }
        }
      ]
    },
    {
      "cell_type": "code",
      "metadata": {
        "id": "1uiItJyNYRhJ",
        "colab": {
          "base_uri": "https://localhost:8080/",
          "height": 493
        },
        "outputId": "cb0f4936-ecd9-4513-b4bf-bed45dc7b7ce"
      },
      "source": [
        "##timedelta - ':'로 구분하여 문자열로 표기\n",
        "np.random.seed(100) \n",
        "time = np.arange(1,7)*1000\n",
        "df = pd.DataFrame(np.arange(18).reshape(6, 3),\n",
        "                  index = pd.to_timedelta(time, unit='s'),\n",
        "                  columns = list('ABC'))\n",
        "df1 = df.loc['01:00:00':'02:00:00']\n",
        "df2 = df.loc['00:30:00':'01:23:20']\n",
        "display(df, df1, df2)"
      ],
      "execution_count": null,
      "outputs": [
        {
          "output_type": "display_data",
          "data": {
            "text/html": [
              "<div>\n",
              "<style scoped>\n",
              "    .dataframe tbody tr th:only-of-type {\n",
              "        vertical-align: middle;\n",
              "    }\n",
              "\n",
              "    .dataframe tbody tr th {\n",
              "        vertical-align: top;\n",
              "    }\n",
              "\n",
              "    .dataframe thead th {\n",
              "        text-align: right;\n",
              "    }\n",
              "</style>\n",
              "<table border=\"1\" class=\"dataframe\">\n",
              "  <thead>\n",
              "    <tr style=\"text-align: right;\">\n",
              "      <th></th>\n",
              "      <th>A</th>\n",
              "      <th>B</th>\n",
              "      <th>C</th>\n",
              "    </tr>\n",
              "  </thead>\n",
              "  <tbody>\n",
              "    <tr>\n",
              "      <th>00:16:40</th>\n",
              "      <td>0</td>\n",
              "      <td>1</td>\n",
              "      <td>2</td>\n",
              "    </tr>\n",
              "    <tr>\n",
              "      <th>00:33:20</th>\n",
              "      <td>3</td>\n",
              "      <td>4</td>\n",
              "      <td>5</td>\n",
              "    </tr>\n",
              "    <tr>\n",
              "      <th>00:50:00</th>\n",
              "      <td>6</td>\n",
              "      <td>7</td>\n",
              "      <td>8</td>\n",
              "    </tr>\n",
              "    <tr>\n",
              "      <th>01:06:40</th>\n",
              "      <td>9</td>\n",
              "      <td>10</td>\n",
              "      <td>11</td>\n",
              "    </tr>\n",
              "    <tr>\n",
              "      <th>01:23:20</th>\n",
              "      <td>12</td>\n",
              "      <td>13</td>\n",
              "      <td>14</td>\n",
              "    </tr>\n",
              "    <tr>\n",
              "      <th>01:40:00</th>\n",
              "      <td>15</td>\n",
              "      <td>16</td>\n",
              "      <td>17</td>\n",
              "    </tr>\n",
              "  </tbody>\n",
              "</table>\n",
              "</div>"
            ],
            "text/plain": [
              "           A   B   C\n",
              "00:16:40   0   1   2\n",
              "00:33:20   3   4   5\n",
              "00:50:00   6   7   8\n",
              "01:06:40   9  10  11\n",
              "01:23:20  12  13  14\n",
              "01:40:00  15  16  17"
            ]
          },
          "metadata": {
            "tags": []
          }
        },
        {
          "output_type": "display_data",
          "data": {
            "text/html": [
              "<div>\n",
              "<style scoped>\n",
              "    .dataframe tbody tr th:only-of-type {\n",
              "        vertical-align: middle;\n",
              "    }\n",
              "\n",
              "    .dataframe tbody tr th {\n",
              "        vertical-align: top;\n",
              "    }\n",
              "\n",
              "    .dataframe thead th {\n",
              "        text-align: right;\n",
              "    }\n",
              "</style>\n",
              "<table border=\"1\" class=\"dataframe\">\n",
              "  <thead>\n",
              "    <tr style=\"text-align: right;\">\n",
              "      <th></th>\n",
              "      <th>A</th>\n",
              "      <th>B</th>\n",
              "      <th>C</th>\n",
              "    </tr>\n",
              "  </thead>\n",
              "  <tbody>\n",
              "    <tr>\n",
              "      <th>01:06:40</th>\n",
              "      <td>9</td>\n",
              "      <td>10</td>\n",
              "      <td>11</td>\n",
              "    </tr>\n",
              "    <tr>\n",
              "      <th>01:23:20</th>\n",
              "      <td>12</td>\n",
              "      <td>13</td>\n",
              "      <td>14</td>\n",
              "    </tr>\n",
              "    <tr>\n",
              "      <th>01:40:00</th>\n",
              "      <td>15</td>\n",
              "      <td>16</td>\n",
              "      <td>17</td>\n",
              "    </tr>\n",
              "  </tbody>\n",
              "</table>\n",
              "</div>"
            ],
            "text/plain": [
              "           A   B   C\n",
              "01:06:40   9  10  11\n",
              "01:23:20  12  13  14\n",
              "01:40:00  15  16  17"
            ]
          },
          "metadata": {
            "tags": []
          }
        },
        {
          "output_type": "display_data",
          "data": {
            "text/html": [
              "<div>\n",
              "<style scoped>\n",
              "    .dataframe tbody tr th:only-of-type {\n",
              "        vertical-align: middle;\n",
              "    }\n",
              "\n",
              "    .dataframe tbody tr th {\n",
              "        vertical-align: top;\n",
              "    }\n",
              "\n",
              "    .dataframe thead th {\n",
              "        text-align: right;\n",
              "    }\n",
              "</style>\n",
              "<table border=\"1\" class=\"dataframe\">\n",
              "  <thead>\n",
              "    <tr style=\"text-align: right;\">\n",
              "      <th></th>\n",
              "      <th>A</th>\n",
              "      <th>B</th>\n",
              "      <th>C</th>\n",
              "    </tr>\n",
              "  </thead>\n",
              "  <tbody>\n",
              "    <tr>\n",
              "      <th>00:33:20</th>\n",
              "      <td>3</td>\n",
              "      <td>4</td>\n",
              "      <td>5</td>\n",
              "    </tr>\n",
              "    <tr>\n",
              "      <th>00:50:00</th>\n",
              "      <td>6</td>\n",
              "      <td>7</td>\n",
              "      <td>8</td>\n",
              "    </tr>\n",
              "    <tr>\n",
              "      <th>01:06:40</th>\n",
              "      <td>9</td>\n",
              "      <td>10</td>\n",
              "      <td>11</td>\n",
              "    </tr>\n",
              "    <tr>\n",
              "      <th>01:23:20</th>\n",
              "      <td>12</td>\n",
              "      <td>13</td>\n",
              "      <td>14</td>\n",
              "    </tr>\n",
              "  </tbody>\n",
              "</table>\n",
              "</div>"
            ],
            "text/plain": [
              "           A   B   C\n",
              "00:33:20   3   4   5\n",
              "00:50:00   6   7   8\n",
              "01:06:40   9  10  11\n",
              "01:23:20  12  13  14"
            ]
          },
          "metadata": {
            "tags": []
          }
        }
      ]
    },
    {
      "cell_type": "markdown",
      "metadata": {
        "id": "kT8ld2VnYRhO"
      },
      "source": [
        "##### 10-2-3) Selection by Position"
      ]
    },
    {
      "cell_type": "code",
      "metadata": {
        "id": "KEzxueaHYRhO",
        "colab": {
          "base_uri": "https://localhost:8080/",
          "height": 136
        },
        "outputId": "5b708a5d-d267-484f-97cf-d62773fafdb4"
      },
      "source": [
        "## single integer\n",
        " \n",
        "df = pd.DataFrame( np.arange(12).reshape(3,4),\n",
        "                    index=list('abc'),\n",
        "                    columns=list('ABCD'))\n",
        "df"
      ],
      "execution_count": null,
      "outputs": [
        {
          "output_type": "execute_result",
          "data": {
            "text/html": [
              "<div>\n",
              "<style scoped>\n",
              "    .dataframe tbody tr th:only-of-type {\n",
              "        vertical-align: middle;\n",
              "    }\n",
              "\n",
              "    .dataframe tbody tr th {\n",
              "        vertical-align: top;\n",
              "    }\n",
              "\n",
              "    .dataframe thead th {\n",
              "        text-align: right;\n",
              "    }\n",
              "</style>\n",
              "<table border=\"1\" class=\"dataframe\">\n",
              "  <thead>\n",
              "    <tr style=\"text-align: right;\">\n",
              "      <th></th>\n",
              "      <th>A</th>\n",
              "      <th>B</th>\n",
              "      <th>C</th>\n",
              "      <th>D</th>\n",
              "    </tr>\n",
              "  </thead>\n",
              "  <tbody>\n",
              "    <tr>\n",
              "      <th>a</th>\n",
              "      <td>0</td>\n",
              "      <td>1</td>\n",
              "      <td>2</td>\n",
              "      <td>3</td>\n",
              "    </tr>\n",
              "    <tr>\n",
              "      <th>b</th>\n",
              "      <td>4</td>\n",
              "      <td>5</td>\n",
              "      <td>6</td>\n",
              "      <td>7</td>\n",
              "    </tr>\n",
              "    <tr>\n",
              "      <th>c</th>\n",
              "      <td>8</td>\n",
              "      <td>9</td>\n",
              "      <td>10</td>\n",
              "      <td>11</td>\n",
              "    </tr>\n",
              "  </tbody>\n",
              "</table>\n",
              "</div>"
            ],
            "text/plain": [
              "   A  B   C   D\n",
              "a  0  1   2   3\n",
              "b  4  5   6   7\n",
              "c  8  9  10  11"
            ]
          },
          "metadata": {
            "tags": []
          },
          "execution_count": 104
        }
      ]
    },
    {
      "cell_type": "code",
      "metadata": {
        "id": "73AaGf-nW5-I",
        "colab": {
          "base_uri": "https://localhost:8080/",
          "height": 105
        },
        "outputId": "d6959e95-8b92-4d98-e6cd-c4e8e202d989"
      },
      "source": [
        "s1 = df.iloc[2]\n",
        "s1"
      ],
      "execution_count": null,
      "outputs": [
        {
          "output_type": "execute_result",
          "data": {
            "text/plain": [
              "A     8\n",
              "B     9\n",
              "C    10\n",
              "D    11\n",
              "Name: c, dtype: int64"
            ]
          },
          "metadata": {
            "tags": []
          },
          "execution_count": 105
        }
      ]
    },
    {
      "cell_type": "code",
      "metadata": {
        "id": "3Vw-dOWMW3Wg",
        "colab": {
          "base_uri": "https://localhost:8080/",
          "height": 87
        },
        "outputId": "908b73e5-0040-4606-ac53-16252ceed6f8"
      },
      "source": [
        "s2 = df.iloc[:, 1]\n",
        "s2"
      ],
      "execution_count": null,
      "outputs": [
        {
          "output_type": "execute_result",
          "data": {
            "text/plain": [
              "a    1\n",
              "b    5\n",
              "c    9\n",
              "Name: B, dtype: int64"
            ]
          },
          "metadata": {
            "tags": []
          },
          "execution_count": 106
        }
      ]
    },
    {
      "cell_type": "code",
      "metadata": {
        "id": "_2nqSgtqW10z",
        "colab": {
          "base_uri": "https://localhost:8080/",
          "height": 34
        },
        "outputId": "49134370-69a6-4e7b-aa08-ac5b009e17b3"
      },
      "source": [
        "v = df.iloc[1, 2]\n",
        "v"
      ],
      "execution_count": null,
      "outputs": [
        {
          "output_type": "execute_result",
          "data": {
            "text/plain": [
              "6"
            ]
          },
          "metadata": {
            "tags": []
          },
          "execution_count": 107
        }
      ]
    },
    {
      "cell_type": "code",
      "metadata": {
        "id": "kjTeELtAYRhR",
        "colab": {
          "base_uri": "https://localhost:8080/",
          "height": 136
        },
        "outputId": "20a7da5f-7c8f-4b36-9a1b-ef22076ca789"
      },
      "source": [
        "## a list/array of integer\n",
        "   \n",
        "df = pd.DataFrame( np.arange(12).reshape(3,4),\n",
        "                    index=list('abc'),\n",
        "                    columns=list('ABCD'))\n",
        "\n",
        "df"
      ],
      "execution_count": null,
      "outputs": [
        {
          "output_type": "execute_result",
          "data": {
            "text/html": [
              "<div>\n",
              "<style scoped>\n",
              "    .dataframe tbody tr th:only-of-type {\n",
              "        vertical-align: middle;\n",
              "    }\n",
              "\n",
              "    .dataframe tbody tr th {\n",
              "        vertical-align: top;\n",
              "    }\n",
              "\n",
              "    .dataframe thead th {\n",
              "        text-align: right;\n",
              "    }\n",
              "</style>\n",
              "<table border=\"1\" class=\"dataframe\">\n",
              "  <thead>\n",
              "    <tr style=\"text-align: right;\">\n",
              "      <th></th>\n",
              "      <th>A</th>\n",
              "      <th>B</th>\n",
              "      <th>C</th>\n",
              "      <th>D</th>\n",
              "    </tr>\n",
              "  </thead>\n",
              "  <tbody>\n",
              "    <tr>\n",
              "      <th>a</th>\n",
              "      <td>0</td>\n",
              "      <td>1</td>\n",
              "      <td>2</td>\n",
              "      <td>3</td>\n",
              "    </tr>\n",
              "    <tr>\n",
              "      <th>b</th>\n",
              "      <td>4</td>\n",
              "      <td>5</td>\n",
              "      <td>6</td>\n",
              "      <td>7</td>\n",
              "    </tr>\n",
              "    <tr>\n",
              "      <th>c</th>\n",
              "      <td>8</td>\n",
              "      <td>9</td>\n",
              "      <td>10</td>\n",
              "      <td>11</td>\n",
              "    </tr>\n",
              "  </tbody>\n",
              "</table>\n",
              "</div>"
            ],
            "text/plain": [
              "   A  B   C   D\n",
              "a  0  1   2   3\n",
              "b  4  5   6   7\n",
              "c  8  9  10  11"
            ]
          },
          "metadata": {
            "tags": []
          },
          "execution_count": 108
        }
      ]
    },
    {
      "cell_type": "code",
      "metadata": {
        "id": "K2NiRaWkXfEp",
        "colab": {
          "base_uri": "https://localhost:8080/",
          "height": 136
        },
        "outputId": "61ad258f-c232-4217-c244-f1c8e4973385"
      },
      "source": [
        "df1 = df.iloc[[1, 2, 2], :]\n",
        "df1"
      ],
      "execution_count": null,
      "outputs": [
        {
          "output_type": "execute_result",
          "data": {
            "text/html": [
              "<div>\n",
              "<style scoped>\n",
              "    .dataframe tbody tr th:only-of-type {\n",
              "        vertical-align: middle;\n",
              "    }\n",
              "\n",
              "    .dataframe tbody tr th {\n",
              "        vertical-align: top;\n",
              "    }\n",
              "\n",
              "    .dataframe thead th {\n",
              "        text-align: right;\n",
              "    }\n",
              "</style>\n",
              "<table border=\"1\" class=\"dataframe\">\n",
              "  <thead>\n",
              "    <tr style=\"text-align: right;\">\n",
              "      <th></th>\n",
              "      <th>A</th>\n",
              "      <th>B</th>\n",
              "      <th>C</th>\n",
              "      <th>D</th>\n",
              "    </tr>\n",
              "  </thead>\n",
              "  <tbody>\n",
              "    <tr>\n",
              "      <th>b</th>\n",
              "      <td>4</td>\n",
              "      <td>5</td>\n",
              "      <td>6</td>\n",
              "      <td>7</td>\n",
              "    </tr>\n",
              "    <tr>\n",
              "      <th>c</th>\n",
              "      <td>8</td>\n",
              "      <td>9</td>\n",
              "      <td>10</td>\n",
              "      <td>11</td>\n",
              "    </tr>\n",
              "    <tr>\n",
              "      <th>c</th>\n",
              "      <td>8</td>\n",
              "      <td>9</td>\n",
              "      <td>10</td>\n",
              "      <td>11</td>\n",
              "    </tr>\n",
              "  </tbody>\n",
              "</table>\n",
              "</div>"
            ],
            "text/plain": [
              "   A  B   C   D\n",
              "b  4  5   6   7\n",
              "c  8  9  10  11\n",
              "c  8  9  10  11"
            ]
          },
          "metadata": {
            "tags": []
          },
          "execution_count": 109
        }
      ]
    },
    {
      "cell_type": "code",
      "metadata": {
        "id": "nP1elFbiXhJw",
        "colab": {
          "base_uri": "https://localhost:8080/",
          "height": 106
        },
        "outputId": "99de7bb9-249c-4a24-c2d4-e4a024b1762c"
      },
      "source": [
        "df2 = df.iloc[[1, 2], [0, 2, 3]]\n",
        "df2"
      ],
      "execution_count": null,
      "outputs": [
        {
          "output_type": "execute_result",
          "data": {
            "text/html": [
              "<div>\n",
              "<style scoped>\n",
              "    .dataframe tbody tr th:only-of-type {\n",
              "        vertical-align: middle;\n",
              "    }\n",
              "\n",
              "    .dataframe tbody tr th {\n",
              "        vertical-align: top;\n",
              "    }\n",
              "\n",
              "    .dataframe thead th {\n",
              "        text-align: right;\n",
              "    }\n",
              "</style>\n",
              "<table border=\"1\" class=\"dataframe\">\n",
              "  <thead>\n",
              "    <tr style=\"text-align: right;\">\n",
              "      <th></th>\n",
              "      <th>A</th>\n",
              "      <th>C</th>\n",
              "      <th>D</th>\n",
              "    </tr>\n",
              "  </thead>\n",
              "  <tbody>\n",
              "    <tr>\n",
              "      <th>b</th>\n",
              "      <td>4</td>\n",
              "      <td>6</td>\n",
              "      <td>7</td>\n",
              "    </tr>\n",
              "    <tr>\n",
              "      <th>c</th>\n",
              "      <td>8</td>\n",
              "      <td>10</td>\n",
              "      <td>11</td>\n",
              "    </tr>\n",
              "  </tbody>\n",
              "</table>\n",
              "</div>"
            ],
            "text/plain": [
              "   A   C   D\n",
              "b  4   6   7\n",
              "c  8  10  11"
            ]
          },
          "metadata": {
            "tags": []
          },
          "execution_count": 110
        }
      ]
    },
    {
      "cell_type": "code",
      "metadata": {
        "id": "mVnkhaLWYRhT",
        "colab": {
          "base_uri": "https://localhost:8080/",
          "height": 136
        },
        "outputId": "48c96326-3290-4552-df1f-0d7b6d7c8ec9"
      },
      "source": [
        "## a slice object with integer  (start:stop:step)  stop은 포함하지 않음\n",
        "\n",
        "df = pd.DataFrame( np.arange(12).reshape(3,4),\n",
        "                    index=list('abc'),\n",
        "                    columns=list('ABCD'))\n",
        "df"
      ],
      "execution_count": null,
      "outputs": [
        {
          "output_type": "execute_result",
          "data": {
            "text/html": [
              "<div>\n",
              "<style scoped>\n",
              "    .dataframe tbody tr th:only-of-type {\n",
              "        vertical-align: middle;\n",
              "    }\n",
              "\n",
              "    .dataframe tbody tr th {\n",
              "        vertical-align: top;\n",
              "    }\n",
              "\n",
              "    .dataframe thead th {\n",
              "        text-align: right;\n",
              "    }\n",
              "</style>\n",
              "<table border=\"1\" class=\"dataframe\">\n",
              "  <thead>\n",
              "    <tr style=\"text-align: right;\">\n",
              "      <th></th>\n",
              "      <th>A</th>\n",
              "      <th>B</th>\n",
              "      <th>C</th>\n",
              "      <th>D</th>\n",
              "    </tr>\n",
              "  </thead>\n",
              "  <tbody>\n",
              "    <tr>\n",
              "      <th>a</th>\n",
              "      <td>0</td>\n",
              "      <td>1</td>\n",
              "      <td>2</td>\n",
              "      <td>3</td>\n",
              "    </tr>\n",
              "    <tr>\n",
              "      <th>b</th>\n",
              "      <td>4</td>\n",
              "      <td>5</td>\n",
              "      <td>6</td>\n",
              "      <td>7</td>\n",
              "    </tr>\n",
              "    <tr>\n",
              "      <th>c</th>\n",
              "      <td>8</td>\n",
              "      <td>9</td>\n",
              "      <td>10</td>\n",
              "      <td>11</td>\n",
              "    </tr>\n",
              "  </tbody>\n",
              "</table>\n",
              "</div>"
            ],
            "text/plain": [
              "   A  B   C   D\n",
              "a  0  1   2   3\n",
              "b  4  5   6   7\n",
              "c  8  9  10  11"
            ]
          },
          "metadata": {
            "tags": []
          },
          "execution_count": 111
        }
      ]
    },
    {
      "cell_type": "code",
      "metadata": {
        "id": "kmecYAZNYGKi",
        "colab": {
          "base_uri": "https://localhost:8080/",
          "height": 226
        },
        "outputId": "9e25f79f-b195-4217-fc6a-73cb0dd13263"
      },
      "source": [
        "df1 = df.iloc[:2]  \n",
        "df2 = df.iloc[::-1]    # reverse\n",
        "display(df1, df2)"
      ],
      "execution_count": null,
      "outputs": [
        {
          "output_type": "display_data",
          "data": {
            "text/html": [
              "<div>\n",
              "<style scoped>\n",
              "    .dataframe tbody tr th:only-of-type {\n",
              "        vertical-align: middle;\n",
              "    }\n",
              "\n",
              "    .dataframe tbody tr th {\n",
              "        vertical-align: top;\n",
              "    }\n",
              "\n",
              "    .dataframe thead th {\n",
              "        text-align: right;\n",
              "    }\n",
              "</style>\n",
              "<table border=\"1\" class=\"dataframe\">\n",
              "  <thead>\n",
              "    <tr style=\"text-align: right;\">\n",
              "      <th></th>\n",
              "      <th>A</th>\n",
              "      <th>B</th>\n",
              "      <th>C</th>\n",
              "      <th>D</th>\n",
              "    </tr>\n",
              "  </thead>\n",
              "  <tbody>\n",
              "    <tr>\n",
              "      <th>a</th>\n",
              "      <td>0</td>\n",
              "      <td>1</td>\n",
              "      <td>2</td>\n",
              "      <td>3</td>\n",
              "    </tr>\n",
              "    <tr>\n",
              "      <th>b</th>\n",
              "      <td>4</td>\n",
              "      <td>5</td>\n",
              "      <td>6</td>\n",
              "      <td>7</td>\n",
              "    </tr>\n",
              "  </tbody>\n",
              "</table>\n",
              "</div>"
            ],
            "text/plain": [
              "   A  B  C  D\n",
              "a  0  1  2  3\n",
              "b  4  5  6  7"
            ]
          },
          "metadata": {
            "tags": []
          }
        },
        {
          "output_type": "display_data",
          "data": {
            "text/html": [
              "<div>\n",
              "<style scoped>\n",
              "    .dataframe tbody tr th:only-of-type {\n",
              "        vertical-align: middle;\n",
              "    }\n",
              "\n",
              "    .dataframe tbody tr th {\n",
              "        vertical-align: top;\n",
              "    }\n",
              "\n",
              "    .dataframe thead th {\n",
              "        text-align: right;\n",
              "    }\n",
              "</style>\n",
              "<table border=\"1\" class=\"dataframe\">\n",
              "  <thead>\n",
              "    <tr style=\"text-align: right;\">\n",
              "      <th></th>\n",
              "      <th>A</th>\n",
              "      <th>B</th>\n",
              "      <th>C</th>\n",
              "      <th>D</th>\n",
              "    </tr>\n",
              "  </thead>\n",
              "  <tbody>\n",
              "    <tr>\n",
              "      <th>c</th>\n",
              "      <td>8</td>\n",
              "      <td>9</td>\n",
              "      <td>10</td>\n",
              "      <td>11</td>\n",
              "    </tr>\n",
              "    <tr>\n",
              "      <th>b</th>\n",
              "      <td>4</td>\n",
              "      <td>5</td>\n",
              "      <td>6</td>\n",
              "      <td>7</td>\n",
              "    </tr>\n",
              "    <tr>\n",
              "      <th>a</th>\n",
              "      <td>0</td>\n",
              "      <td>1</td>\n",
              "      <td>2</td>\n",
              "      <td>3</td>\n",
              "    </tr>\n",
              "  </tbody>\n",
              "</table>\n",
              "</div>"
            ],
            "text/plain": [
              "   A  B   C   D\n",
              "c  8  9  10  11\n",
              "b  4  5   6   7\n",
              "a  0  1   2   3"
            ]
          },
          "metadata": {
            "tags": []
          }
        }
      ]
    },
    {
      "cell_type": "code",
      "metadata": {
        "id": "4RvdJE81YLkH",
        "colab": {
          "base_uri": "https://localhost:8080/",
          "height": 196
        },
        "outputId": "1fbcdc41-cb3e-4121-fea1-fbec4f4fa8ab"
      },
      "source": [
        "df3 = df.iloc[:, 1:3]\n",
        "df4 = df.iloc[2:7]     # can use\n",
        "display(df3, df4)"
      ],
      "execution_count": null,
      "outputs": [
        {
          "output_type": "display_data",
          "data": {
            "text/html": [
              "<div>\n",
              "<style scoped>\n",
              "    .dataframe tbody tr th:only-of-type {\n",
              "        vertical-align: middle;\n",
              "    }\n",
              "\n",
              "    .dataframe tbody tr th {\n",
              "        vertical-align: top;\n",
              "    }\n",
              "\n",
              "    .dataframe thead th {\n",
              "        text-align: right;\n",
              "    }\n",
              "</style>\n",
              "<table border=\"1\" class=\"dataframe\">\n",
              "  <thead>\n",
              "    <tr style=\"text-align: right;\">\n",
              "      <th></th>\n",
              "      <th>B</th>\n",
              "      <th>C</th>\n",
              "    </tr>\n",
              "  </thead>\n",
              "  <tbody>\n",
              "    <tr>\n",
              "      <th>a</th>\n",
              "      <td>1</td>\n",
              "      <td>2</td>\n",
              "    </tr>\n",
              "    <tr>\n",
              "      <th>b</th>\n",
              "      <td>5</td>\n",
              "      <td>6</td>\n",
              "    </tr>\n",
              "    <tr>\n",
              "      <th>c</th>\n",
              "      <td>9</td>\n",
              "      <td>10</td>\n",
              "    </tr>\n",
              "  </tbody>\n",
              "</table>\n",
              "</div>"
            ],
            "text/plain": [
              "   B   C\n",
              "a  1   2\n",
              "b  5   6\n",
              "c  9  10"
            ]
          },
          "metadata": {
            "tags": []
          }
        },
        {
          "output_type": "display_data",
          "data": {
            "text/html": [
              "<div>\n",
              "<style scoped>\n",
              "    .dataframe tbody tr th:only-of-type {\n",
              "        vertical-align: middle;\n",
              "    }\n",
              "\n",
              "    .dataframe tbody tr th {\n",
              "        vertical-align: top;\n",
              "    }\n",
              "\n",
              "    .dataframe thead th {\n",
              "        text-align: right;\n",
              "    }\n",
              "</style>\n",
              "<table border=\"1\" class=\"dataframe\">\n",
              "  <thead>\n",
              "    <tr style=\"text-align: right;\">\n",
              "      <th></th>\n",
              "      <th>A</th>\n",
              "      <th>B</th>\n",
              "      <th>C</th>\n",
              "      <th>D</th>\n",
              "    </tr>\n",
              "  </thead>\n",
              "  <tbody>\n",
              "    <tr>\n",
              "      <th>c</th>\n",
              "      <td>8</td>\n",
              "      <td>9</td>\n",
              "      <td>10</td>\n",
              "      <td>11</td>\n",
              "    </tr>\n",
              "  </tbody>\n",
              "</table>\n",
              "</div>"
            ],
            "text/plain": [
              "   A  B   C   D\n",
              "c  8  9  10  11"
            ]
          },
          "metadata": {
            "tags": []
          }
        }
      ]
    },
    {
      "cell_type": "code",
      "metadata": {
        "id": "aM1E978zYYpq",
        "colab": {
          "base_uri": "https://localhost:8080/",
          "height": 255
        },
        "outputId": "5bcfbcc0-07a9-4d1f-f932-95b06eeb368c"
      },
      "source": [
        "df5 = df.iloc[:5, 2:]\n",
        "df6 = df.iloc[:, :-1]  # except last column\n",
        "display(df5, df6)"
      ],
      "execution_count": null,
      "outputs": [
        {
          "output_type": "display_data",
          "data": {
            "text/html": [
              "<div>\n",
              "<style scoped>\n",
              "    .dataframe tbody tr th:only-of-type {\n",
              "        vertical-align: middle;\n",
              "    }\n",
              "\n",
              "    .dataframe tbody tr th {\n",
              "        vertical-align: top;\n",
              "    }\n",
              "\n",
              "    .dataframe thead th {\n",
              "        text-align: right;\n",
              "    }\n",
              "</style>\n",
              "<table border=\"1\" class=\"dataframe\">\n",
              "  <thead>\n",
              "    <tr style=\"text-align: right;\">\n",
              "      <th></th>\n",
              "      <th>C</th>\n",
              "      <th>D</th>\n",
              "    </tr>\n",
              "  </thead>\n",
              "  <tbody>\n",
              "    <tr>\n",
              "      <th>a</th>\n",
              "      <td>2</td>\n",
              "      <td>3</td>\n",
              "    </tr>\n",
              "    <tr>\n",
              "      <th>b</th>\n",
              "      <td>6</td>\n",
              "      <td>7</td>\n",
              "    </tr>\n",
              "    <tr>\n",
              "      <th>c</th>\n",
              "      <td>10</td>\n",
              "      <td>11</td>\n",
              "    </tr>\n",
              "  </tbody>\n",
              "</table>\n",
              "</div>"
            ],
            "text/plain": [
              "    C   D\n",
              "a   2   3\n",
              "b   6   7\n",
              "c  10  11"
            ]
          },
          "metadata": {
            "tags": []
          }
        },
        {
          "output_type": "display_data",
          "data": {
            "text/html": [
              "<div>\n",
              "<style scoped>\n",
              "    .dataframe tbody tr th:only-of-type {\n",
              "        vertical-align: middle;\n",
              "    }\n",
              "\n",
              "    .dataframe tbody tr th {\n",
              "        vertical-align: top;\n",
              "    }\n",
              "\n",
              "    .dataframe thead th {\n",
              "        text-align: right;\n",
              "    }\n",
              "</style>\n",
              "<table border=\"1\" class=\"dataframe\">\n",
              "  <thead>\n",
              "    <tr style=\"text-align: right;\">\n",
              "      <th></th>\n",
              "      <th>A</th>\n",
              "      <th>B</th>\n",
              "      <th>C</th>\n",
              "    </tr>\n",
              "  </thead>\n",
              "  <tbody>\n",
              "    <tr>\n",
              "      <th>a</th>\n",
              "      <td>0</td>\n",
              "      <td>1</td>\n",
              "      <td>2</td>\n",
              "    </tr>\n",
              "    <tr>\n",
              "      <th>b</th>\n",
              "      <td>4</td>\n",
              "      <td>5</td>\n",
              "      <td>6</td>\n",
              "    </tr>\n",
              "    <tr>\n",
              "      <th>c</th>\n",
              "      <td>8</td>\n",
              "      <td>9</td>\n",
              "      <td>10</td>\n",
              "    </tr>\n",
              "  </tbody>\n",
              "</table>\n",
              "</div>"
            ],
            "text/plain": [
              "   A  B   C\n",
              "a  0  1   2\n",
              "b  4  5   6\n",
              "c  8  9  10"
            ]
          },
          "metadata": {
            "tags": []
          }
        }
      ]
    },
    {
      "cell_type": "markdown",
      "metadata": {
        "id": "-IL-4sKcYpRd"
      },
      "source": [
        "##### 10-2-4) Boolean indexing"
      ]
    },
    {
      "cell_type": "code",
      "metadata": {
        "id": "rwrbINeyYRhY",
        "colab": {
          "base_uri": "https://localhost:8080/",
          "height": 195
        },
        "outputId": "f281a41a-daa4-41a9-d19d-a37995a12266"
      },
      "source": [
        "mydata = {'A' : list(\"abcde\"),\n",
        "          'B' : list(\"cbdfd\"),\n",
        "          'C' : list(\"zsyjc\")}\n",
        "\n",
        "df = pd.DataFrame(mydata, index=['one', 'two', 'three', 'four', 'five'])\n",
        "df"
      ],
      "execution_count": null,
      "outputs": [
        {
          "output_type": "execute_result",
          "data": {
            "text/html": [
              "<div>\n",
              "<style scoped>\n",
              "    .dataframe tbody tr th:only-of-type {\n",
              "        vertical-align: middle;\n",
              "    }\n",
              "\n",
              "    .dataframe tbody tr th {\n",
              "        vertical-align: top;\n",
              "    }\n",
              "\n",
              "    .dataframe thead th {\n",
              "        text-align: right;\n",
              "    }\n",
              "</style>\n",
              "<table border=\"1\" class=\"dataframe\">\n",
              "  <thead>\n",
              "    <tr style=\"text-align: right;\">\n",
              "      <th></th>\n",
              "      <th>A</th>\n",
              "      <th>B</th>\n",
              "      <th>C</th>\n",
              "    </tr>\n",
              "  </thead>\n",
              "  <tbody>\n",
              "    <tr>\n",
              "      <th>one</th>\n",
              "      <td>a</td>\n",
              "      <td>c</td>\n",
              "      <td>z</td>\n",
              "    </tr>\n",
              "    <tr>\n",
              "      <th>two</th>\n",
              "      <td>b</td>\n",
              "      <td>b</td>\n",
              "      <td>s</td>\n",
              "    </tr>\n",
              "    <tr>\n",
              "      <th>three</th>\n",
              "      <td>c</td>\n",
              "      <td>d</td>\n",
              "      <td>y</td>\n",
              "    </tr>\n",
              "    <tr>\n",
              "      <th>four</th>\n",
              "      <td>d</td>\n",
              "      <td>f</td>\n",
              "      <td>j</td>\n",
              "    </tr>\n",
              "    <tr>\n",
              "      <th>five</th>\n",
              "      <td>e</td>\n",
              "      <td>d</td>\n",
              "      <td>c</td>\n",
              "    </tr>\n",
              "  </tbody>\n",
              "</table>\n",
              "</div>"
            ],
            "text/plain": [
              "       A  B  C\n",
              "one    a  c  z\n",
              "two    b  b  s\n",
              "three  c  d  y\n",
              "four   d  f  j\n",
              "five   e  d  c"
            ]
          },
          "metadata": {
            "tags": []
          },
          "execution_count": 115
        }
      ]
    },
    {
      "cell_type": "code",
      "metadata": {
        "id": "t1hpoO9nY5k6",
        "colab": {
          "base_uri": "https://localhost:8080/",
          "height": 106
        },
        "outputId": "0da53493-5715-45f6-bcaf-974c440291fb"
      },
      "source": [
        "# .iloc[]은 Series 객체를 사용할 수 없음\n",
        "#df[ (df.A == 'a') | (df.A == 'b')]\n",
        "#df.loc[(df.A == 'a') | (df.A == 'b'), :]\n",
        "df.iloc[((df.A == 'a') | (df.A == 'b')).to_list()]"
      ],
      "execution_count": null,
      "outputs": [
        {
          "output_type": "execute_result",
          "data": {
            "text/html": [
              "<div>\n",
              "<style scoped>\n",
              "    .dataframe tbody tr th:only-of-type {\n",
              "        vertical-align: middle;\n",
              "    }\n",
              "\n",
              "    .dataframe tbody tr th {\n",
              "        vertical-align: top;\n",
              "    }\n",
              "\n",
              "    .dataframe thead th {\n",
              "        text-align: right;\n",
              "    }\n",
              "</style>\n",
              "<table border=\"1\" class=\"dataframe\">\n",
              "  <thead>\n",
              "    <tr style=\"text-align: right;\">\n",
              "      <th></th>\n",
              "      <th>A</th>\n",
              "      <th>B</th>\n",
              "      <th>C</th>\n",
              "    </tr>\n",
              "  </thead>\n",
              "  <tbody>\n",
              "    <tr>\n",
              "      <th>one</th>\n",
              "      <td>a</td>\n",
              "      <td>c</td>\n",
              "      <td>z</td>\n",
              "    </tr>\n",
              "    <tr>\n",
              "      <th>two</th>\n",
              "      <td>b</td>\n",
              "      <td>b</td>\n",
              "      <td>s</td>\n",
              "    </tr>\n",
              "  </tbody>\n",
              "</table>\n",
              "</div>"
            ],
            "text/plain": [
              "     A  B  C\n",
              "one  a  c  z\n",
              "two  b  b  s"
            ]
          },
          "metadata": {
            "tags": []
          },
          "execution_count": 120
        }
      ]
    },
    {
      "cell_type": "code",
      "metadata": {
        "id": "EfVB_31_YRha",
        "colab": {
          "base_uri": "https://localhost:8080/",
          "height": 195
        },
        "outputId": "aeaa20f1-461b-4a80-d7b1-f98a4ec1b802"
      },
      "source": [
        "df = pd.DataFrame(np.random.randint(1, 100, (5, 3)),\n",
        "                  index = list('ABCDE'), columns = list('abc'))\n",
        "\n",
        "df"
      ],
      "execution_count": null,
      "outputs": [
        {
          "output_type": "execute_result",
          "data": {
            "text/html": [
              "<div>\n",
              "<style scoped>\n",
              "    .dataframe tbody tr th:only-of-type {\n",
              "        vertical-align: middle;\n",
              "    }\n",
              "\n",
              "    .dataframe tbody tr th {\n",
              "        vertical-align: top;\n",
              "    }\n",
              "\n",
              "    .dataframe thead th {\n",
              "        text-align: right;\n",
              "    }\n",
              "</style>\n",
              "<table border=\"1\" class=\"dataframe\">\n",
              "  <thead>\n",
              "    <tr style=\"text-align: right;\">\n",
              "      <th></th>\n",
              "      <th>a</th>\n",
              "      <th>b</th>\n",
              "      <th>c</th>\n",
              "    </tr>\n",
              "  </thead>\n",
              "  <tbody>\n",
              "    <tr>\n",
              "      <th>A</th>\n",
              "      <td>9</td>\n",
              "      <td>25</td>\n",
              "      <td>68</td>\n",
              "    </tr>\n",
              "    <tr>\n",
              "      <th>B</th>\n",
              "      <td>88</td>\n",
              "      <td>80</td>\n",
              "      <td>49</td>\n",
              "    </tr>\n",
              "    <tr>\n",
              "      <th>C</th>\n",
              "      <td>11</td>\n",
              "      <td>95</td>\n",
              "      <td>53</td>\n",
              "    </tr>\n",
              "    <tr>\n",
              "      <th>D</th>\n",
              "      <td>99</td>\n",
              "      <td>54</td>\n",
              "      <td>67</td>\n",
              "    </tr>\n",
              "    <tr>\n",
              "      <th>E</th>\n",
              "      <td>99</td>\n",
              "      <td>15</td>\n",
              "      <td>35</td>\n",
              "    </tr>\n",
              "  </tbody>\n",
              "</table>\n",
              "</div>"
            ],
            "text/plain": [
              "    a   b   c\n",
              "A   9  25  68\n",
              "B  88  80  49\n",
              "C  11  95  53\n",
              "D  99  54  67\n",
              "E  99  15  35"
            ]
          },
          "metadata": {
            "tags": []
          },
          "execution_count": 121
        }
      ]
    },
    {
      "cell_type": "code",
      "metadata": {
        "id": "_oDupeBpZgEJ",
        "colab": {
          "base_uri": "https://localhost:8080/",
          "height": 255
        },
        "outputId": "456803af-4a99-4b9d-c05a-caef5f30182b"
      },
      "source": [
        "df1 = df[df.a > 50]\n",
        "df2 = df.iloc[(df.a>50).to_list(),:]\n",
        "display(df1, df2)"
      ],
      "execution_count": null,
      "outputs": [
        {
          "output_type": "display_data",
          "data": {
            "text/html": [
              "<div>\n",
              "<style scoped>\n",
              "    .dataframe tbody tr th:only-of-type {\n",
              "        vertical-align: middle;\n",
              "    }\n",
              "\n",
              "    .dataframe tbody tr th {\n",
              "        vertical-align: top;\n",
              "    }\n",
              "\n",
              "    .dataframe thead th {\n",
              "        text-align: right;\n",
              "    }\n",
              "</style>\n",
              "<table border=\"1\" class=\"dataframe\">\n",
              "  <thead>\n",
              "    <tr style=\"text-align: right;\">\n",
              "      <th></th>\n",
              "      <th>a</th>\n",
              "      <th>b</th>\n",
              "      <th>c</th>\n",
              "    </tr>\n",
              "  </thead>\n",
              "  <tbody>\n",
              "    <tr>\n",
              "      <th>B</th>\n",
              "      <td>88</td>\n",
              "      <td>80</td>\n",
              "      <td>49</td>\n",
              "    </tr>\n",
              "    <tr>\n",
              "      <th>D</th>\n",
              "      <td>99</td>\n",
              "      <td>54</td>\n",
              "      <td>67</td>\n",
              "    </tr>\n",
              "    <tr>\n",
              "      <th>E</th>\n",
              "      <td>99</td>\n",
              "      <td>15</td>\n",
              "      <td>35</td>\n",
              "    </tr>\n",
              "  </tbody>\n",
              "</table>\n",
              "</div>"
            ],
            "text/plain": [
              "    a   b   c\n",
              "B  88  80  49\n",
              "D  99  54  67\n",
              "E  99  15  35"
            ]
          },
          "metadata": {
            "tags": []
          }
        },
        {
          "output_type": "display_data",
          "data": {
            "text/html": [
              "<div>\n",
              "<style scoped>\n",
              "    .dataframe tbody tr th:only-of-type {\n",
              "        vertical-align: middle;\n",
              "    }\n",
              "\n",
              "    .dataframe tbody tr th {\n",
              "        vertical-align: top;\n",
              "    }\n",
              "\n",
              "    .dataframe thead th {\n",
              "        text-align: right;\n",
              "    }\n",
              "</style>\n",
              "<table border=\"1\" class=\"dataframe\">\n",
              "  <thead>\n",
              "    <tr style=\"text-align: right;\">\n",
              "      <th></th>\n",
              "      <th>a</th>\n",
              "      <th>b</th>\n",
              "      <th>c</th>\n",
              "    </tr>\n",
              "  </thead>\n",
              "  <tbody>\n",
              "    <tr>\n",
              "      <th>B</th>\n",
              "      <td>88</td>\n",
              "      <td>80</td>\n",
              "      <td>49</td>\n",
              "    </tr>\n",
              "    <tr>\n",
              "      <th>D</th>\n",
              "      <td>99</td>\n",
              "      <td>54</td>\n",
              "      <td>67</td>\n",
              "    </tr>\n",
              "    <tr>\n",
              "      <th>E</th>\n",
              "      <td>99</td>\n",
              "      <td>15</td>\n",
              "      <td>35</td>\n",
              "    </tr>\n",
              "  </tbody>\n",
              "</table>\n",
              "</div>"
            ],
            "text/plain": [
              "    a   b   c\n",
              "B  88  80  49\n",
              "D  99  54  67\n",
              "E  99  15  35"
            ]
          },
          "metadata": {
            "tags": []
          }
        }
      ]
    },
    {
      "cell_type": "code",
      "metadata": {
        "id": "ujUq3TavZmaa",
        "colab": {
          "base_uri": "https://localhost:8080/",
          "height": 196
        },
        "outputId": "9285408a-28d0-46ad-d996-75fd7621c13f"
      },
      "source": [
        "ridx = (df.a > 50) & (df.b > 50)\n",
        "cidx = df.loc['A'] > df.loc['C']\n",
        "df3 = df.loc[ridx, cidx]\n",
        "df4 = df.iloc[ridx.to_list(), cidx.to_list()]  \n",
        "display(df3, df4)"
      ],
      "execution_count": null,
      "outputs": [
        {
          "output_type": "display_data",
          "data": {
            "text/html": [
              "<div>\n",
              "<style scoped>\n",
              "    .dataframe tbody tr th:only-of-type {\n",
              "        vertical-align: middle;\n",
              "    }\n",
              "\n",
              "    .dataframe tbody tr th {\n",
              "        vertical-align: top;\n",
              "    }\n",
              "\n",
              "    .dataframe thead th {\n",
              "        text-align: right;\n",
              "    }\n",
              "</style>\n",
              "<table border=\"1\" class=\"dataframe\">\n",
              "  <thead>\n",
              "    <tr style=\"text-align: right;\">\n",
              "      <th></th>\n",
              "      <th>c</th>\n",
              "    </tr>\n",
              "  </thead>\n",
              "  <tbody>\n",
              "    <tr>\n",
              "      <th>B</th>\n",
              "      <td>49</td>\n",
              "    </tr>\n",
              "    <tr>\n",
              "      <th>D</th>\n",
              "      <td>67</td>\n",
              "    </tr>\n",
              "  </tbody>\n",
              "</table>\n",
              "</div>"
            ],
            "text/plain": [
              "    c\n",
              "B  49\n",
              "D  67"
            ]
          },
          "metadata": {
            "tags": []
          }
        },
        {
          "output_type": "display_data",
          "data": {
            "text/html": [
              "<div>\n",
              "<style scoped>\n",
              "    .dataframe tbody tr th:only-of-type {\n",
              "        vertical-align: middle;\n",
              "    }\n",
              "\n",
              "    .dataframe tbody tr th {\n",
              "        vertical-align: top;\n",
              "    }\n",
              "\n",
              "    .dataframe thead th {\n",
              "        text-align: right;\n",
              "    }\n",
              "</style>\n",
              "<table border=\"1\" class=\"dataframe\">\n",
              "  <thead>\n",
              "    <tr style=\"text-align: right;\">\n",
              "      <th></th>\n",
              "      <th>c</th>\n",
              "    </tr>\n",
              "  </thead>\n",
              "  <tbody>\n",
              "    <tr>\n",
              "      <th>B</th>\n",
              "      <td>49</td>\n",
              "    </tr>\n",
              "    <tr>\n",
              "      <th>D</th>\n",
              "      <td>67</td>\n",
              "    </tr>\n",
              "  </tbody>\n",
              "</table>\n",
              "</div>"
            ],
            "text/plain": [
              "    c\n",
              "B  49\n",
              "D  67"
            ]
          },
          "metadata": {
            "tags": []
          }
        }
      ]
    },
    {
      "cell_type": "markdown",
      "metadata": {
        "id": "KjJXWLWnYRhg"
      },
      "source": [
        "#### 10-3) Indexing for Multilevel index\n",
        "- 여러 개의 column 또는 row로 이루어진 index\n",
        "- 여러 개의 column/row를 level로 취급함\n",
        "\n",
        "- pd.MultiIndex.from_product( iterables, names )\n",
        "    - iterables : MultiIndex 각 column을 항으로 하는 1D array\n",
        "    - 각 항의 개수를 곱한 것 만큼의 항이 생성됨\n",
        "- pd.MultiIndex.from_tuples(tuples, names)\n",
        "    - tuples : MultiIndex 각 row를 항으로 하는 1D array\n",
        "    - names : index의 각 column 이름, 1D array\n"
      ]
    },
    {
      "cell_type": "code",
      "metadata": {
        "id": "N2h6nbYvYRhh"
      },
      "source": [
        "import pandas as pd\n",
        "import numpy as np\n",
        "import shelve\n",
        "\n",
        "np.random.seed(100)"
      ],
      "execution_count": null,
      "outputs": []
    },
    {
      "cell_type": "code",
      "metadata": {
        "id": "MD_GD_HbYRhj"
      },
      "source": [
        "midx_c = pd.MultiIndex.from_product([['A','B'], ['a', 'b']])\n",
        "midx_r = pd.MultiIndex.from_tuples([['a','x'],['a','y'], ['b','x'], ['b','y']])\n",
        "df = pd.DataFrame( np.random.randint(50,90, (4, 4)),\n",
        "                   index = midx_r,\n",
        "                   columns = midx_c )"
      ],
      "execution_count": null,
      "outputs": []
    },
    {
      "cell_type": "code",
      "metadata": {
        "id": "wbYkfcnPYRhl",
        "colab": {
          "base_uri": "https://localhost:8080/",
          "height": 195
        },
        "outputId": "b0628f6d-9c4b-4076-d777-f142f534ae92"
      },
      "source": [
        "df"
      ],
      "execution_count": null,
      "outputs": [
        {
          "output_type": "execute_result",
          "data": {
            "text/html": [
              "<div>\n",
              "<style scoped>\n",
              "    .dataframe tbody tr th:only-of-type {\n",
              "        vertical-align: middle;\n",
              "    }\n",
              "\n",
              "    .dataframe tbody tr th {\n",
              "        vertical-align: top;\n",
              "    }\n",
              "\n",
              "    .dataframe thead tr th {\n",
              "        text-align: left;\n",
              "    }\n",
              "</style>\n",
              "<table border=\"1\" class=\"dataframe\">\n",
              "  <thead>\n",
              "    <tr>\n",
              "      <th></th>\n",
              "      <th></th>\n",
              "      <th colspan=\"2\" halign=\"left\">A</th>\n",
              "      <th colspan=\"2\" halign=\"left\">B</th>\n",
              "    </tr>\n",
              "    <tr>\n",
              "      <th></th>\n",
              "      <th></th>\n",
              "      <th>a</th>\n",
              "      <th>b</th>\n",
              "      <th>a</th>\n",
              "      <th>b</th>\n",
              "    </tr>\n",
              "  </thead>\n",
              "  <tbody>\n",
              "    <tr>\n",
              "      <th rowspan=\"2\" valign=\"top\">a</th>\n",
              "      <th>x</th>\n",
              "      <td>77</td>\n",
              "      <td>80</td>\n",
              "      <td>89</td>\n",
              "      <td>88</td>\n",
              "    </tr>\n",
              "    <tr>\n",
              "      <th>y</th>\n",
              "      <td>68</td>\n",
              "      <td>50</td>\n",
              "      <td>84</td>\n",
              "      <td>60</td>\n",
              "    </tr>\n",
              "    <tr>\n",
              "      <th rowspan=\"2\" valign=\"top\">b</th>\n",
              "      <th>x</th>\n",
              "      <td>67</td>\n",
              "      <td>58</td>\n",
              "      <td>63</td>\n",
              "      <td>80</td>\n",
              "    </tr>\n",
              "    <tr>\n",
              "      <th>y</th>\n",
              "      <td>67</td>\n",
              "      <td>54</td>\n",
              "      <td>77</td>\n",
              "      <td>77</td>\n",
              "    </tr>\n",
              "  </tbody>\n",
              "</table>\n",
              "</div>"
            ],
            "text/plain": [
              "      A       B    \n",
              "      a   b   a   b\n",
              "a x  77  80  89  88\n",
              "  y  68  50  84  60\n",
              "b x  67  58  63  80\n",
              "  y  67  54  77  77"
            ]
          },
          "metadata": {
            "tags": []
          },
          "execution_count": 27
        }
      ]
    },
    {
      "cell_type": "code",
      "metadata": {
        "id": "PK0Cts84w0u4",
        "colab": {
          "base_uri": "https://localhost:8080/",
          "height": 105
        },
        "outputId": "ef0e5e76-d609-43a4-f1c2-cb20ec69480a"
      },
      "source": [
        "df['A']['a']"
      ],
      "execution_count": null,
      "outputs": [
        {
          "output_type": "execute_result",
          "data": {
            "text/plain": [
              "a  x    77\n",
              "   y    68\n",
              "b  x    67\n",
              "   y    67\n",
              "Name: a, dtype: int64"
            ]
          },
          "metadata": {
            "tags": []
          },
          "execution_count": 29
        }
      ]
    },
    {
      "cell_type": "code",
      "metadata": {
        "id": "99vPal1GYRhn",
        "colab": {
          "base_uri": "https://localhost:8080/",
          "height": 193
        },
        "outputId": "f3f488e7-6c3f-4797-9856-b3a68de68d23"
      },
      "source": [
        "df1 = df['A']['a']   # basic indexing - columns 기준\n",
        "df2 = df.loc[:,('A','a')]\n",
        "display(df1, df2)"
      ],
      "execution_count": null,
      "outputs": [
        {
          "output_type": "display_data",
          "data": {
            "text/plain": [
              "a  x    77\n",
              "   y    68\n",
              "b  x    67\n",
              "   y    67\n",
              "Name: a, dtype: int64"
            ]
          },
          "metadata": {
            "tags": []
          }
        },
        {
          "output_type": "display_data",
          "data": {
            "text/plain": [
              "a  x    77\n",
              "   y    68\n",
              "b  x    67\n",
              "   y    67\n",
              "Name: (A, a), dtype: int64"
            ]
          },
          "metadata": {
            "tags": []
          }
        }
      ]
    },
    {
      "cell_type": "code",
      "metadata": {
        "id": "Cv9ZSbRDfWf1",
        "colab": {
          "base_uri": "https://localhost:8080/",
          "height": 195
        },
        "outputId": "e755b62a-31c0-4706-d7cb-78c97f1fb15f"
      },
      "source": [
        "df3 = df.copy()\n",
        "df3[('A','a')] = [100]*4  # OKay\n",
        "df3"
      ],
      "execution_count": null,
      "outputs": [
        {
          "output_type": "execute_result",
          "data": {
            "text/html": [
              "<div>\n",
              "<style scoped>\n",
              "    .dataframe tbody tr th:only-of-type {\n",
              "        vertical-align: middle;\n",
              "    }\n",
              "\n",
              "    .dataframe tbody tr th {\n",
              "        vertical-align: top;\n",
              "    }\n",
              "\n",
              "    .dataframe thead tr th {\n",
              "        text-align: left;\n",
              "    }\n",
              "</style>\n",
              "<table border=\"1\" class=\"dataframe\">\n",
              "  <thead>\n",
              "    <tr>\n",
              "      <th></th>\n",
              "      <th></th>\n",
              "      <th colspan=\"2\" halign=\"left\">A</th>\n",
              "      <th colspan=\"2\" halign=\"left\">B</th>\n",
              "    </tr>\n",
              "    <tr>\n",
              "      <th></th>\n",
              "      <th></th>\n",
              "      <th>a</th>\n",
              "      <th>b</th>\n",
              "      <th>a</th>\n",
              "      <th>b</th>\n",
              "    </tr>\n",
              "  </thead>\n",
              "  <tbody>\n",
              "    <tr>\n",
              "      <th rowspan=\"2\" valign=\"top\">a</th>\n",
              "      <th>x</th>\n",
              "      <td>100</td>\n",
              "      <td>80</td>\n",
              "      <td>89</td>\n",
              "      <td>88</td>\n",
              "    </tr>\n",
              "    <tr>\n",
              "      <th>y</th>\n",
              "      <td>100</td>\n",
              "      <td>50</td>\n",
              "      <td>84</td>\n",
              "      <td>60</td>\n",
              "    </tr>\n",
              "    <tr>\n",
              "      <th rowspan=\"2\" valign=\"top\">b</th>\n",
              "      <th>x</th>\n",
              "      <td>100</td>\n",
              "      <td>58</td>\n",
              "      <td>63</td>\n",
              "      <td>80</td>\n",
              "    </tr>\n",
              "    <tr>\n",
              "      <th>y</th>\n",
              "      <td>100</td>\n",
              "      <td>54</td>\n",
              "      <td>77</td>\n",
              "      <td>77</td>\n",
              "    </tr>\n",
              "  </tbody>\n",
              "</table>\n",
              "</div>"
            ],
            "text/plain": [
              "       A       B    \n",
              "       a   b   a   b\n",
              "a x  100  80  89  88\n",
              "  y  100  50  84  60\n",
              "b x  100  58  63  80\n",
              "  y  100  54  77  77"
            ]
          },
          "metadata": {
            "tags": []
          },
          "execution_count": 31
        }
      ]
    },
    {
      "cell_type": "code",
      "metadata": {
        "id": "AJ14rqaffQJk"
      },
      "source": [
        "df3 = df.copy()\n",
        "df3['A']['a'] = [100]*4  # Error     \n",
        "df3"
      ],
      "execution_count": null,
      "outputs": []
    },
    {
      "cell_type": "code",
      "metadata": {
        "id": "gvrvPPWJfV1h",
        "colab": {
          "base_uri": "https://localhost:8080/",
          "height": 195
        },
        "outputId": "9fbcbb11-c028-4890-9384-45d573a128fd"
      },
      "source": [
        "df3.loc[('a','y'),('B','b')] = 1234\n",
        "df3"
      ],
      "execution_count": null,
      "outputs": [
        {
          "output_type": "execute_result",
          "data": {
            "text/html": [
              "<div>\n",
              "<style scoped>\n",
              "    .dataframe tbody tr th:only-of-type {\n",
              "        vertical-align: middle;\n",
              "    }\n",
              "\n",
              "    .dataframe tbody tr th {\n",
              "        vertical-align: top;\n",
              "    }\n",
              "\n",
              "    .dataframe thead tr th {\n",
              "        text-align: left;\n",
              "    }\n",
              "</style>\n",
              "<table border=\"1\" class=\"dataframe\">\n",
              "  <thead>\n",
              "    <tr>\n",
              "      <th></th>\n",
              "      <th></th>\n",
              "      <th colspan=\"2\" halign=\"left\">A</th>\n",
              "      <th colspan=\"2\" halign=\"left\">B</th>\n",
              "    </tr>\n",
              "    <tr>\n",
              "      <th></th>\n",
              "      <th></th>\n",
              "      <th>a</th>\n",
              "      <th>b</th>\n",
              "      <th>a</th>\n",
              "      <th>b</th>\n",
              "    </tr>\n",
              "  </thead>\n",
              "  <tbody>\n",
              "    <tr>\n",
              "      <th rowspan=\"2\" valign=\"top\">a</th>\n",
              "      <th>x</th>\n",
              "      <td>100</td>\n",
              "      <td>80</td>\n",
              "      <td>89</td>\n",
              "      <td>88</td>\n",
              "    </tr>\n",
              "    <tr>\n",
              "      <th>y</th>\n",
              "      <td>100</td>\n",
              "      <td>50</td>\n",
              "      <td>84</td>\n",
              "      <td>1234</td>\n",
              "    </tr>\n",
              "    <tr>\n",
              "      <th rowspan=\"2\" valign=\"top\">b</th>\n",
              "      <th>x</th>\n",
              "      <td>100</td>\n",
              "      <td>58</td>\n",
              "      <td>63</td>\n",
              "      <td>80</td>\n",
              "    </tr>\n",
              "    <tr>\n",
              "      <th>y</th>\n",
              "      <td>100</td>\n",
              "      <td>54</td>\n",
              "      <td>77</td>\n",
              "      <td>77</td>\n",
              "    </tr>\n",
              "  </tbody>\n",
              "</table>\n",
              "</div>"
            ],
            "text/plain": [
              "       A       B      \n",
              "       a   b   a     b\n",
              "a x  100  80  89    88\n",
              "  y  100  50  84  1234\n",
              "b x  100  58  63    80\n",
              "  y  100  54  77    77"
            ]
          },
          "metadata": {
            "tags": []
          },
          "execution_count": 33
        }
      ]
    },
    {
      "cell_type": "markdown",
      "metadata": {
        "id": "zRnbXkJGYRhq"
      },
      "source": [
        "#### 10-4) Indexing - exercise"
      ]
    },
    {
      "cell_type": "code",
      "metadata": {
        "id": "37st71nNg4yB"
      },
      "source": [
        "import shelve\n",
        "import pandas as pd\n"
      ],
      "execution_count": null,
      "outputs": []
    },
    {
      "cell_type": "code",
      "metadata": {
        "id": "ll5TpCYeYRhs",
        "colab": {
          "base_uri": "https://localhost:8080/",
          "height": 373
        },
        "outputId": "7b910bb6-e197-4513-ec86-31921e7f69eb"
      },
      "source": [
        "df = shelve.open('easySample')['sample3']\n",
        "df"
      ],
      "execution_count": null,
      "outputs": [
        {
          "output_type": "execute_result",
          "data": {
            "text/html": [
              "<div>\n",
              "<style scoped>\n",
              "    .dataframe tbody tr th:only-of-type {\n",
              "        vertical-align: middle;\n",
              "    }\n",
              "\n",
              "    .dataframe tbody tr th {\n",
              "        vertical-align: top;\n",
              "    }\n",
              "\n",
              "    .dataframe thead th {\n",
              "        text-align: right;\n",
              "    }\n",
              "</style>\n",
              "<table border=\"1\" class=\"dataframe\">\n",
              "  <thead>\n",
              "    <tr style=\"text-align: right;\">\n",
              "      <th></th>\n",
              "      <th>pname</th>\n",
              "      <th>birth</th>\n",
              "      <th>dept</th>\n",
              "      <th>english</th>\n",
              "      <th>japanese</th>\n",
              "      <th>chinese</th>\n",
              "      <th>salary</th>\n",
              "      <th>overtime</th>\n",
              "    </tr>\n",
              "    <tr>\n",
              "      <th>ID</th>\n",
              "      <th></th>\n",
              "      <th></th>\n",
              "      <th></th>\n",
              "      <th></th>\n",
              "      <th></th>\n",
              "      <th></th>\n",
              "      <th></th>\n",
              "      <th></th>\n",
              "    </tr>\n",
              "  </thead>\n",
              "  <tbody>\n",
              "    <tr>\n",
              "      <th>18030201</th>\n",
              "      <td>James Kim</td>\n",
              "      <td>1990-01-23</td>\n",
              "      <td>Education</td>\n",
              "      <td>1</td>\n",
              "      <td>1</td>\n",
              "      <td>0</td>\n",
              "      <td>3456</td>\n",
              "      <td>23:10:10</td>\n",
              "    </tr>\n",
              "    <tr>\n",
              "      <th>18030202</th>\n",
              "      <td>Rose Hwang</td>\n",
              "      <td>1992-10-11</td>\n",
              "      <td>Marketing</td>\n",
              "      <td>0</td>\n",
              "      <td>2</td>\n",
              "      <td>0</td>\n",
              "      <td>4320</td>\n",
              "      <td>10:15:17</td>\n",
              "    </tr>\n",
              "    <tr>\n",
              "      <th>19030401</th>\n",
              "      <td>Sam Park</td>\n",
              "      <td>1995-07-02</td>\n",
              "      <td>Education</td>\n",
              "      <td>1</td>\n",
              "      <td>0</td>\n",
              "      <td>0</td>\n",
              "      <td>5600</td>\n",
              "      <td>16:21:10</td>\n",
              "    </tr>\n",
              "    <tr>\n",
              "      <th>19070101</th>\n",
              "      <td>Chris Jang</td>\n",
              "      <td>1990-11-23</td>\n",
              "      <td>Education</td>\n",
              "      <td>0</td>\n",
              "      <td>0</td>\n",
              "      <td>3</td>\n",
              "      <td>4500</td>\n",
              "      <td>15:00:20</td>\n",
              "    </tr>\n",
              "    <tr>\n",
              "      <th>19070102</th>\n",
              "      <td>Grace Lee</td>\n",
              "      <td>1993-02-01</td>\n",
              "      <td>Marketing</td>\n",
              "      <td>0</td>\n",
              "      <td>0</td>\n",
              "      <td>0</td>\n",
              "      <td>3150</td>\n",
              "      <td>21:19:50</td>\n",
              "    </tr>\n",
              "    <tr>\n",
              "      <th>19070103</th>\n",
              "      <td>Juile Yoon</td>\n",
              "      <td>1992-07-16</td>\n",
              "      <td>Education</td>\n",
              "      <td>0</td>\n",
              "      <td>0</td>\n",
              "      <td>1</td>\n",
              "      <td>4200</td>\n",
              "      <td>14:10:40</td>\n",
              "    </tr>\n",
              "    <tr>\n",
              "      <th>19080101</th>\n",
              "      <td>Chirle Song</td>\n",
              "      <td>1993-04-11</td>\n",
              "      <td>Accounting</td>\n",
              "      <td>2</td>\n",
              "      <td>0</td>\n",
              "      <td>0</td>\n",
              "      <td>4800</td>\n",
              "      <td>09:50:30</td>\n",
              "    </tr>\n",
              "    <tr>\n",
              "      <th>19080102</th>\n",
              "      <td>Bob Kim</td>\n",
              "      <td>1991-12-07</td>\n",
              "      <td>Sales</td>\n",
              "      <td>1</td>\n",
              "      <td>1</td>\n",
              "      <td>1</td>\n",
              "      <td>10100</td>\n",
              "      <td>08:40:40</td>\n",
              "    </tr>\n",
              "    <tr>\n",
              "      <th>19090201</th>\n",
              "      <td>John Park</td>\n",
              "      <td>1992-06-16</td>\n",
              "      <td>Sales</td>\n",
              "      <td>3</td>\n",
              "      <td>1</td>\n",
              "      <td>2</td>\n",
              "      <td>6840</td>\n",
              "      <td>17:30:20</td>\n",
              "    </tr>\n",
              "    <tr>\n",
              "      <th>19090202</th>\n",
              "      <td>Anne Lee</td>\n",
              "      <td>1993-05-05</td>\n",
              "      <td>Education</td>\n",
              "      <td>0</td>\n",
              "      <td>3</td>\n",
              "      <td>1</td>\n",
              "      <td>4750</td>\n",
              "      <td>19:50:20</td>\n",
              "    </tr>\n",
              "  </tbody>\n",
              "</table>\n",
              "</div>"
            ],
            "text/plain": [
              "                pname      birth        dept  ...  chinese  salary  overtime\n",
              "ID                                            ...                           \n",
              "18030201    James Kim 1990-01-23   Education  ...        0    3456  23:10:10\n",
              "18030202   Rose Hwang 1992-10-11   Marketing  ...        0    4320  10:15:17\n",
              "19030401     Sam Park 1995-07-02   Education  ...        0    5600  16:21:10\n",
              "19070101   Chris Jang 1990-11-23   Education  ...        3    4500  15:00:20\n",
              "19070102    Grace Lee 1993-02-01   Marketing  ...        0    3150  21:19:50\n",
              "19070103   Juile Yoon 1992-07-16   Education  ...        1    4200  14:10:40\n",
              "19080101  Chirle Song 1993-04-11  Accounting  ...        0    4800  09:50:30\n",
              "19080102      Bob Kim 1991-12-07       Sales  ...        1   10100  08:40:40\n",
              "19090201    John Park 1992-06-16       Sales  ...        2    6840  17:30:20\n",
              "19090202     Anne Lee 1993-05-05   Education  ...        1    4750  19:50:20\n",
              "\n",
              "[10 rows x 8 columns]"
            ]
          },
          "metadata": {
            "tags": []
          },
          "execution_count": 45
        }
      ]
    },
    {
      "cell_type": "code",
      "metadata": {
        "id": "0pH5CWDVg_w_",
        "colab": {
          "base_uri": "https://localhost:8080/",
          "height": 281
        },
        "outputId": "e1133df8-9a07-448f-9fa6-334d9fbdec46"
      },
      "source": [
        "df.info()"
      ],
      "execution_count": null,
      "outputs": [
        {
          "output_type": "stream",
          "text": [
            "<class 'pandas.core.frame.DataFrame'>\n",
            "Int64Index: 10 entries, 18030201 to 19090202\n",
            "Data columns (total 8 columns):\n",
            " #   Column    Non-Null Count  Dtype          \n",
            "---  ------    --------------  -----          \n",
            " 0   pname     10 non-null     object         \n",
            " 1   birth     10 non-null     datetime64[ns] \n",
            " 2   dept      10 non-null     category       \n",
            " 3   english   10 non-null     int32          \n",
            " 4   japanese  10 non-null     int32          \n",
            " 5   chinese   10 non-null     int32          \n",
            " 6   salary    10 non-null     int32          \n",
            " 7   overtime  10 non-null     timedelta64[ns]\n",
            "dtypes: category(1), datetime64[ns](1), int32(4), object(1), timedelta64[ns](1)\n",
            "memory usage: 682.0+ bytes\n"
          ],
          "name": "stdout"
        }
      ]
    },
    {
      "cell_type": "code",
      "metadata": {
        "id": "xOK8TgtFYRhu"
      },
      "source": [
        "# df에서 'pname', 'birth', 'dept', 'salary' 열 가져오기\n",
        "#df1 = df[['pname', 'birth', 'dept', 'salary']]\n",
        "df1 = df.loc[:, ['pname', 'birth', 'dept', 'salary']]\n",
        "df1"
      ],
      "execution_count": null,
      "outputs": []
    },
    {
      "cell_type": "code",
      "metadata": {
        "id": "yTmTAq3zYRhx",
        "colab": {
          "base_uri": "https://localhost:8080/",
          "height": 136
        },
        "outputId": "323034a1-3643-446b-8db2-53c1505a8e98"
      },
      "source": [
        "# df에서 dept가 'Education'이고 chinese가 1인 행에 대해  'pname', 'dept', 'chinese' 열 가져오기\n",
        "#df2 = df.loc[ (df['dept']=='Education') & (df['chinese'] == 1), ['pname', 'dept', 'chinese']]\n",
        "df2 = df.loc[ (df.dept =='Education') & (df.chinese == 1), ['pname', 'dept', 'chinese']]\n",
        "df2"
      ],
      "execution_count": null,
      "outputs": [
        {
          "output_type": "execute_result",
          "data": {
            "text/html": [
              "<div>\n",
              "<style scoped>\n",
              "    .dataframe tbody tr th:only-of-type {\n",
              "        vertical-align: middle;\n",
              "    }\n",
              "\n",
              "    .dataframe tbody tr th {\n",
              "        vertical-align: top;\n",
              "    }\n",
              "\n",
              "    .dataframe thead th {\n",
              "        text-align: right;\n",
              "    }\n",
              "</style>\n",
              "<table border=\"1\" class=\"dataframe\">\n",
              "  <thead>\n",
              "    <tr style=\"text-align: right;\">\n",
              "      <th></th>\n",
              "      <th>pname</th>\n",
              "      <th>dept</th>\n",
              "      <th>chinese</th>\n",
              "    </tr>\n",
              "    <tr>\n",
              "      <th>ID</th>\n",
              "      <th></th>\n",
              "      <th></th>\n",
              "      <th></th>\n",
              "    </tr>\n",
              "  </thead>\n",
              "  <tbody>\n",
              "    <tr>\n",
              "      <th>19070103</th>\n",
              "      <td>Juile Yoon</td>\n",
              "      <td>Education</td>\n",
              "      <td>1</td>\n",
              "    </tr>\n",
              "    <tr>\n",
              "      <th>19090202</th>\n",
              "      <td>Anne Lee</td>\n",
              "      <td>Education</td>\n",
              "      <td>1</td>\n",
              "    </tr>\n",
              "  </tbody>\n",
              "</table>\n",
              "</div>"
            ],
            "text/plain": [
              "               pname       dept  chinese\n",
              "ID                                      \n",
              "19070103  Juile Yoon  Education        1\n",
              "19090202    Anne Lee  Education        1"
            ]
          },
          "metadata": {
            "tags": []
          },
          "execution_count": 50
        }
      ]
    },
    {
      "cell_type": "code",
      "metadata": {
        "id": "UGVJLSQ-YRh0",
        "colab": {
          "base_uri": "https://localhost:8080/",
          "height": 166
        },
        "outputId": "fb9bf7a7-1773-4cfa-d467-c2e337ce20df"
      },
      "source": [
        "# df에서 birth의 year가 1992인 행에 대해 'birth', 'salary', 'overtime' 열 가져오기\n",
        "df3 = df.loc[df['birth'].dt.year == 1992, ['birth', 'salary', 'overtime']]\n",
        "df3"
      ],
      "execution_count": null,
      "outputs": [
        {
          "output_type": "execute_result",
          "data": {
            "text/html": [
              "<div>\n",
              "<style scoped>\n",
              "    .dataframe tbody tr th:only-of-type {\n",
              "        vertical-align: middle;\n",
              "    }\n",
              "\n",
              "    .dataframe tbody tr th {\n",
              "        vertical-align: top;\n",
              "    }\n",
              "\n",
              "    .dataframe thead th {\n",
              "        text-align: right;\n",
              "    }\n",
              "</style>\n",
              "<table border=\"1\" class=\"dataframe\">\n",
              "  <thead>\n",
              "    <tr style=\"text-align: right;\">\n",
              "      <th></th>\n",
              "      <th>birth</th>\n",
              "      <th>salary</th>\n",
              "      <th>overtime</th>\n",
              "    </tr>\n",
              "    <tr>\n",
              "      <th>ID</th>\n",
              "      <th></th>\n",
              "      <th></th>\n",
              "      <th></th>\n",
              "    </tr>\n",
              "  </thead>\n",
              "  <tbody>\n",
              "    <tr>\n",
              "      <th>18030202</th>\n",
              "      <td>1992-10-11</td>\n",
              "      <td>4320</td>\n",
              "      <td>10:15:17</td>\n",
              "    </tr>\n",
              "    <tr>\n",
              "      <th>19070103</th>\n",
              "      <td>1992-07-16</td>\n",
              "      <td>4200</td>\n",
              "      <td>14:10:40</td>\n",
              "    </tr>\n",
              "    <tr>\n",
              "      <th>19090201</th>\n",
              "      <td>1992-06-16</td>\n",
              "      <td>6840</td>\n",
              "      <td>17:30:20</td>\n",
              "    </tr>\n",
              "  </tbody>\n",
              "</table>\n",
              "</div>"
            ],
            "text/plain": [
              "              birth  salary overtime\n",
              "ID                                  \n",
              "18030202 1992-10-11    4320 10:15:17\n",
              "19070103 1992-07-16    4200 14:10:40\n",
              "19090201 1992-06-16    6840 17:30:20"
            ]
          },
          "metadata": {
            "tags": []
          },
          "execution_count": 52
        }
      ]
    },
    {
      "cell_type": "code",
      "metadata": {
        "id": "_VCmRgFt2osk",
        "colab": {
          "base_uri": "https://localhost:8080/",
          "height": 34
        },
        "outputId": "3bf90642-591a-49b0-8260-51b17ea7d23b"
      },
      "source": [
        "df.index.dtype"
      ],
      "execution_count": null,
      "outputs": [
        {
          "output_type": "execute_result",
          "data": {
            "text/plain": [
              "dtype('int64')"
            ]
          },
          "metadata": {
            "tags": []
          },
          "execution_count": 53
        }
      ]
    },
    {
      "cell_type": "code",
      "metadata": {
        "id": "DVvzBr0SYRh4",
        "colab": {
          "base_uri": "https://localhost:8080/",
          "height": 106
        },
        "outputId": "2691f0e1-9305-4d10-ad23-d4aef14f264e"
      },
      "source": [
        "# df에서 index가 19로 시작하면서 dept가 'Marketing'인 행에 대해 'pname', 'dept', 'birth' 열 가져오기\n",
        "df4 = df.loc[ ((df.index//1000000) ==19) & (df.dept=='Marketing'),\n",
        "             ['pname', 'dept', 'birth']]\n",
        "df4"
      ],
      "execution_count": null,
      "outputs": [
        {
          "output_type": "execute_result",
          "data": {
            "text/html": [
              "<div>\n",
              "<style scoped>\n",
              "    .dataframe tbody tr th:only-of-type {\n",
              "        vertical-align: middle;\n",
              "    }\n",
              "\n",
              "    .dataframe tbody tr th {\n",
              "        vertical-align: top;\n",
              "    }\n",
              "\n",
              "    .dataframe thead th {\n",
              "        text-align: right;\n",
              "    }\n",
              "</style>\n",
              "<table border=\"1\" class=\"dataframe\">\n",
              "  <thead>\n",
              "    <tr style=\"text-align: right;\">\n",
              "      <th></th>\n",
              "      <th>pname</th>\n",
              "      <th>dept</th>\n",
              "      <th>birth</th>\n",
              "    </tr>\n",
              "    <tr>\n",
              "      <th>ID</th>\n",
              "      <th></th>\n",
              "      <th></th>\n",
              "      <th></th>\n",
              "    </tr>\n",
              "  </thead>\n",
              "  <tbody>\n",
              "    <tr>\n",
              "      <th>19070102</th>\n",
              "      <td>Grace Lee</td>\n",
              "      <td>Marketing</td>\n",
              "      <td>1993-02-01</td>\n",
              "    </tr>\n",
              "  </tbody>\n",
              "</table>\n",
              "</div>"
            ],
            "text/plain": [
              "              pname       dept      birth\n",
              "ID                                       \n",
              "19070102  Grace Lee  Marketing 1993-02-01"
            ]
          },
          "metadata": {
            "tags": []
          },
          "execution_count": 54
        }
      ]
    },
    {
      "cell_type": "code",
      "metadata": {
        "id": "4MiBu31cYRiC",
        "colab": {
          "base_uri": "https://localhost:8080/",
          "height": 225
        },
        "outputId": "ad6bea6f-4373-4c17-8dd9-08e70f697d57"
      },
      "source": [
        "# df에서 english 또는 chinese가 1인 행에 대해 'pname', 'english', 'chinese' 열 가져오기\n",
        "df5 = df.loc[ (df.english == 1) | (df.chinese == 1), ['pname', 'english', 'chinese']]\n",
        "\n",
        "df5"
      ],
      "execution_count": null,
      "outputs": [
        {
          "output_type": "execute_result",
          "data": {
            "text/html": [
              "<div>\n",
              "<style scoped>\n",
              "    .dataframe tbody tr th:only-of-type {\n",
              "        vertical-align: middle;\n",
              "    }\n",
              "\n",
              "    .dataframe tbody tr th {\n",
              "        vertical-align: top;\n",
              "    }\n",
              "\n",
              "    .dataframe thead th {\n",
              "        text-align: right;\n",
              "    }\n",
              "</style>\n",
              "<table border=\"1\" class=\"dataframe\">\n",
              "  <thead>\n",
              "    <tr style=\"text-align: right;\">\n",
              "      <th></th>\n",
              "      <th>pname</th>\n",
              "      <th>english</th>\n",
              "      <th>chinese</th>\n",
              "    </tr>\n",
              "    <tr>\n",
              "      <th>ID</th>\n",
              "      <th></th>\n",
              "      <th></th>\n",
              "      <th></th>\n",
              "    </tr>\n",
              "  </thead>\n",
              "  <tbody>\n",
              "    <tr>\n",
              "      <th>18030201</th>\n",
              "      <td>James Kim</td>\n",
              "      <td>1</td>\n",
              "      <td>0</td>\n",
              "    </tr>\n",
              "    <tr>\n",
              "      <th>19030401</th>\n",
              "      <td>Sam Park</td>\n",
              "      <td>1</td>\n",
              "      <td>0</td>\n",
              "    </tr>\n",
              "    <tr>\n",
              "      <th>19070103</th>\n",
              "      <td>Juile Yoon</td>\n",
              "      <td>0</td>\n",
              "      <td>1</td>\n",
              "    </tr>\n",
              "    <tr>\n",
              "      <th>19080102</th>\n",
              "      <td>Bob Kim</td>\n",
              "      <td>1</td>\n",
              "      <td>1</td>\n",
              "    </tr>\n",
              "    <tr>\n",
              "      <th>19090202</th>\n",
              "      <td>Anne Lee</td>\n",
              "      <td>0</td>\n",
              "      <td>1</td>\n",
              "    </tr>\n",
              "  </tbody>\n",
              "</table>\n",
              "</div>"
            ],
            "text/plain": [
              "               pname  english  chinese\n",
              "ID                                    \n",
              "18030201   James Kim        1        0\n",
              "19030401    Sam Park        1        0\n",
              "19070103  Juile Yoon        0        1\n",
              "19080102     Bob Kim        1        1\n",
              "19090202    Anne Lee        0        1"
            ]
          },
          "metadata": {
            "tags": []
          },
          "execution_count": 55
        }
      ]
    },
    {
      "cell_type": "code",
      "metadata": {
        "id": "tyBhS2EBYRiG",
        "colab": {
          "base_uri": "https://localhost:8080/",
          "height": 225
        },
        "outputId": "08ba918b-d44f-4900-a66f-5eca51ff8958"
      },
      "source": [
        "# df에서 overtime이 16시간 이상인 행에 대해 'pname', 'dept', 'overtime' 열 가져오기\n",
        "\n",
        "df6 = df.loc[ (df.overtime.dt.seconds//3600) >=16, ['pname', 'dept', 'overtime']]\n",
        "\n",
        "df6"
      ],
      "execution_count": null,
      "outputs": [
        {
          "output_type": "execute_result",
          "data": {
            "text/html": [
              "<div>\n",
              "<style scoped>\n",
              "    .dataframe tbody tr th:only-of-type {\n",
              "        vertical-align: middle;\n",
              "    }\n",
              "\n",
              "    .dataframe tbody tr th {\n",
              "        vertical-align: top;\n",
              "    }\n",
              "\n",
              "    .dataframe thead th {\n",
              "        text-align: right;\n",
              "    }\n",
              "</style>\n",
              "<table border=\"1\" class=\"dataframe\">\n",
              "  <thead>\n",
              "    <tr style=\"text-align: right;\">\n",
              "      <th></th>\n",
              "      <th>pname</th>\n",
              "      <th>dept</th>\n",
              "      <th>overtime</th>\n",
              "    </tr>\n",
              "    <tr>\n",
              "      <th>ID</th>\n",
              "      <th></th>\n",
              "      <th></th>\n",
              "      <th></th>\n",
              "    </tr>\n",
              "  </thead>\n",
              "  <tbody>\n",
              "    <tr>\n",
              "      <th>18030201</th>\n",
              "      <td>James Kim</td>\n",
              "      <td>Education</td>\n",
              "      <td>23:10:10</td>\n",
              "    </tr>\n",
              "    <tr>\n",
              "      <th>19030401</th>\n",
              "      <td>Sam Park</td>\n",
              "      <td>Education</td>\n",
              "      <td>16:21:10</td>\n",
              "    </tr>\n",
              "    <tr>\n",
              "      <th>19070102</th>\n",
              "      <td>Grace Lee</td>\n",
              "      <td>Marketing</td>\n",
              "      <td>21:19:50</td>\n",
              "    </tr>\n",
              "    <tr>\n",
              "      <th>19090201</th>\n",
              "      <td>John Park</td>\n",
              "      <td>Sales</td>\n",
              "      <td>17:30:20</td>\n",
              "    </tr>\n",
              "    <tr>\n",
              "      <th>19090202</th>\n",
              "      <td>Anne Lee</td>\n",
              "      <td>Education</td>\n",
              "      <td>19:50:20</td>\n",
              "    </tr>\n",
              "  </tbody>\n",
              "</table>\n",
              "</div>"
            ],
            "text/plain": [
              "              pname       dept overtime\n",
              "ID                                     \n",
              "18030201  James Kim  Education 23:10:10\n",
              "19030401   Sam Park  Education 16:21:10\n",
              "19070102  Grace Lee  Marketing 21:19:50\n",
              "19090201  John Park      Sales 17:30:20\n",
              "19090202   Anne Lee  Education 19:50:20"
            ]
          },
          "metadata": {
            "tags": []
          },
          "execution_count": 56
        }
      ]
    }
  ]
}